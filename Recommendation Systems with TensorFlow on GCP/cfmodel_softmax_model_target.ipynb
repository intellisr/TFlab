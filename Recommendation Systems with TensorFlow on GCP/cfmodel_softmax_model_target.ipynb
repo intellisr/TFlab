{
 "cells": [
  {
   "cell_type": "markdown",
   "metadata": {
    "colab_type": "text",
    "id": "k0IFBGCx8_im"
   },
   "source": [
    "# Recommendation Systems with TensorFlow\n"
   ]
  },
  {
   "cell_type": "markdown",
   "metadata": {
    "colab_type": "text",
    "id": "Le0Z54X68_iq"
   },
   "source": [
    "# Introduction\n",
    "\n",
    "In this lab, we will create a movie recommendation system based on the [MovieLens](https://movielens.org/) dataset available [here](http://grouplens.org/datasets/movielens/).  The data consists of movies ratings (on a scale of 1 to 5).\n",
    "Specifically, we'll be using matrix factorization to learn user and movie embeddings. Concepts highlighted here are also available in the course on [Recommendation Systems](https://developers.google.com/machine-learning/recommendation/). \n",
    "\n",
    "## Objectives\n",
    "  1. Explore the MovieLens Data\n",
    "  1. Train a matrix factorization model\n",
    "  1. Inspect the Embeddings\n",
    "  1. Perform Softmax model training\n"
   ]
  },
  {
   "cell_type": "code",
   "execution_count": 1,
   "metadata": {},
   "outputs": [],
   "source": [
    "# Ensure the right version of Tensorflow is installed.\n",
    "!pip freeze | grep tensorflow==2.1"
   ]
  },
  {
   "cell_type": "code",
   "execution_count": 2,
   "metadata": {
    "cellView": "both",
    "colab": {},
    "colab_type": "code",
    "id": "8vRUh2Mzo4s1"
   },
   "outputs": [
    {
     "name": "stdout",
     "output_type": "stream",
     "text": [
      "WARNING:tensorflow:From /opt/conda/lib/python3.7/site-packages/tensorflow/python/compat/v2_compat.py:96: disable_resource_variables (from tensorflow.python.ops.variable_scope) is deprecated and will be removed in a future version.\n",
      "Instructions for updating:\n",
      "non-resource variables are not supported in the long term\n"
     ]
    }
   ],
   "source": [
    "from __future__ import print_function\n",
    "\n",
    "import numpy as np\n",
    "import pandas as pd\n",
    "import collections\n",
    "from mpl_toolkits.mplot3d import Axes3D\n",
    "from IPython import display\n",
    "from matplotlib import pyplot as plt\n",
    "import sklearn\n",
    "import sklearn.manifold\n",
    "import tensorflow.compat.v1 as tf\n",
    "tf.disable_v2_behavior()\n",
    "\n",
    "# Add some convenience functions to Pandas DataFrame.\n",
    "pd.options.display.max_rows = 10\n",
    "pd.options.display.float_format = '{:.3f}'.format\n",
    "def mask(df, key, function):\n",
    "  \"\"\"Returns a filtered dataframe, by applying function to key\"\"\"\n",
    "  return df[function(df[key])]\n",
    "\n",
    "def flatten_cols(df):\n",
    "  df.columns = [' '.join(col).strip() for col in df.columns.values]\n",
    "  return df\n",
    "\n",
    "pd.DataFrame.mask = mask\n",
    "pd.DataFrame.flatten_cols = flatten_cols"
   ]
  },
  {
   "cell_type": "code",
   "execution_count": 3,
   "metadata": {},
   "outputs": [
    {
     "name": "stdout",
     "output_type": "stream",
     "text": [
      "Collecting git+git://github.com/altair-viz/altair.git\n",
      "  Cloning git://github.com/altair-viz/altair.git to /tmp/pip-req-build-bwy1vgt2\n",
      "  Running command git clone -q git://github.com/altair-viz/altair.git /tmp/pip-req-build-bwy1vgt2\n",
      "  Installing build dependencies ... \u001b[?25ldone\n",
      "\u001b[?25h  Getting requirements to build wheel ... \u001b[?25ldone\n",
      "\u001b[?25h    Preparing wheel metadata ... \u001b[?25ldone\n",
      "\u001b[?25hCollecting toolz\n",
      "  Downloading toolz-0.11.1-py3-none-any.whl (55 kB)\n",
      "\u001b[K     |████████████████████████████████| 55 kB 3.4 MB/s eta 0:00:011\n",
      "\u001b[?25hRequirement already satisfied: numpy in /opt/conda/lib/python3.7/site-packages (from altair==4.2.0.dev0) (1.19.5)\n",
      "Requirement already satisfied: jinja2 in /opt/conda/lib/python3.7/site-packages (from altair==4.2.0.dev0) (2.11.3)\n",
      "Requirement already satisfied: entrypoints in /opt/conda/lib/python3.7/site-packages (from altair==4.2.0.dev0) (0.3)\n",
      "Requirement already satisfied: jsonschema in /opt/conda/lib/python3.7/site-packages (from altair==4.2.0.dev0) (3.2.0)\n",
      "Requirement already satisfied: pandas>=0.18 in /opt/conda/lib/python3.7/site-packages (from altair==4.2.0.dev0) (1.2.5)\n",
      "Requirement already satisfied: python-dateutil>=2.7.3 in /opt/conda/lib/python3.7/site-packages (from pandas>=0.18->altair==4.2.0.dev0) (2.8.1)\n",
      "Requirement already satisfied: pytz>=2017.3 in /opt/conda/lib/python3.7/site-packages (from pandas>=0.18->altair==4.2.0.dev0) (2021.1)\n",
      "Requirement already satisfied: six>=1.5 in /opt/conda/lib/python3.7/site-packages (from python-dateutil>=2.7.3->pandas>=0.18->altair==4.2.0.dev0) (1.16.0)\n",
      "Requirement already satisfied: MarkupSafe>=0.23 in /opt/conda/lib/python3.7/site-packages (from jinja2->altair==4.2.0.dev0) (1.1.1)\n",
      "Requirement already satisfied: pyrsistent>=0.14.0 in /opt/conda/lib/python3.7/site-packages (from jsonschema->altair==4.2.0.dev0) (0.17.3)\n",
      "Requirement already satisfied: setuptools in /opt/conda/lib/python3.7/site-packages (from jsonschema->altair==4.2.0.dev0) (49.6.0.post20210108)\n",
      "Requirement already satisfied: attrs>=17.4.0 in /opt/conda/lib/python3.7/site-packages (from jsonschema->altair==4.2.0.dev0) (21.2.0)\n",
      "Requirement already satisfied: importlib-metadata in /opt/conda/lib/python3.7/site-packages (from jsonschema->altair==4.2.0.dev0) (4.5.0)\n",
      "Requirement already satisfied: zipp>=0.5 in /opt/conda/lib/python3.7/site-packages (from importlib-metadata->jsonschema->altair==4.2.0.dev0) (3.4.1)\n",
      "Requirement already satisfied: typing-extensions>=3.6.4 in /opt/conda/lib/python3.7/site-packages (from importlib-metadata->jsonschema->altair==4.2.0.dev0) (3.10.0.0)\n",
      "Building wheels for collected packages: altair\n",
      "  Building wheel for altair (PEP 517) ... \u001b[?25ldone\n",
      "\u001b[?25h  Created wheel for altair: filename=altair-4.2.0.dev0-py3-none-any.whl size=732229 sha256=0562a5975a755ce51832ba40b6ccbc4a69261f2284a299bf3136b1f89163f9f1\n",
      "  Stored in directory: /tmp/pip-ephem-wheel-cache-6ehu778_/wheels/06/13/e0/5bd72c969fe3954ee1561739e5c58e2ddfe5c10fcdffb12faa\n",
      "Successfully built altair\n",
      "Installing collected packages: toolz, altair\n",
      "Successfully installed altair-4.2.0.dev0 toolz-0.11.1\n"
     ]
    },
    {
     "data": {
      "text/plain": [
       "DataTransformerRegistry.enable('default')"
      ]
     },
     "execution_count": 3,
     "metadata": {},
     "output_type": "execute_result"
    }
   ],
   "source": [
    "#Let's install Altair for interactive visualizations\n",
    "\n",
    "!pip install git+git://github.com/altair-viz/altair.git\n",
    "import altair as alt\n",
    "alt.data_transformers.enable('default', max_rows=None)\n",
    "#alt.renderers.enable('colab')\n"
   ]
  },
  {
   "cell_type": "markdown",
   "metadata": {
    "colab_type": "text",
    "id": "KhAVFaqCo4s5"
   },
   "source": [
    "We then download the MovieLens Data, and create DataFrames containing movies, users, and ratings."
   ]
  },
  {
   "cell_type": "code",
   "execution_count": 4,
   "metadata": {
    "cellView": "both",
    "colab": {},
    "colab_type": "code",
    "id": "O3bcgduFo4s6"
   },
   "outputs": [
    {
     "name": "stdout",
     "output_type": "stream",
     "text": [
      "Downloading movielens data...\n",
      "Done. Dataset contains:\n",
      "b'943 users\\n1682 items\\n100000 ratings\\n'\n"
     ]
    }
   ],
   "source": [
    "# Download MovieLens data.\n",
    "print(\"Downloading movielens data...\")\n",
    "from urllib.request import urlretrieve\n",
    "import zipfile\n",
    "\n",
    "urlretrieve(\"http://files.grouplens.org/datasets/movielens/ml-100k.zip\", \"movielens.zip\")\n",
    "zip_ref = zipfile.ZipFile('movielens.zip', \"r\")\n",
    "zip_ref.extractall()\n",
    "print(\"Done. Dataset contains:\")\n",
    "print(zip_ref.read('ml-100k/u.info'))"
   ]
  },
  {
   "cell_type": "code",
   "execution_count": 5,
   "metadata": {},
   "outputs": [],
   "source": [
    "# Load each data set (users, ratings, and movies).\n",
    "users_cols = ['user_id', 'age', 'sex', 'occupation', 'zip_code']\n",
    "users = pd.read_csv(\n",
    "    'ml-100k/u.user', sep='|', names=users_cols, encoding='latin-1')\n",
    "\n",
    "ratings_cols = ['user_id', 'movie_id', 'rating', 'unix_timestamp']\n",
    "ratings = pd.read_csv(\n",
    "    'ml-100k/u.data', sep='\\t', names=ratings_cols, encoding='latin-1')\n",
    "\n",
    "# The movies file contains a binary feature for each genre.\n",
    "genre_cols = [\n",
    "    \"genre_unknown\", \"Action\", \"Adventure\", \"Animation\", \"Children\", \"Comedy\",\n",
    "    \"Crime\", \"Documentary\", \"Drama\", \"Fantasy\", \"Film-Noir\", \"Horror\",\n",
    "    \"Musical\", \"Mystery\", \"Romance\", \"Sci-Fi\", \"Thriller\", \"War\", \"Western\"\n",
    "]\n",
    "movies_cols = [\n",
    "    'movie_id', 'title', 'release_date', \"video_release_date\", \"imdb_url\"\n",
    "] + genre_cols\n",
    "movies = pd.read_csv(\n",
    "    'ml-100k/u.item', sep='|', names=movies_cols, encoding='latin-1')\n",
    "\n",
    "# Since the ids start at 1, we shift them to start at 0. This will make handling of the\n",
    "# indices easier later\n",
    "users[\"user_id\"] = users[\"user_id\"].apply(lambda x: str(x-1))\n",
    "movies[\"movie_id\"] = movies[\"movie_id\"].apply(lambda x: str(x-1))\n",
    "movies[\"year\"] = movies['release_date'].apply(lambda x: str(x).split('-')[-1])\n",
    "ratings[\"movie_id\"] = ratings[\"movie_id\"].apply(lambda x: str(x-1))\n",
    "ratings[\"user_id\"] = ratings[\"user_id\"].apply(lambda x: str(x-1))\n",
    "ratings[\"rating\"] = ratings[\"rating\"].apply(lambda x: float(x))"
   ]
  },
  {
   "cell_type": "code",
   "execution_count": 6,
   "metadata": {},
   "outputs": [],
   "source": [
    "# Compute the number of movies to which a genre is assigned.\n",
    "genre_occurences = movies[genre_cols].sum().to_dict()\n",
    "\n",
    "# Since some movies can belong to more than one genre, we create different\n",
    "# 'genre' columns as follows:\n",
    "# - all_genres: all the active genres of the movie.\n",
    "# - genre: randomly sampled from the active genres.\n",
    "def mark_genres(movies, genres):\n",
    "  def get_random_genre(gs):\n",
    "    active = [genre for genre, g in zip(genres, gs) if g==1]\n",
    "    if len(active) == 0:\n",
    "      return 'Other'\n",
    "    return np.random.choice(active)\n",
    "  def get_all_genres(gs):\n",
    "    active = [genre for genre, g in zip(genres, gs) if g==1]\n",
    "    if len(active) == 0:\n",
    "      return 'Other'\n",
    "    return '-'.join(active)\n",
    "  movies['genre'] = [\n",
    "      get_random_genre(gs) for gs in zip(*[movies[genre] for genre in genres])]\n",
    "  movies['all_genres'] = [\n",
    "      get_all_genres(gs) for gs in zip(*[movies[genre] for genre in genres])]\n",
    "\n",
    "mark_genres(movies, genre_cols)\n",
    "\n",
    "# Create one merged DataFrame containing all the movielens data.\n",
    "movielens = ratings.merge(movies, on='movie_id').merge(users, on='user_id')"
   ]
  },
  {
   "cell_type": "code",
   "execution_count": 7,
   "metadata": {},
   "outputs": [],
   "source": [
    "# Utility to split the data into training and test sets.\n",
    "def split_dataframe(df, holdout_fraction=0.1):\n",
    "  \"\"\"Splits a DataFrame into training and test sets.\n",
    "  Args:\n",
    "    df: a dataframe.\n",
    "    holdout_fraction: fraction of dataframe rows to use in the test set.\n",
    "  Returns:\n",
    "    train: dataframe for training\n",
    "    test: dataframe for testing\n",
    "  \"\"\"\n",
    "  test = df.sample(frac=holdout_fraction, replace=False)\n",
    "  train = df[~df.index.isin(test.index)]\n",
    "  return train, test"
   ]
  },
  {
   "cell_type": "markdown",
   "metadata": {
    "colab_type": "text",
    "id": "bfhOILgfo4s8"
   },
   "source": [
    "# Exploring the Movielens Data\n",
    "Before we dive into model building, let's inspect our MovieLens dataset. It is usually helpful to understand the statistics of the dataset."
   ]
  },
  {
   "cell_type": "markdown",
   "metadata": {
    "colab_type": "text",
    "id": "EoB8Drqwo4s-"
   },
   "source": [
    "### Users\n",
    "We start by printing some basic statistics describing the numeric user features."
   ]
  },
  {
   "cell_type": "code",
   "execution_count": 8,
   "metadata": {
    "colab": {},
    "colab_type": "code",
    "id": "k-IRqWato4s-"
   },
   "outputs": [
    {
     "data": {
      "text/html": [
       "<div>\n",
       "<style scoped>\n",
       "    .dataframe tbody tr th:only-of-type {\n",
       "        vertical-align: middle;\n",
       "    }\n",
       "\n",
       "    .dataframe tbody tr th {\n",
       "        vertical-align: top;\n",
       "    }\n",
       "\n",
       "    .dataframe thead th {\n",
       "        text-align: right;\n",
       "    }\n",
       "</style>\n",
       "<table border=\"1\" class=\"dataframe\">\n",
       "  <thead>\n",
       "    <tr style=\"text-align: right;\">\n",
       "      <th></th>\n",
       "      <th>age</th>\n",
       "    </tr>\n",
       "  </thead>\n",
       "  <tbody>\n",
       "    <tr>\n",
       "      <th>count</th>\n",
       "      <td>943.000</td>\n",
       "    </tr>\n",
       "    <tr>\n",
       "      <th>mean</th>\n",
       "      <td>34.052</td>\n",
       "    </tr>\n",
       "    <tr>\n",
       "      <th>std</th>\n",
       "      <td>12.193</td>\n",
       "    </tr>\n",
       "    <tr>\n",
       "      <th>min</th>\n",
       "      <td>7.000</td>\n",
       "    </tr>\n",
       "    <tr>\n",
       "      <th>25%</th>\n",
       "      <td>25.000</td>\n",
       "    </tr>\n",
       "    <tr>\n",
       "      <th>50%</th>\n",
       "      <td>31.000</td>\n",
       "    </tr>\n",
       "    <tr>\n",
       "      <th>75%</th>\n",
       "      <td>43.000</td>\n",
       "    </tr>\n",
       "    <tr>\n",
       "      <th>max</th>\n",
       "      <td>73.000</td>\n",
       "    </tr>\n",
       "  </tbody>\n",
       "</table>\n",
       "</div>"
      ],
      "text/plain": [
       "          age\n",
       "count 943.000\n",
       "mean   34.052\n",
       "std    12.193\n",
       "min     7.000\n",
       "25%    25.000\n",
       "50%    31.000\n",
       "75%    43.000\n",
       "max    73.000"
      ]
     },
     "execution_count": 8,
     "metadata": {},
     "output_type": "execute_result"
    }
   ],
   "source": [
    "users.describe()"
   ]
  },
  {
   "cell_type": "markdown",
   "metadata": {
    "colab_type": "text",
    "id": "h3nZ1ARho4tC"
   },
   "source": [
    "We can also print some basic statistics describing the categorical user features"
   ]
  },
  {
   "cell_type": "code",
   "execution_count": 9,
   "metadata": {
    "colab": {},
    "colab_type": "code",
    "id": "jFGxSmTGo4tD"
   },
   "outputs": [
    {
     "data": {
      "text/html": [
       "<div>\n",
       "<style scoped>\n",
       "    .dataframe tbody tr th:only-of-type {\n",
       "        vertical-align: middle;\n",
       "    }\n",
       "\n",
       "    .dataframe tbody tr th {\n",
       "        vertical-align: top;\n",
       "    }\n",
       "\n",
       "    .dataframe thead th {\n",
       "        text-align: right;\n",
       "    }\n",
       "</style>\n",
       "<table border=\"1\" class=\"dataframe\">\n",
       "  <thead>\n",
       "    <tr style=\"text-align: right;\">\n",
       "      <th></th>\n",
       "      <th>user_id</th>\n",
       "      <th>sex</th>\n",
       "      <th>occupation</th>\n",
       "      <th>zip_code</th>\n",
       "    </tr>\n",
       "  </thead>\n",
       "  <tbody>\n",
       "    <tr>\n",
       "      <th>count</th>\n",
       "      <td>943</td>\n",
       "      <td>943</td>\n",
       "      <td>943</td>\n",
       "      <td>943</td>\n",
       "    </tr>\n",
       "    <tr>\n",
       "      <th>unique</th>\n",
       "      <td>943</td>\n",
       "      <td>2</td>\n",
       "      <td>21</td>\n",
       "      <td>795</td>\n",
       "    </tr>\n",
       "    <tr>\n",
       "      <th>top</th>\n",
       "      <td>195</td>\n",
       "      <td>M</td>\n",
       "      <td>student</td>\n",
       "      <td>55414</td>\n",
       "    </tr>\n",
       "    <tr>\n",
       "      <th>freq</th>\n",
       "      <td>1</td>\n",
       "      <td>670</td>\n",
       "      <td>196</td>\n",
       "      <td>9</td>\n",
       "    </tr>\n",
       "  </tbody>\n",
       "</table>\n",
       "</div>"
      ],
      "text/plain": [
       "       user_id  sex occupation zip_code\n",
       "count      943  943        943      943\n",
       "unique     943    2         21      795\n",
       "top        195    M    student    55414\n",
       "freq         1  670        196        9"
      ]
     },
     "execution_count": 9,
     "metadata": {},
     "output_type": "execute_result"
    }
   ],
   "source": [
    "users.describe(include=[np.object])"
   ]
  },
  {
   "cell_type": "markdown",
   "metadata": {
    "colab_type": "text",
    "id": "CH2_gW3Oo4tF"
   },
   "source": [
    "We can also create histograms to further understand the distribution of the users. We use Altair to create an interactive chart."
   ]
  },
  {
   "cell_type": "code",
   "execution_count": 10,
   "metadata": {
    "cellView": "both",
    "colab": {},
    "colab_type": "code",
    "id": "ffkqaK_zo4tF"
   },
   "outputs": [],
   "source": [
    "# The following functions are used to generate interactive Altair charts.\n",
    "# We will display histograms of the data, sliced by a given attribute.\n",
    "\n",
    "# Create filters to be used to slice the data.\n",
    "occupation_filter = alt.selection_multi(fields=[\"occupation\"])\n",
    "occupation_chart = alt.Chart().mark_bar().encode(\n",
    "    x=\"count()\",\n",
    "    y=alt.Y(\"occupation:N\"),\n",
    "    color=alt.condition(\n",
    "        occupation_filter,\n",
    "        alt.Color(\"occupation:N\", scale=alt.Scale(scheme='category20')),\n",
    "        alt.value(\"lightgray\")),\n",
    ").properties(width=300, height=300, selection=occupation_filter)\n",
    "\n",
    "# A function that generates a histogram of filtered data.\n",
    "def filtered_hist(field, label, filter):\n",
    "  \"\"\"Creates a layered chart of histograms.\n",
    "  The first layer (light gray) contains the histogram of the full data, and the\n",
    "  second contains the histogram of the filtered data.\n",
    "  Args:\n",
    "    field: the field for which to generate the histogram.\n",
    "    label: String label of the histogram.\n",
    "    filter: an alt.Selection object to be used to filter the data.\n",
    "  \"\"\"\n",
    "  base = alt.Chart().mark_bar().encode(\n",
    "      x=alt.X(field, bin=alt.Bin(maxbins=10), title=label),\n",
    "      y=\"count()\",\n",
    "  ).properties(\n",
    "      width=300,\n",
    "  )\n",
    "  return alt.layer(\n",
    "      base.transform_filter(filter),\n",
    "      base.encode(color=alt.value('lightgray'), opacity=alt.value(.7)),\n",
    "  ).resolve_scale(y='independent')\n"
   ]
  },
  {
   "cell_type": "markdown",
   "metadata": {
    "colab_type": "text",
    "id": "D93Jn4Pao4tH"
   },
   "source": [
    "Next, we look at the distribution of ratings per user. Clicking on an occupation in the right chart will filter the data by that occupation. The corresponding histogram is shown in blue, and superimposed with the histogram for the whole data (in light gray). You can use SHIFT+click to select multiple subsets.\n",
    "\n",
    "What do you observe, and how might this affect the recommendations?"
   ]
  },
  {
   "cell_type": "code",
   "execution_count": 11,
   "metadata": {
    "colab": {},
    "colab_type": "code",
    "id": "x4ahcH2do4tI"
   },
   "outputs": [
    {
     "data": {
      "text/html": [
       "\n",
       "<div id=\"altair-viz-d4305605e5dc47d9a381b79489d98529\"></div>\n",
       "<script type=\"text/javascript\">\n",
       "  (function(spec, embedOpt){\n",
       "    let outputDiv = document.currentScript.previousElementSibling;\n",
       "    if (outputDiv.id !== \"altair-viz-d4305605e5dc47d9a381b79489d98529\") {\n",
       "      outputDiv = document.getElementById(\"altair-viz-d4305605e5dc47d9a381b79489d98529\");\n",
       "    }\n",
       "    const paths = {\n",
       "      \"vega\": \"https://cdn.jsdelivr.net/npm//vega@5?noext\",\n",
       "      \"vega-lib\": \"https://cdn.jsdelivr.net/npm//vega-lib?noext\",\n",
       "      \"vega-lite\": \"https://cdn.jsdelivr.net/npm//vega-lite@4.8.1?noext\",\n",
       "      \"vega-embed\": \"https://cdn.jsdelivr.net/npm//vega-embed@6?noext\",\n",
       "    };\n",
       "\n",
       "    function loadScript(lib) {\n",
       "      return new Promise(function(resolve, reject) {\n",
       "        var s = document.createElement('script');\n",
       "        s.src = paths[lib];\n",
       "        s.async = true;\n",
       "        s.onload = () => resolve(paths[lib]);\n",
       "        s.onerror = () => reject(`Error loading script: ${paths[lib]}`);\n",
       "        document.getElementsByTagName(\"head\")[0].appendChild(s);\n",
       "      });\n",
       "    }\n",
       "\n",
       "    function showError(err) {\n",
       "      outputDiv.innerHTML = `<div class=\"error\" style=\"color:red;\">${err}</div>`;\n",
       "      throw err;\n",
       "    }\n",
       "\n",
       "    function displayChart(vegaEmbed) {\n",
       "      vegaEmbed(outputDiv, spec, embedOpt)\n",
       "        .catch(err => showError(`Javascript Error: ${err.message}<br>This usually means there's a typo in your chart specification. See the javascript console for the full traceback.`));\n",
       "    }\n",
       "\n",
       "    if(typeof define === \"function\" && define.amd) {\n",
       "      requirejs.config({paths});\n",
       "      require([\"vega-embed\"], displayChart, err => showError(`Error loading script: ${err.message}`));\n",
       "    } else if (typeof vegaEmbed === \"function\") {\n",
       "      displayChart(vegaEmbed);\n",
       "    } else {\n",
       "      loadScript(\"vega\")\n",
       "        .then(() => loadScript(\"vega-lite\"))\n",
       "        .then(() => loadScript(\"vega-embed\"))\n",
       "        .catch(showError)\n",
       "        .then(() => displayChart(vegaEmbed));\n",
       "    }\n",
       "  })({\"config\": {\"view\": {\"continuousWidth\": 400, \"continuousHeight\": 300}}, \"hconcat\": [{\"layer\": [{\"mark\": \"bar\", \"encoding\": {\"x\": {\"type\": \"quantitative\", \"bin\": {\"maxbins\": 10}, \"field\": \"rating count\", \"title\": \"# ratings / user\"}, \"y\": {\"type\": \"quantitative\", \"aggregate\": \"count\"}}, \"transform\": [{\"filter\": {\"selection\": \"selector001\"}}], \"width\": 300}, {\"mark\": \"bar\", \"encoding\": {\"color\": {\"value\": \"lightgray\"}, \"opacity\": {\"value\": 0.7}, \"x\": {\"type\": \"quantitative\", \"bin\": {\"maxbins\": 10}, \"field\": \"rating count\", \"title\": \"# ratings / user\"}, \"y\": {\"type\": \"quantitative\", \"aggregate\": \"count\"}}, \"width\": 300}], \"resolve\": {\"scale\": {\"y\": \"independent\"}}}, {\"layer\": [{\"mark\": \"bar\", \"encoding\": {\"x\": {\"type\": \"quantitative\", \"bin\": {\"maxbins\": 10}, \"field\": \"rating mean\", \"title\": \"mean user rating\"}, \"y\": {\"type\": \"quantitative\", \"aggregate\": \"count\"}}, \"transform\": [{\"filter\": {\"selection\": \"selector001\"}}], \"width\": 300}, {\"mark\": \"bar\", \"encoding\": {\"color\": {\"value\": \"lightgray\"}, \"opacity\": {\"value\": 0.7}, \"x\": {\"type\": \"quantitative\", \"bin\": {\"maxbins\": 10}, \"field\": \"rating mean\", \"title\": \"mean user rating\"}, \"y\": {\"type\": \"quantitative\", \"aggregate\": \"count\"}}, \"width\": 300}], \"resolve\": {\"scale\": {\"y\": \"independent\"}}}, {\"mark\": \"bar\", \"encoding\": {\"color\": {\"condition\": {\"type\": \"nominal\", \"field\": \"occupation\", \"scale\": {\"scheme\": \"category20\"}, \"selection\": \"selector001\"}, \"value\": \"lightgray\"}, \"x\": {\"type\": \"quantitative\", \"aggregate\": \"count\"}, \"y\": {\"type\": \"nominal\", \"field\": \"occupation\"}}, \"height\": 300, \"selection\": {\"selector001\": {\"type\": \"multi\", \"fields\": [\"occupation\"]}}, \"width\": 300}], \"data\": {\"name\": \"data-0a8ad5fc1bdd6eda8744332d1a98f159\"}, \"$schema\": \"https://vega.github.io/schema/vega-lite/v4.8.1.json\", \"datasets\": {\"data-0a8ad5fc1bdd6eda8744332d1a98f159\": [{\"user_id\": \"0\", \"rating count\": 272, \"rating mean\": 3.610294117647059, \"age\": 24, \"sex\": \"M\", \"occupation\": \"technician\", \"zip_code\": \"85711\"}, {\"user_id\": \"1\", \"rating count\": 62, \"rating mean\": 3.7096774193548385, \"age\": 53, \"sex\": \"F\", \"occupation\": \"other\", \"zip_code\": \"94043\"}, {\"user_id\": \"10\", \"rating count\": 181, \"rating mean\": 3.4640883977900554, \"age\": 39, \"sex\": \"F\", \"occupation\": \"other\", \"zip_code\": \"30329\"}, {\"user_id\": \"100\", \"rating count\": 67, \"rating mean\": 2.8955223880597014, \"age\": 15, \"sex\": \"M\", \"occupation\": \"student\", \"zip_code\": \"05146\"}, {\"user_id\": \"101\", \"rating count\": 216, \"rating mean\": 2.615740740740741, \"age\": 38, \"sex\": \"M\", \"occupation\": \"programmer\", \"zip_code\": \"30220\"}, {\"user_id\": \"102\", \"rating count\": 29, \"rating mean\": 3.6206896551724137, \"age\": 26, \"sex\": \"M\", \"occupation\": \"student\", \"zip_code\": \"55108\"}, {\"user_id\": \"103\", \"rating count\": 111, \"rating mean\": 2.6666666666666665, \"age\": 27, \"sex\": \"M\", \"occupation\": \"student\", \"zip_code\": \"55108\"}, {\"user_id\": \"104\", \"rating count\": 23, \"rating mean\": 3.391304347826087, \"age\": 24, \"sex\": \"M\", \"occupation\": \"engineer\", \"zip_code\": \"94043\"}, {\"user_id\": \"105\", \"rating count\": 64, \"rating mean\": 3.765625, \"age\": 61, \"sex\": \"M\", \"occupation\": \"retired\", \"zip_code\": \"55125\"}, {\"user_id\": \"106\", \"rating count\": 22, \"rating mean\": 3.0, \"age\": 39, \"sex\": \"M\", \"occupation\": \"scientist\", \"zip_code\": \"60466\"}, {\"user_id\": \"107\", \"rating count\": 33, \"rating mean\": 3.5757575757575757, \"age\": 44, \"sex\": \"M\", \"occupation\": \"educator\", \"zip_code\": \"63130\"}, {\"user_id\": \"108\", \"rating count\": 234, \"rating mean\": 3.4401709401709404, \"age\": 29, \"sex\": \"M\", \"occupation\": \"other\", \"zip_code\": \"55423\"}, {\"user_id\": \"109\", \"rating count\": 133, \"rating mean\": 3.045112781954887, \"age\": 19, \"sex\": \"M\", \"occupation\": \"student\", \"zip_code\": \"77840\"}, {\"user_id\": \"11\", \"rating count\": 51, \"rating mean\": 4.392156862745098, \"age\": 28, \"sex\": \"F\", \"occupation\": \"other\", \"zip_code\": \"06405\"}, {\"user_id\": \"110\", \"rating count\": 24, \"rating mean\": 3.5416666666666665, \"age\": 57, \"sex\": \"M\", \"occupation\": \"engineer\", \"zip_code\": \"90630\"}, {\"user_id\": \"111\", \"rating count\": 46, \"rating mean\": 3.6956521739130435, \"age\": 30, \"sex\": \"M\", \"occupation\": \"salesman\", \"zip_code\": \"60613\"}, {\"user_id\": \"112\", \"rating count\": 51, \"rating mean\": 3.7254901960784315, \"age\": 47, \"sex\": \"M\", \"occupation\": \"executive\", \"zip_code\": \"95032\"}, {\"user_id\": \"113\", \"rating count\": 48, \"rating mean\": 3.6041666666666665, \"age\": 27, \"sex\": \"M\", \"occupation\": \"programmer\", \"zip_code\": \"75013\"}, {\"user_id\": \"114\", \"rating count\": 92, \"rating mean\": 3.9347826086956523, \"age\": 31, \"sex\": \"M\", \"occupation\": \"engineer\", \"zip_code\": \"17110\"}, {\"user_id\": \"115\", \"rating count\": 143, \"rating mean\": 3.006993006993007, \"age\": 40, \"sex\": \"M\", \"occupation\": \"healthcare\", \"zip_code\": \"97232\"}, {\"user_id\": \"116\", \"rating count\": 86, \"rating mean\": 3.9186046511627906, \"age\": 20, \"sex\": \"M\", \"occupation\": \"student\", \"zip_code\": \"16125\"}, {\"user_id\": \"117\", \"rating count\": 71, \"rating mean\": 4.661971830985915, \"age\": 21, \"sex\": \"M\", \"occupation\": \"administrator\", \"zip_code\": \"90210\"}, {\"user_id\": \"118\", \"rating count\": 181, \"rating mean\": 3.9502762430939224, \"age\": 32, \"sex\": \"M\", \"occupation\": \"programmer\", \"zip_code\": \"67401\"}, {\"user_id\": \"119\", \"rating count\": 26, \"rating mean\": 3.576923076923077, \"age\": 47, \"sex\": \"F\", \"occupation\": \"other\", \"zip_code\": \"06260\"}, {\"user_id\": \"12\", \"rating count\": 636, \"rating mean\": 3.09748427672956, \"age\": 47, \"sex\": \"M\", \"occupation\": \"educator\", \"zip_code\": \"29206\"}, {\"user_id\": \"120\", \"rating count\": 74, \"rating mean\": 3.608108108108108, \"age\": 54, \"sex\": \"M\", \"occupation\": \"librarian\", \"zip_code\": \"99603\"}, {\"user_id\": \"121\", \"rating count\": 61, \"rating mean\": 3.9836065573770494, \"age\": 32, \"sex\": \"F\", \"occupation\": \"writer\", \"zip_code\": \"22206\"}, {\"user_id\": \"122\", \"rating count\": 54, \"rating mean\": 3.8518518518518516, \"age\": 48, \"sex\": \"F\", \"occupation\": \"artist\", \"zip_code\": \"20008\"}, {\"user_id\": \"123\", \"rating count\": 24, \"rating mean\": 3.5, \"age\": 34, \"sex\": \"M\", \"occupation\": \"student\", \"zip_code\": \"60615\"}, {\"user_id\": \"124\", \"rating count\": 182, \"rating mean\": 3.4395604395604398, \"age\": 30, \"sex\": \"M\", \"occupation\": \"lawyer\", \"zip_code\": \"22202\"}, {\"user_id\": \"125\", \"rating count\": 45, \"rating mean\": 3.533333333333333, \"age\": 28, \"sex\": \"F\", \"occupation\": \"lawyer\", \"zip_code\": \"20015\"}, {\"user_id\": \"126\", \"rating count\": 23, \"rating mean\": 4.130434782608695, \"age\": 33, \"sex\": \"M\", \"occupation\": \"none\", \"zip_code\": \"73439\"}, {\"user_id\": \"127\", \"rating count\": 184, \"rating mean\": 3.6630434782608696, \"age\": 24, \"sex\": \"F\", \"occupation\": \"marketing\", \"zip_code\": \"20009\"}, {\"user_id\": \"128\", \"rating count\": 30, \"rating mean\": 2.6, \"age\": 36, \"sex\": \"F\", \"occupation\": \"marketing\", \"zip_code\": \"07039\"}, {\"user_id\": \"129\", \"rating count\": 353, \"rating mean\": 3.9858356940509916, \"age\": 20, \"sex\": \"M\", \"occupation\": \"none\", \"zip_code\": \"60115\"}, {\"user_id\": \"13\", \"rating count\": 98, \"rating mean\": 4.091836734693878, \"age\": 45, \"sex\": \"M\", \"occupation\": \"scientist\", \"zip_code\": \"55106\"}, {\"user_id\": \"130\", \"rating count\": 30, \"rating mean\": 4.133333333333334, \"age\": 59, \"sex\": \"F\", \"occupation\": \"administrator\", \"zip_code\": \"15237\"}, {\"user_id\": \"131\", \"rating count\": 22, \"rating mean\": 3.772727272727273, \"age\": 24, \"sex\": \"M\", \"occupation\": \"other\", \"zip_code\": \"94612\"}, {\"user_id\": \"132\", \"rating count\": 26, \"rating mean\": 3.1923076923076925, \"age\": 53, \"sex\": \"M\", \"occupation\": \"engineer\", \"zip_code\": \"78602\"}, {\"user_id\": \"133\", \"rating count\": 25, \"rating mean\": 3.64, \"age\": 31, \"sex\": \"M\", \"occupation\": \"programmer\", \"zip_code\": \"80236\"}, {\"user_id\": \"134\", \"rating count\": 55, \"rating mean\": 3.381818181818182, \"age\": 23, \"sex\": \"M\", \"occupation\": \"student\", \"zip_code\": \"38401\"}, {\"user_id\": \"135\", \"rating count\": 35, \"rating mean\": 4.3428571428571425, \"age\": 51, \"sex\": \"M\", \"occupation\": \"other\", \"zip_code\": \"97365\"}, {\"user_id\": \"136\", \"rating count\": 47, \"rating mean\": 4.319148936170213, \"age\": 50, \"sex\": \"M\", \"occupation\": \"educator\", \"zip_code\": \"84408\"}, {\"user_id\": \"137\", \"rating count\": 51, \"rating mean\": 4.2745098039215685, \"age\": 46, \"sex\": \"M\", \"occupation\": \"doctor\", \"zip_code\": \"53211\"}, {\"user_id\": \"138\", \"rating count\": 24, \"rating mean\": 4.0, \"age\": 20, \"sex\": \"M\", \"occupation\": \"student\", \"zip_code\": \"08904\"}, {\"user_id\": \"139\", \"rating count\": 21, \"rating mean\": 3.4285714285714284, \"age\": 30, \"sex\": \"F\", \"occupation\": \"student\", \"zip_code\": \"32250\"}, {\"user_id\": \"14\", \"rating count\": 104, \"rating mean\": 2.875, \"age\": 49, \"sex\": \"F\", \"occupation\": \"educator\", \"zip_code\": \"97301\"}, {\"user_id\": \"140\", \"rating count\": 107, \"rating mean\": 3.4299065420560746, \"age\": 49, \"sex\": \"M\", \"occupation\": \"programmer\", \"zip_code\": \"36117\"}, {\"user_id\": \"141\", \"rating count\": 33, \"rating mean\": 3.6363636363636362, \"age\": 13, \"sex\": \"M\", \"occupation\": \"other\", \"zip_code\": \"48118\"}, {\"user_id\": \"142\", \"rating count\": 20, \"rating mean\": 3.9, \"age\": 42, \"sex\": \"M\", \"occupation\": \"technician\", \"zip_code\": \"08832\"}, {\"user_id\": \"143\", \"rating count\": 206, \"rating mean\": 3.674757281553398, \"age\": 53, \"sex\": \"M\", \"occupation\": \"programmer\", \"zip_code\": \"20910\"}, {\"user_id\": \"144\", \"rating count\": 316, \"rating mean\": 3.3354430379746836, \"age\": 31, \"sex\": \"M\", \"occupation\": \"entertainment\", \"zip_code\": \"V3N4P\"}, {\"user_id\": \"145\", \"rating count\": 29, \"rating mean\": 3.6206896551724137, \"age\": 45, \"sex\": \"M\", \"occupation\": \"artist\", \"zip_code\": \"83814\"}, {\"user_id\": \"146\", \"rating count\": 20, \"rating mean\": 4.2, \"age\": 40, \"sex\": \"F\", \"occupation\": \"librarian\", \"zip_code\": \"02143\"}, {\"user_id\": \"147\", \"rating count\": 65, \"rating mean\": 4.0, \"age\": 33, \"sex\": \"M\", \"occupation\": \"engineer\", \"zip_code\": \"97006\"}, {\"user_id\": \"148\", \"rating count\": 36, \"rating mean\": 2.888888888888889, \"age\": 35, \"sex\": \"F\", \"occupation\": \"marketing\", \"zip_code\": \"17325\"}, {\"user_id\": \"149\", \"rating count\": 32, \"rating mean\": 3.84375, \"age\": 20, \"sex\": \"F\", \"occupation\": \"artist\", \"zip_code\": \"02139\"}, {\"user_id\": \"15\", \"rating count\": 140, \"rating mean\": 4.328571428571428, \"age\": 21, \"sex\": \"M\", \"occupation\": \"entertainment\", \"zip_code\": \"10309\"}, {\"user_id\": \"150\", \"rating count\": 307, \"rating mean\": 3.996742671009772, \"age\": 38, \"sex\": \"F\", \"occupation\": \"administrator\", \"zip_code\": \"48103\"}, {\"user_id\": \"151\", \"rating count\": 106, \"rating mean\": 4.320754716981132, \"age\": 33, \"sex\": \"F\", \"occupation\": \"educator\", \"zip_code\": \"68767\"}, {\"user_id\": \"152\", \"rating count\": 23, \"rating mean\": 2.9565217391304346, \"age\": 25, \"sex\": \"M\", \"occupation\": \"student\", \"zip_code\": \"60641\"}, {\"user_id\": \"153\", \"rating count\": 51, \"rating mean\": 3.9607843137254903, \"age\": 25, \"sex\": \"M\", \"occupation\": \"student\", \"zip_code\": \"53703\"}, {\"user_id\": \"154\", \"rating count\": 22, \"rating mean\": 2.6363636363636362, \"age\": 32, \"sex\": \"F\", \"occupation\": \"other\", \"zip_code\": \"11217\"}, {\"user_id\": \"155\", \"rating count\": 37, \"rating mean\": 3.72972972972973, \"age\": 25, \"sex\": \"M\", \"occupation\": \"educator\", \"zip_code\": \"08360\"}, {\"user_id\": \"156\", \"rating count\": 51, \"rating mean\": 3.784313725490196, \"age\": 57, \"sex\": \"M\", \"occupation\": \"engineer\", \"zip_code\": \"70808\"}, {\"user_id\": \"157\", \"rating count\": 173, \"rating mean\": 3.8034682080924855, \"age\": 50, \"sex\": \"M\", \"occupation\": \"educator\", \"zip_code\": \"27606\"}, {\"user_id\": \"158\", \"rating count\": 107, \"rating mean\": 3.4299065420560746, \"age\": 23, \"sex\": \"F\", \"occupation\": \"student\", \"zip_code\": \"55346\"}, {\"user_id\": \"159\", \"rating count\": 120, \"rating mean\": 3.9166666666666665, \"age\": 27, \"sex\": \"M\", \"occupation\": \"programmer\", \"zip_code\": \"66215\"}, {\"user_id\": \"16\", \"rating count\": 28, \"rating mean\": 3.0357142857142856, \"age\": 30, \"sex\": \"M\", \"occupation\": \"programmer\", \"zip_code\": \"06355\"}, {\"user_id\": \"160\", \"rating count\": 58, \"rating mean\": 2.5517241379310347, \"age\": 50, \"sex\": \"M\", \"occupation\": \"lawyer\", \"zip_code\": \"55104\"}, {\"user_id\": \"161\", \"rating count\": 42, \"rating mean\": 3.5952380952380953, \"age\": 25, \"sex\": \"M\", \"occupation\": \"artist\", \"zip_code\": \"15610\"}, {\"user_id\": \"162\", \"rating count\": 23, \"rating mean\": 3.3043478260869565, \"age\": 49, \"sex\": \"M\", \"occupation\": \"administrator\", \"zip_code\": \"97212\"}, {\"user_id\": \"163\", \"rating count\": 63, \"rating mean\": 4.126984126984127, \"age\": 47, \"sex\": \"M\", \"occupation\": \"healthcare\", \"zip_code\": \"80123\"}, {\"user_id\": \"164\", \"rating count\": 30, \"rating mean\": 4.0, \"age\": 20, \"sex\": \"F\", \"occupation\": \"other\", \"zip_code\": \"53715\"}, {\"user_id\": \"165\", \"rating count\": 20, \"rating mean\": 3.55, \"age\": 47, \"sex\": \"M\", \"occupation\": \"educator\", \"zip_code\": \"55113\"}, {\"user_id\": \"166\", \"rating count\": 69, \"rating mean\": 3.3768115942028984, \"age\": 37, \"sex\": \"M\", \"occupation\": \"other\", \"zip_code\": \"L9G2B\"}, {\"user_id\": \"167\", \"rating count\": 69, \"rating mean\": 3.3333333333333335, \"age\": 48, \"sex\": \"M\", \"occupation\": \"other\", \"zip_code\": \"80127\"}, {\"user_id\": \"168\", \"rating count\": 37, \"rating mean\": 3.972972972972973, \"age\": 52, \"sex\": \"F\", \"occupation\": \"other\", \"zip_code\": \"53705\"}, {\"user_id\": \"169\", \"rating count\": 22, \"rating mean\": 3.772727272727273, \"age\": 53, \"sex\": \"F\", \"occupation\": \"healthcare\", \"zip_code\": \"30067\"}, {\"user_id\": \"17\", \"rating count\": 277, \"rating mean\": 3.88086642599278, \"age\": 35, \"sex\": \"F\", \"occupation\": \"other\", \"zip_code\": \"37212\"}, {\"user_id\": \"170\", \"rating count\": 28, \"rating mean\": 3.4642857142857144, \"age\": 48, \"sex\": \"F\", \"occupation\": \"educator\", \"zip_code\": \"78750\"}, {\"user_id\": \"171\", \"rating count\": 27, \"rating mean\": 3.185185185185185, \"age\": 55, \"sex\": \"M\", \"occupation\": \"marketing\", \"zip_code\": \"22207\"}, {\"user_id\": \"172\", \"rating count\": 43, \"rating mean\": 4.209302325581396, \"age\": 56, \"sex\": \"M\", \"occupation\": \"other\", \"zip_code\": \"22306\"}, {\"user_id\": \"173\", \"rating count\": 177, \"rating mean\": 3.5819209039548023, \"age\": 30, \"sex\": \"F\", \"occupation\": \"administrator\", \"zip_code\": \"52302\"}, {\"user_id\": \"174\", \"rating count\": 38, \"rating mean\": 3.736842105263158, \"age\": 26, \"sex\": \"F\", \"occupation\": \"scientist\", \"zip_code\": \"21911\"}, {\"user_id\": \"175\", \"rating count\": 63, \"rating mean\": 3.6984126984126986, \"age\": 28, \"sex\": \"M\", \"occupation\": \"scientist\", \"zip_code\": \"07030\"}, {\"user_id\": \"176\", \"rating count\": 115, \"rating mean\": 3.617391304347826, \"age\": 20, \"sex\": \"M\", \"occupation\": \"programmer\", \"zip_code\": \"19104\"}, {\"user_id\": \"177\", \"rating count\": 273, \"rating mean\": 3.681318681318681, \"age\": 26, \"sex\": \"M\", \"occupation\": \"other\", \"zip_code\": \"49512\"}, {\"user_id\": \"178\", \"rating count\": 42, \"rating mean\": 3.0476190476190474, \"age\": 15, \"sex\": \"M\", \"occupation\": \"entertainment\", \"zip_code\": \"20755\"}, {\"user_id\": \"179\", \"rating count\": 63, \"rating mean\": 3.9365079365079363, \"age\": 22, \"sex\": \"F\", \"occupation\": \"administrator\", \"zip_code\": \"60202\"}, {\"user_id\": \"18\", \"rating count\": 20, \"rating mean\": 3.55, \"age\": 40, \"sex\": \"M\", \"occupation\": \"librarian\", \"zip_code\": \"02138\"}, {\"user_id\": \"180\", \"rating count\": 435, \"rating mean\": 1.4919540229885058, \"age\": 26, \"sex\": \"M\", \"occupation\": \"executive\", \"zip_code\": \"21218\"}, {\"user_id\": \"181\", \"rating count\": 28, \"rating mean\": 3.857142857142857, \"age\": 36, \"sex\": \"M\", \"occupation\": \"programmer\", \"zip_code\": \"33884\"}, {\"user_id\": \"182\", \"rating count\": 53, \"rating mean\": 3.188679245283019, \"age\": 33, \"sex\": \"M\", \"occupation\": \"scientist\", \"zip_code\": \"27708\"}, {\"user_id\": \"183\", \"rating count\": 251, \"rating mean\": 3.6613545816733066, \"age\": 37, \"sex\": \"M\", \"occupation\": \"librarian\", \"zip_code\": \"76013\"}, {\"user_id\": \"184\", \"rating count\": 48, \"rating mean\": 4.041666666666667, \"age\": 53, \"sex\": \"F\", \"occupation\": \"librarian\", \"zip_code\": \"97403\"}, {\"user_id\": \"185\", \"rating count\": 92, \"rating mean\": 3.4130434782608696, \"age\": 39, \"sex\": \"F\", \"occupation\": \"executive\", \"zip_code\": \"00000\"}, {\"user_id\": \"186\", \"rating count\": 56, \"rating mean\": 4.071428571428571, \"age\": 26, \"sex\": \"M\", \"occupation\": \"educator\", \"zip_code\": \"16801\"}, {\"user_id\": \"187\", \"rating count\": 112, \"rating mean\": 3.767857142857143, \"age\": 42, \"sex\": \"M\", \"occupation\": \"student\", \"zip_code\": \"29440\"}, {\"user_id\": \"188\", \"rating count\": 187, \"rating mean\": 3.978609625668449, \"age\": 32, \"sex\": \"M\", \"occupation\": \"artist\", \"zip_code\": \"95014\"}, {\"user_id\": \"189\", \"rating count\": 59, \"rating mean\": 3.3220338983050848, \"age\": 30, \"sex\": \"M\", \"occupation\": \"administrator\", \"zip_code\": \"95938\"}, {\"user_id\": \"19\", \"rating count\": 48, \"rating mean\": 3.1041666666666665, \"age\": 42, \"sex\": \"F\", \"occupation\": \"homemaker\", \"zip_code\": \"95660\"}, {\"user_id\": \"190\", \"rating count\": 27, \"rating mean\": 3.6296296296296298, \"age\": 33, \"sex\": \"M\", \"occupation\": \"administrator\", \"zip_code\": \"95161\"}, {\"user_id\": \"191\", \"rating count\": 35, \"rating mean\": 3.5142857142857142, \"age\": 42, \"sex\": \"M\", \"occupation\": \"educator\", \"zip_code\": \"90840\"}, {\"user_id\": \"192\", \"rating count\": 121, \"rating mean\": 3.165289256198347, \"age\": 29, \"sex\": \"M\", \"occupation\": \"student\", \"zip_code\": \"49931\"}, {\"user_id\": \"193\", \"rating count\": 305, \"rating mean\": 2.963934426229508, \"age\": 38, \"sex\": \"M\", \"occupation\": \"administrator\", \"zip_code\": \"02154\"}, {\"user_id\": \"194\", \"rating count\": 96, \"rating mean\": 3.2916666666666665, \"age\": 42, \"sex\": \"M\", \"occupation\": \"scientist\", \"zip_code\": \"93555\"}, {\"user_id\": \"195\", \"rating count\": 39, \"rating mean\": 3.6153846153846154, \"age\": 49, \"sex\": \"M\", \"occupation\": \"writer\", \"zip_code\": \"55105\"}, {\"user_id\": \"196\", \"rating count\": 118, \"rating mean\": 3.3389830508474576, \"age\": 55, \"sex\": \"M\", \"occupation\": \"technician\", \"zip_code\": \"75094\"}, {\"user_id\": \"197\", \"rating count\": 181, \"rating mean\": 3.276243093922652, \"age\": 21, \"sex\": \"F\", \"occupation\": \"student\", \"zip_code\": \"55414\"}, {\"user_id\": \"198\", \"rating count\": 40, \"rating mean\": 2.95, \"age\": 30, \"sex\": \"M\", \"occupation\": \"writer\", \"zip_code\": \"17604\"}, {\"user_id\": \"199\", \"rating count\": 216, \"rating mean\": 4.032407407407407, \"age\": 40, \"sex\": \"M\", \"occupation\": \"programmer\", \"zip_code\": \"93402\"}, {\"user_id\": \"2\", \"rating count\": 54, \"rating mean\": 2.7962962962962963, \"age\": 23, \"sex\": \"M\", \"occupation\": \"writer\", \"zip_code\": \"32067\"}, {\"user_id\": \"20\", \"rating count\": 179, \"rating mean\": 2.670391061452514, \"age\": 26, \"sex\": \"M\", \"occupation\": \"writer\", \"zip_code\": \"30068\"}, {\"user_id\": \"200\", \"rating count\": 386, \"rating mean\": 3.0310880829015545, \"age\": 27, \"sex\": \"M\", \"occupation\": \"writer\", \"zip_code\": \"E2A4H\"}, {\"user_id\": \"201\", \"rating count\": 20, \"rating mean\": 2.8, \"age\": 41, \"sex\": \"F\", \"occupation\": \"educator\", \"zip_code\": \"60201\"}, {\"user_id\": \"202\", \"rating count\": 43, \"rating mean\": 3.4186046511627906, \"age\": 25, \"sex\": \"F\", \"occupation\": \"student\", \"zip_code\": \"32301\"}, {\"user_id\": \"203\", \"rating count\": 42, \"rating mean\": 3.4523809523809526, \"age\": 52, \"sex\": \"F\", \"occupation\": \"librarian\", \"zip_code\": \"10960\"}, {\"user_id\": \"204\", \"rating count\": 22, \"rating mean\": 2.8636363636363638, \"age\": 47, \"sex\": \"M\", \"occupation\": \"lawyer\", \"zip_code\": \"06371\"}, {\"user_id\": \"205\", \"rating count\": 64, \"rating mean\": 2.171875, \"age\": 14, \"sex\": \"F\", \"occupation\": \"student\", \"zip_code\": \"53115\"}, {\"user_id\": \"206\", \"rating count\": 230, \"rating mean\": 3.2304347826086954, \"age\": 39, \"sex\": \"M\", \"occupation\": \"marketing\", \"zip_code\": \"92037\"}, {\"user_id\": \"207\", \"rating count\": 33, \"rating mean\": 3.787878787878788, \"age\": 43, \"sex\": \"M\", \"occupation\": \"engineer\", \"zip_code\": \"01720\"}, {\"user_id\": \"208\", \"rating count\": 33, \"rating mean\": 3.1818181818181817, \"age\": 33, \"sex\": \"F\", \"occupation\": \"educator\", \"zip_code\": \"85710\"}, {\"user_id\": \"209\", \"rating count\": 132, \"rating mean\": 4.0606060606060606, \"age\": 39, \"sex\": \"M\", \"occupation\": \"engineer\", \"zip_code\": \"03060\"}, {\"user_id\": \"21\", \"rating count\": 128, \"rating mean\": 3.3515625, \"age\": 25, \"sex\": \"M\", \"occupation\": \"writer\", \"zip_code\": \"40206\"}, {\"user_id\": \"210\", \"rating count\": 37, \"rating mean\": 3.189189189189189, \"age\": 66, \"sex\": \"M\", \"occupation\": \"salesman\", \"zip_code\": \"32605\"}, {\"user_id\": \"211\", \"rating count\": 25, \"rating mean\": 3.92, \"age\": 49, \"sex\": \"F\", \"occupation\": \"educator\", \"zip_code\": \"61401\"}, {\"user_id\": \"212\", \"rating count\": 126, \"rating mean\": 4.23015873015873, \"age\": 33, \"sex\": \"M\", \"occupation\": \"executive\", \"zip_code\": \"55345\"}, {\"user_id\": \"213\", \"rating count\": 128, \"rating mean\": 3.8984375, \"age\": 26, \"sex\": \"F\", \"occupation\": \"librarian\", \"zip_code\": \"11231\"}, {\"user_id\": \"214\", \"rating count\": 93, \"rating mean\": 3.774193548387097, \"age\": 35, \"sex\": \"M\", \"occupation\": \"programmer\", \"zip_code\": \"63033\"}, {\"user_id\": \"215\", \"rating count\": 131, \"rating mean\": 3.801526717557252, \"age\": 22, \"sex\": \"M\", \"occupation\": \"engineer\", \"zip_code\": \"02215\"}, {\"user_id\": \"216\", \"rating count\": 76, \"rating mean\": 2.960526315789474, \"age\": 22, \"sex\": \"M\", \"occupation\": \"other\", \"zip_code\": \"11727\"}, {\"user_id\": \"217\", \"rating count\": 53, \"rating mean\": 3.6037735849056602, \"age\": 37, \"sex\": \"M\", \"occupation\": \"administrator\", \"zip_code\": \"06513\"}, {\"user_id\": \"218\", \"rating count\": 28, \"rating mean\": 3.7142857142857144, \"age\": 32, \"sex\": \"M\", \"occupation\": \"programmer\", \"zip_code\": \"43212\"}, {\"user_id\": \"219\", \"rating count\": 22, \"rating mean\": 3.772727272727273, \"age\": 30, \"sex\": \"M\", \"occupation\": \"librarian\", \"zip_code\": \"78205\"}, {\"user_id\": \"22\", \"rating count\": 151, \"rating mean\": 3.6357615894039736, \"age\": 30, \"sex\": \"F\", \"occupation\": \"artist\", \"zip_code\": \"48197\"}, {\"user_id\": \"220\", \"rating count\": 146, \"rating mean\": 3.6164383561643834, \"age\": 19, \"sex\": \"M\", \"occupation\": \"student\", \"zip_code\": \"20685\"}, {\"user_id\": \"221\", \"rating count\": 387, \"rating mean\": 3.049095607235142, \"age\": 29, \"sex\": \"M\", \"occupation\": \"programmer\", \"zip_code\": \"27502\"}, {\"user_id\": \"222\", \"rating count\": 105, \"rating mean\": 3.0285714285714285, \"age\": 19, \"sex\": \"F\", \"occupation\": \"student\", \"zip_code\": \"47906\"}, {\"user_id\": \"223\", \"rating count\": 141, \"rating mean\": 2.99290780141844, \"age\": 31, \"sex\": \"F\", \"occupation\": \"educator\", \"zip_code\": \"43512\"}, {\"user_id\": \"224\", \"rating count\": 27, \"rating mean\": 4.518518518518518, \"age\": 51, \"sex\": \"F\", \"occupation\": \"administrator\", \"zip_code\": \"58202\"}, {\"user_id\": \"225\", \"rating count\": 50, \"rating mean\": 3.8, \"age\": 28, \"sex\": \"M\", \"occupation\": \"student\", \"zip_code\": \"92103\"}, {\"user_id\": \"226\", \"rating count\": 58, \"rating mean\": 3.4482758620689653, \"age\": 46, \"sex\": \"M\", \"occupation\": \"executive\", \"zip_code\": \"60659\"}, {\"user_id\": \"227\", \"rating count\": 21, \"rating mean\": 3.142857142857143, \"age\": 21, \"sex\": \"F\", \"occupation\": \"student\", \"zip_code\": \"22003\"}, {\"user_id\": \"228\", \"rating count\": 30, \"rating mean\": 2.7333333333333334, \"age\": 29, \"sex\": \"F\", \"occupation\": \"librarian\", \"zip_code\": \"22903\"}, {\"user_id\": \"229\", \"rating count\": 133, \"rating mean\": 3.8496240601503757, \"age\": 28, \"sex\": \"F\", \"occupation\": \"student\", \"zip_code\": \"14476\"}, {\"user_id\": \"23\", \"rating count\": 68, \"rating mean\": 4.323529411764706, \"age\": 21, \"sex\": \"F\", \"occupation\": \"artist\", \"zip_code\": \"94533\"}, {\"user_id\": \"230\", \"rating count\": 21, \"rating mean\": 3.6666666666666665, \"age\": 48, \"sex\": \"M\", \"occupation\": \"librarian\", \"zip_code\": \"01080\"}, {\"user_id\": \"231\", \"rating count\": 93, \"rating mean\": 3.903225806451613, \"age\": 45, \"sex\": \"M\", \"occupation\": \"scientist\", \"zip_code\": \"99709\"}, {\"user_id\": \"232\", \"rating count\": 110, \"rating mean\": 4.345454545454546, \"age\": 38, \"sex\": \"M\", \"occupation\": \"engineer\", \"zip_code\": \"98682\"}, {\"user_id\": \"233\", \"rating count\": 480, \"rating mean\": 3.122916666666667, \"age\": 60, \"sex\": \"M\", \"occupation\": \"retired\", \"zip_code\": \"94702\"}, {\"user_id\": \"234\", \"rating count\": 94, \"rating mean\": 3.978723404255319, \"age\": 37, \"sex\": \"M\", \"occupation\": \"educator\", \"zip_code\": \"22973\"}, {\"user_id\": \"235\", \"rating count\": 124, \"rating mean\": 3.475806451612903, \"age\": 44, \"sex\": \"F\", \"occupation\": \"writer\", \"zip_code\": \"53214\"}, {\"user_id\": \"236\", \"rating count\": 48, \"rating mean\": 4.145833333333333, \"age\": 49, \"sex\": \"M\", \"occupation\": \"administrator\", \"zip_code\": \"63146\"}, {\"user_id\": \"237\", \"rating count\": 29, \"rating mean\": 3.2758620689655173, \"age\": 42, \"sex\": \"F\", \"occupation\": \"administrator\", \"zip_code\": \"44124\"}, {\"user_id\": \"238\", \"rating count\": 159, \"rating mean\": 4.213836477987422, \"age\": 39, \"sex\": \"M\", \"occupation\": \"artist\", \"zip_code\": \"95628\"}, {\"user_id\": \"239\", \"rating count\": 24, \"rating mean\": 3.75, \"age\": 23, \"sex\": \"F\", \"occupation\": \"educator\", \"zip_code\": \"20784\"}, {\"user_id\": \"24\", \"rating count\": 78, \"rating mean\": 4.051282051282051, \"age\": 39, \"sex\": \"M\", \"occupation\": \"engineer\", \"zip_code\": \"55107\"}, {\"user_id\": \"240\", \"rating count\": 23, \"rating mean\": 3.4347826086956523, \"age\": 26, \"sex\": \"F\", \"occupation\": \"student\", \"zip_code\": \"20001\"}, {\"user_id\": \"241\", \"rating count\": 20, \"rating mean\": 4.45, \"age\": 33, \"sex\": \"M\", \"occupation\": \"educator\", \"zip_code\": \"31404\"}, {\"user_id\": \"242\", \"rating count\": 81, \"rating mean\": 3.6419753086419755, \"age\": 33, \"sex\": \"M\", \"occupation\": \"educator\", \"zip_code\": \"60201\"}, {\"user_id\": \"243\", \"rating count\": 238, \"rating mean\": 3.6512605042016806, \"age\": 28, \"sex\": \"M\", \"occupation\": \"technician\", \"zip_code\": \"80525\"}, {\"user_id\": \"244\", \"rating count\": 22, \"rating mean\": 3.272727272727273, \"age\": 22, \"sex\": \"M\", \"occupation\": \"student\", \"zip_code\": \"55109\"}, {\"user_id\": \"245\", \"rating count\": 195, \"rating mean\": 2.928205128205128, \"age\": 19, \"sex\": \"M\", \"occupation\": \"student\", \"zip_code\": \"28734\"}, {\"user_id\": \"246\", \"rating count\": 26, \"rating mean\": 3.923076923076923, \"age\": 28, \"sex\": \"M\", \"occupation\": \"engineer\", \"zip_code\": \"20770\"}, {\"user_id\": \"247\", \"rating count\": 56, \"rating mean\": 3.5714285714285716, \"age\": 25, \"sex\": \"M\", \"occupation\": \"student\", \"zip_code\": \"37235\"}, {\"user_id\": \"248\", \"rating count\": 161, \"rating mean\": 4.105590062111801, \"age\": 25, \"sex\": \"M\", \"occupation\": \"student\", \"zip_code\": \"84103\"}, {\"user_id\": \"249\", \"rating count\": 122, \"rating mean\": 3.7868852459016393, \"age\": 29, \"sex\": \"M\", \"occupation\": \"executive\", \"zip_code\": \"95110\"}, {\"user_id\": \"25\", \"rating count\": 107, \"rating mean\": 2.94392523364486, \"age\": 49, \"sex\": \"M\", \"occupation\": \"engineer\", \"zip_code\": \"21044\"}, {\"user_id\": \"250\", \"rating count\": 77, \"rating mean\": 3.792207792207792, \"age\": 28, \"sex\": \"M\", \"occupation\": \"doctor\", \"zip_code\": \"85032\"}, {\"user_id\": \"251\", \"rating count\": 21, \"rating mean\": 4.428571428571429, \"age\": 42, \"sex\": \"M\", \"occupation\": \"engineer\", \"zip_code\": \"07733\"}, {\"user_id\": \"252\", \"rating count\": 97, \"rating mean\": 3.979381443298969, \"age\": 26, \"sex\": \"F\", \"occupation\": \"librarian\", \"zip_code\": \"22903\"}, {\"user_id\": \"253\", \"rating count\": 159, \"rating mean\": 3.050314465408805, \"age\": 44, \"sex\": \"M\", \"occupation\": \"educator\", \"zip_code\": \"42647\"}, {\"user_id\": \"254\", \"rating count\": 83, \"rating mean\": 2.5421686746987953, \"age\": 23, \"sex\": \"M\", \"occupation\": \"entertainment\", \"zip_code\": \"07029\"}, {\"user_id\": \"255\", \"rating count\": 207, \"rating mean\": 3.9903381642512077, \"age\": 35, \"sex\": \"F\", \"occupation\": \"none\", \"zip_code\": \"39042\"}, {\"user_id\": \"256\", \"rating count\": 57, \"rating mean\": 4.035087719298246, \"age\": 17, \"sex\": \"M\", \"occupation\": \"student\", \"zip_code\": \"77005\"}, {\"user_id\": \"257\", \"rating count\": 23, \"rating mean\": 3.739130434782609, \"age\": 19, \"sex\": \"F\", \"occupation\": \"student\", \"zip_code\": \"77801\"}, {\"user_id\": \"258\", \"rating count\": 46, \"rating mean\": 3.869565217391304, \"age\": 21, \"sex\": \"M\", \"occupation\": \"student\", \"zip_code\": \"48823\"}, {\"user_id\": \"259\", \"rating count\": 24, \"rating mean\": 4.041666666666667, \"age\": 40, \"sex\": \"F\", \"occupation\": \"artist\", \"zip_code\": \"89801\"}, {\"user_id\": \"26\", \"rating count\": 25, \"rating mean\": 3.24, \"age\": 40, \"sex\": \"F\", \"occupation\": \"librarian\", \"zip_code\": \"30030\"}, {\"user_id\": \"260\", \"rating count\": 27, \"rating mean\": 4.111111111111111, \"age\": 28, \"sex\": \"M\", \"occupation\": \"administrator\", \"zip_code\": \"85202\"}, {\"user_id\": \"261\", \"rating count\": 160, \"rating mean\": 3.16875, \"age\": 19, \"sex\": \"F\", \"occupation\": \"student\", \"zip_code\": \"78264\"}, {\"user_id\": \"262\", \"rating count\": 123, \"rating mean\": 4.048780487804878, \"age\": 41, \"sex\": \"M\", \"occupation\": \"programmer\", \"zip_code\": \"55346\"}, {\"user_id\": \"263\", \"rating count\": 120, \"rating mean\": 4.216666666666667, \"age\": 36, \"sex\": \"F\", \"occupation\": \"writer\", \"zip_code\": \"90064\"}, {\"user_id\": \"264\", \"rating count\": 46, \"rating mean\": 3.5652173913043477, \"age\": 26, \"sex\": \"M\", \"occupation\": \"executive\", \"zip_code\": \"84601\"}, {\"user_id\": \"265\", \"rating count\": 23, \"rating mean\": 3.260869565217391, \"age\": 62, \"sex\": \"F\", \"occupation\": \"administrator\", \"zip_code\": \"78756\"}, {\"user_id\": \"266\", \"rating count\": 185, \"rating mean\": 3.9351351351351354, \"age\": 23, \"sex\": \"M\", \"occupation\": \"engineer\", \"zip_code\": \"83716\"}, {\"user_id\": \"267\", \"rating count\": 328, \"rating mean\": 2.942073170731707, \"age\": 24, \"sex\": \"M\", \"occupation\": \"engineer\", \"zip_code\": \"19422\"}, {\"user_id\": \"268\", \"rating count\": 323, \"rating mean\": 3.0092879256965945, \"age\": 31, \"sex\": \"F\", \"occupation\": \"librarian\", \"zip_code\": \"43201\"}, {\"user_id\": \"269\", \"rating count\": 138, \"rating mean\": 4.333333333333333, \"age\": 18, \"sex\": \"F\", \"occupation\": \"student\", \"zip_code\": \"63119\"}, {\"user_id\": \"27\", \"rating count\": 79, \"rating mean\": 3.721518987341772, \"age\": 32, \"sex\": \"M\", \"occupation\": \"writer\", \"zip_code\": \"55369\"}, {\"user_id\": \"270\", \"rating count\": 278, \"rating mean\": 3.58273381294964, \"age\": 51, \"sex\": \"M\", \"occupation\": \"engineer\", \"zip_code\": \"22932\"}, {\"user_id\": \"271\", \"rating count\": 51, \"rating mean\": 4.333333333333333, \"age\": 33, \"sex\": \"M\", \"occupation\": \"scientist\", \"zip_code\": \"53706\"}, {\"user_id\": \"272\", \"rating count\": 22, \"rating mean\": 3.6363636363636362, \"age\": 50, \"sex\": \"F\", \"occupation\": \"other\", \"zip_code\": \"10016\"}, {\"user_id\": \"273\", \"rating count\": 71, \"rating mean\": 4.056338028169014, \"age\": 20, \"sex\": \"F\", \"occupation\": \"student\", \"zip_code\": \"55414\"}, {\"user_id\": \"274\", \"rating count\": 95, \"rating mean\": 3.1157894736842104, \"age\": 38, \"sex\": \"M\", \"occupation\": \"engineer\", \"zip_code\": \"92064\"}, {\"user_id\": \"275\", \"rating count\": 518, \"rating mean\": 3.465250965250965, \"age\": 21, \"sex\": \"M\", \"occupation\": \"student\", \"zip_code\": \"95064\"}, {\"user_id\": \"276\", \"rating count\": 54, \"rating mean\": 3.5, \"age\": 35, \"sex\": \"F\", \"occupation\": \"administrator\", \"zip_code\": \"55406\"}, {\"user_id\": \"277\", \"rating count\": 23, \"rating mean\": 4.260869565217392, \"age\": 37, \"sex\": \"F\", \"occupation\": \"librarian\", \"zip_code\": \"30033\"}, {\"user_id\": \"278\", \"rating count\": 434, \"rating mean\": 3.2672811059907834, \"age\": 33, \"sex\": \"M\", \"occupation\": \"programmer\", \"zip_code\": \"85251\"}, {\"user_id\": \"279\", \"rating count\": 258, \"rating mean\": 3.5775193798449614, \"age\": 30, \"sex\": \"F\", \"occupation\": \"librarian\", \"zip_code\": \"22903\"}, {\"user_id\": \"28\", \"rating count\": 34, \"rating mean\": 3.6470588235294117, \"age\": 41, \"sex\": \"M\", \"occupation\": \"programmer\", \"zip_code\": \"94043\"}, {\"user_id\": \"280\", \"rating count\": 26, \"rating mean\": 3.1923076923076925, \"age\": 15, \"sex\": \"F\", \"occupation\": \"student\", \"zip_code\": \"06059\"}, {\"user_id\": \"281\", \"rating count\": 22, \"rating mean\": 3.5, \"age\": 22, \"sex\": \"M\", \"occupation\": \"administrator\", \"zip_code\": \"20057\"}, {\"user_id\": \"282\", \"rating count\": 53, \"rating mean\": 4.132075471698113, \"age\": 28, \"sex\": \"M\", \"occupation\": \"programmer\", \"zip_code\": \"55305\"}, {\"user_id\": \"283\", \"rating count\": 47, \"rating mean\": 3.5531914893617023, \"age\": 40, \"sex\": \"M\", \"occupation\": \"executive\", \"zip_code\": \"92629\"}, {\"user_id\": \"284\", \"rating count\": 32, \"rating mean\": 3.9375, \"age\": 25, \"sex\": \"M\", \"occupation\": \"programmer\", \"zip_code\": \"53713\"}, {\"user_id\": \"285\", \"rating count\": 288, \"rating mean\": 3.7118055555555554, \"age\": 27, \"sex\": \"M\", \"occupation\": \"student\", \"zip_code\": \"15217\"}, {\"user_id\": \"286\", \"rating count\": 62, \"rating mean\": 4.112903225806452, \"age\": 21, \"sex\": \"M\", \"occupation\": \"salesman\", \"zip_code\": \"31211\"}, {\"user_id\": \"287\", \"rating count\": 75, \"rating mean\": 3.88, \"age\": 34, \"sex\": \"M\", \"occupation\": \"marketing\", \"zip_code\": \"23226\"}, {\"user_id\": \"288\", \"rating count\": 27, \"rating mean\": 2.925925925925926, \"age\": 11, \"sex\": \"M\", \"occupation\": \"none\", \"zip_code\": \"94619\"}, {\"user_id\": \"289\", \"rating count\": 150, \"rating mean\": 3.3533333333333335, \"age\": 40, \"sex\": \"M\", \"occupation\": \"engineer\", \"zip_code\": \"93550\"}, {\"user_id\": \"29\", \"rating count\": 43, \"rating mean\": 3.7674418604651163, \"age\": 7, \"sex\": \"M\", \"occupation\": \"student\", \"zip_code\": \"55436\"}, {\"user_id\": \"290\", \"rating count\": 296, \"rating mean\": 3.685810810810811, \"age\": 19, \"sex\": \"M\", \"occupation\": \"student\", \"zip_code\": \"44106\"}, {\"user_id\": \"291\", \"rating count\": 124, \"rating mean\": 4.225806451612903, \"age\": 35, \"sex\": \"F\", \"occupation\": \"programmer\", \"zip_code\": \"94703\"}, {\"user_id\": \"292\", \"rating count\": 388, \"rating mean\": 3.0309278350515463, \"age\": 24, \"sex\": \"M\", \"occupation\": \"writer\", \"zip_code\": \"60804\"}, {\"user_id\": \"293\", \"rating count\": 150, \"rating mean\": 3.466666666666667, \"age\": 34, \"sex\": \"M\", \"occupation\": \"technician\", \"zip_code\": \"92110\"}, {\"user_id\": \"294\", \"rating count\": 196, \"rating mean\": 4.239795918367347, \"age\": 31, \"sex\": \"M\", \"occupation\": \"educator\", \"zip_code\": \"50325\"}, {\"user_id\": \"295\", \"rating count\": 147, \"rating mean\": 4.1768707482993195, \"age\": 43, \"sex\": \"F\", \"occupation\": \"administrator\", \"zip_code\": \"16803\"}, {\"user_id\": \"296\", \"rating count\": 192, \"rating mean\": 3.4375, \"age\": 29, \"sex\": \"F\", \"occupation\": \"educator\", \"zip_code\": \"98103\"}, {\"user_id\": \"297\", \"rating count\": 127, \"rating mean\": 4.031496062992126, \"age\": 44, \"sex\": \"M\", \"occupation\": \"executive\", \"zip_code\": \"01581\"}, {\"user_id\": \"298\", \"rating count\": 280, \"rating mean\": 3.4642857142857144, \"age\": 29, \"sex\": \"M\", \"occupation\": \"doctor\", \"zip_code\": \"63108\"}, {\"user_id\": \"299\", \"rating count\": 20, \"rating mean\": 3.75, \"age\": 26, \"sex\": \"F\", \"occupation\": \"programmer\", \"zip_code\": \"55106\"}, {\"user_id\": \"3\", \"rating count\": 24, \"rating mean\": 4.333333333333333, \"age\": 24, \"sex\": \"M\", \"occupation\": \"technician\", \"zip_code\": \"43537\"}, {\"user_id\": \"30\", \"rating count\": 36, \"rating mean\": 3.9166666666666665, \"age\": 24, \"sex\": \"M\", \"occupation\": \"artist\", \"zip_code\": \"10003\"}, {\"user_id\": \"300\", \"rating count\": 275, \"rating mean\": 3.5272727272727273, \"age\": 24, \"sex\": \"M\", \"occupation\": \"student\", \"zip_code\": \"55439\"}, {\"user_id\": \"301\", \"rating count\": 21, \"rating mean\": 2.4285714285714284, \"age\": 42, \"sex\": \"M\", \"occupation\": \"educator\", \"zip_code\": \"77904\"}, {\"user_id\": \"302\", \"rating count\": 484, \"rating mean\": 3.365702479338843, \"age\": 19, \"sex\": \"M\", \"occupation\": \"student\", \"zip_code\": \"14853\"}, {\"user_id\": \"303\", \"rating count\": 26, \"rating mean\": 3.3846153846153846, \"age\": 22, \"sex\": \"F\", \"occupation\": \"student\", \"zip_code\": \"71701\"}, {\"user_id\": \"304\", \"rating count\": 222, \"rating mean\": 3.40990990990991, \"age\": 23, \"sex\": \"M\", \"occupation\": \"programmer\", \"zip_code\": \"94086\"}, {\"user_id\": \"305\", \"rating count\": 32, \"rating mean\": 3.78125, \"age\": 45, \"sex\": \"M\", \"occupation\": \"other\", \"zip_code\": \"73132\"}, {\"user_id\": \"306\", \"rating count\": 112, \"rating mean\": 3.794642857142857, \"age\": 25, \"sex\": \"M\", \"occupation\": \"student\", \"zip_code\": \"55454\"}, {\"user_id\": \"307\", \"rating count\": 397, \"rating mean\": 3.7581863979848866, \"age\": 60, \"sex\": \"M\", \"occupation\": \"retired\", \"zip_code\": \"95076\"}, {\"user_id\": \"308\", \"rating count\": 20, \"rating mean\": 3.5, \"age\": 40, \"sex\": \"M\", \"occupation\": \"scientist\", \"zip_code\": \"70802\"}, {\"user_id\": \"309\", \"rating count\": 21, \"rating mean\": 3.857142857142857, \"age\": 37, \"sex\": \"M\", \"occupation\": \"educator\", \"zip_code\": \"91711\"}, {\"user_id\": \"31\", \"rating count\": 41, \"rating mean\": 3.317073170731707, \"age\": 28, \"sex\": \"F\", \"occupation\": \"student\", \"zip_code\": \"78741\"}, {\"user_id\": \"310\", \"rating count\": 294, \"rating mean\": 3.795918367346939, \"age\": 32, \"sex\": \"M\", \"occupation\": \"technician\", \"zip_code\": \"73071\"}, {\"user_id\": \"311\", \"rating count\": 223, \"rating mean\": 4.381165919282512, \"age\": 48, \"sex\": \"M\", \"occupation\": \"other\", \"zip_code\": \"02110\"}, {\"user_id\": \"312\", \"rating count\": 262, \"rating mean\": 3.595419847328244, \"age\": 41, \"sex\": \"M\", \"occupation\": \"marketing\", \"zip_code\": \"60035\"}, {\"user_id\": \"313\", \"rating count\": 245, \"rating mean\": 3.6775510204081634, \"age\": 20, \"sex\": \"F\", \"occupation\": \"student\", \"zip_code\": \"08043\"}, {\"user_id\": \"314\", \"rating count\": 87, \"rating mean\": 4.011494252873563, \"age\": 31, \"sex\": \"M\", \"occupation\": \"educator\", \"zip_code\": \"18301\"}, {\"user_id\": \"315\", \"rating count\": 75, \"rating mean\": 3.36, \"age\": 43, \"sex\": \"F\", \"occupation\": \"other\", \"zip_code\": \"77009\"}, {\"user_id\": \"316\", \"rating count\": 22, \"rating mean\": 3.5454545454545454, \"age\": 22, \"sex\": \"M\", \"occupation\": \"administrator\", \"zip_code\": \"13210\"}, {\"user_id\": \"317\", \"rating count\": 174, \"rating mean\": 3.706896551724138, \"age\": 65, \"sex\": \"M\", \"occupation\": \"retired\", \"zip_code\": \"06518\"}, {\"user_id\": \"318\", \"rating count\": 23, \"rating mean\": 3.4782608695652173, \"age\": 38, \"sex\": \"M\", \"occupation\": \"programmer\", \"zip_code\": \"22030\"}, {\"user_id\": \"319\", \"rating count\": 154, \"rating mean\": 3.720779220779221, \"age\": 19, \"sex\": \"M\", \"occupation\": \"student\", \"zip_code\": \"24060\"}, {\"user_id\": \"32\", \"rating count\": 24, \"rating mean\": 3.7083333333333335, \"age\": 23, \"sex\": \"M\", \"occupation\": \"student\", \"zip_code\": \"27510\"}, {\"user_id\": \"320\", \"rating count\": 125, \"rating mean\": 3.736, \"age\": 49, \"sex\": \"F\", \"occupation\": \"educator\", \"zip_code\": \"55413\"}, {\"user_id\": \"321\", \"rating count\": 51, \"rating mean\": 4.176470588235294, \"age\": 20, \"sex\": \"M\", \"occupation\": \"student\", \"zip_code\": \"50613\"}, {\"user_id\": \"322\", \"rating count\": 89, \"rating mean\": 3.6179775280898876, \"age\": 21, \"sex\": \"M\", \"occupation\": \"student\", \"zip_code\": \"19149\"}, {\"user_id\": \"323\", \"rating count\": 66, \"rating mean\": 4.348484848484849, \"age\": 21, \"sex\": \"F\", \"occupation\": \"student\", \"zip_code\": \"02176\"}, {\"user_id\": \"324\", \"rating count\": 142, \"rating mean\": 3.408450704225352, \"age\": 48, \"sex\": \"M\", \"occupation\": \"technician\", \"zip_code\": \"02139\"}, {\"user_id\": \"325\", \"rating count\": 187, \"rating mean\": 3.3262032085561497, \"age\": 41, \"sex\": \"M\", \"occupation\": \"administrator\", \"zip_code\": \"15235\"}, {\"user_id\": \"326\", \"rating count\": 284, \"rating mean\": 3.313380281690141, \"age\": 22, \"sex\": \"M\", \"occupation\": \"student\", \"zip_code\": \"11101\"}, {\"user_id\": \"327\", \"rating count\": 283, \"rating mean\": 3.431095406360424, \"age\": 51, \"sex\": \"M\", \"occupation\": \"administrator\", \"zip_code\": \"06779\"}, {\"user_id\": \"328\", \"rating count\": 65, \"rating mean\": 3.4, \"age\": 48, \"sex\": \"M\", \"occupation\": \"educator\", \"zip_code\": \"01720\"}, {\"user_id\": \"329\", \"rating count\": 147, \"rating mean\": 4.496598639455782, \"age\": 35, \"sex\": \"F\", \"occupation\": \"educator\", \"zip_code\": \"33884\"}, {\"user_id\": \"33\", \"rating count\": 20, \"rating mean\": 4.05, \"age\": 38, \"sex\": \"F\", \"occupation\": \"administrator\", \"zip_code\": \"42141\"}, {\"user_id\": \"330\", \"rating count\": 70, \"rating mean\": 3.642857142857143, \"age\": 33, \"sex\": \"M\", \"occupation\": \"entertainment\", \"zip_code\": \"91344\"}, {\"user_id\": \"331\", \"rating count\": 183, \"rating mean\": 4.1530054644808745, \"age\": 20, \"sex\": \"M\", \"occupation\": \"student\", \"zip_code\": \"40504\"}, {\"user_id\": \"332\", \"rating count\": 26, \"rating mean\": 3.8461538461538463, \"age\": 47, \"sex\": \"M\", \"occupation\": \"other\", \"zip_code\": \"V0R2M\"}, {\"user_id\": \"333\", \"rating count\": 333, \"rating mean\": 3.5195195195195197, \"age\": 32, \"sex\": \"M\", \"occupation\": \"librarian\", \"zip_code\": \"30002\"}, {\"user_id\": \"334\", \"rating count\": 22, \"rating mean\": 3.5454545454545454, \"age\": 45, \"sex\": \"M\", \"occupation\": \"executive\", \"zip_code\": \"33775\"}, {\"user_id\": \"335\", \"rating count\": 130, \"rating mean\": 2.9615384615384617, \"age\": 23, \"sex\": \"M\", \"occupation\": \"salesman\", \"zip_code\": \"42101\"}, {\"user_id\": \"336\", \"rating count\": 34, \"rating mean\": 3.9411764705882355, \"age\": 37, \"sex\": \"M\", \"occupation\": \"scientist\", \"zip_code\": \"10522\"}, {\"user_id\": \"337\", \"rating count\": 75, \"rating mean\": 4.0, \"age\": 39, \"sex\": \"F\", \"occupation\": \"librarian\", \"zip_code\": \"59717\"}, {\"user_id\": \"338\", \"rating count\": 254, \"rating mean\": 4.003937007874016, \"age\": 35, \"sex\": \"M\", \"occupation\": \"lawyer\", \"zip_code\": \"37901\"}, {\"user_id\": \"339\", \"rating count\": 44, \"rating mean\": 4.159090909090909, \"age\": 46, \"sex\": \"M\", \"occupation\": \"engineer\", \"zip_code\": \"80123\"}, {\"user_id\": \"34\", \"rating count\": 25, \"rating mean\": 3.0, \"age\": 20, \"sex\": \"F\", \"occupation\": \"homemaker\", \"zip_code\": \"42459\"}, {\"user_id\": \"340\", \"rating count\": 21, \"rating mean\": 3.8095238095238093, \"age\": 17, \"sex\": \"F\", \"occupation\": \"student\", \"zip_code\": \"44405\"}, {\"user_id\": \"341\", \"rating count\": 201, \"rating mean\": 3.4378109452736316, \"age\": 25, \"sex\": \"F\", \"occupation\": \"other\", \"zip_code\": \"98006\"}, {\"user_id\": \"342\", \"rating count\": 237, \"rating mean\": 3.9873417721518987, \"age\": 43, \"sex\": \"M\", \"occupation\": \"engineer\", \"zip_code\": \"30093\"}, {\"user_id\": \"343\", \"rating count\": 190, \"rating mean\": 3.668421052631579, \"age\": 30, \"sex\": \"F\", \"occupation\": \"librarian\", \"zip_code\": \"94117\"}, {\"user_id\": \"344\", \"rating count\": 232, \"rating mean\": 3.646551724137931, \"age\": 28, \"sex\": \"F\", \"occupation\": \"librarian\", \"zip_code\": \"94143\"}, {\"user_id\": \"345\", \"rating count\": 193, \"rating mean\": 3.290155440414508, \"age\": 34, \"sex\": \"M\", \"occupation\": \"other\", \"zip_code\": \"76059\"}, {\"user_id\": \"346\", \"rating count\": 199, \"rating mean\": 3.5728643216080402, \"age\": 18, \"sex\": \"M\", \"occupation\": \"student\", \"zip_code\": \"90210\"}, {\"user_id\": \"347\", \"rating count\": 58, \"rating mean\": 3.896551724137931, \"age\": 24, \"sex\": \"F\", \"occupation\": \"student\", \"zip_code\": \"45660\"}, {\"user_id\": \"348\", \"rating count\": 41, \"rating mean\": 3.1951219512195124, \"age\": 68, \"sex\": \"M\", \"occupation\": \"retired\", \"zip_code\": \"61455\"}, {\"user_id\": \"349\", \"rating count\": 50, \"rating mean\": 4.32, \"age\": 32, \"sex\": \"M\", \"occupation\": \"student\", \"zip_code\": \"97301\"}, {\"user_id\": \"35\", \"rating count\": 20, \"rating mean\": 3.8, \"age\": 19, \"sex\": \"F\", \"occupation\": \"student\", \"zip_code\": \"93117\"}, {\"user_id\": \"350\", \"rating count\": 44, \"rating mean\": 4.159090909090909, \"age\": 61, \"sex\": \"M\", \"occupation\": \"educator\", \"zip_code\": \"49938\"}, {\"user_id\": \"351\", \"rating count\": 42, \"rating mean\": 3.738095238095238, \"age\": 37, \"sex\": \"F\", \"occupation\": \"programmer\", \"zip_code\": \"55105\"}, {\"user_id\": \"352\", \"rating count\": 25, \"rating mean\": 3.36, \"age\": 25, \"sex\": \"M\", \"occupation\": \"scientist\", \"zip_code\": \"28480\"}, {\"user_id\": \"353\", \"rating count\": 233, \"rating mean\": 3.742489270386266, \"age\": 29, \"sex\": \"F\", \"occupation\": \"librarian\", \"zip_code\": \"48197\"}, {\"user_id\": \"354\", \"rating count\": 26, \"rating mean\": 4.076923076923077, \"age\": 25, \"sex\": \"M\", \"occupation\": \"student\", \"zip_code\": \"60135\"}, {\"user_id\": \"355\", \"rating count\": 24, \"rating mean\": 3.5833333333333335, \"age\": 32, \"sex\": \"F\", \"occupation\": \"homemaker\", \"zip_code\": \"92688\"}, {\"user_id\": \"356\", \"rating count\": 76, \"rating mean\": 4.131578947368421, \"age\": 26, \"sex\": \"M\", \"occupation\": \"executive\", \"zip_code\": \"98133\"}, {\"user_id\": \"357\", \"rating count\": 43, \"rating mean\": 3.697674418604651, \"age\": 40, \"sex\": \"M\", \"occupation\": \"educator\", \"zip_code\": \"10022\"}, {\"user_id\": \"358\", \"rating count\": 27, \"rating mean\": 3.925925925925926, \"age\": 22, \"sex\": \"M\", \"occupation\": \"student\", \"zip_code\": \"61801\"}, {\"user_id\": \"359\", \"rating count\": 102, \"rating mean\": 3.9607843137254903, \"age\": 51, \"sex\": \"M\", \"occupation\": \"other\", \"zip_code\": \"98027\"}, {\"user_id\": \"36\", \"rating count\": 57, \"rating mean\": 3.6491228070175437, \"age\": 23, \"sex\": \"M\", \"occupation\": \"student\", \"zip_code\": \"55105\"}, {\"user_id\": \"360\", \"rating count\": 121, \"rating mean\": 3.7768595041322315, \"age\": 22, \"sex\": \"M\", \"occupation\": \"student\", \"zip_code\": \"44074\"}, {\"user_id\": \"361\", \"rating count\": 25, \"rating mean\": 3.36, \"age\": 35, \"sex\": \"F\", \"occupation\": \"homemaker\", \"zip_code\": \"85233\"}, {\"user_id\": \"362\", \"rating count\": 311, \"rating mean\": 3.054662379421222, \"age\": 20, \"sex\": \"M\", \"occupation\": \"student\", \"zip_code\": \"87501\"}, {\"user_id\": \"363\", \"rating count\": 20, \"rating mean\": 3.45, \"age\": 63, \"sex\": \"M\", \"occupation\": \"engineer\", \"zip_code\": \"01810\"}, {\"user_id\": \"364\", \"rating count\": 58, \"rating mean\": 3.3793103448275863, \"age\": 29, \"sex\": \"M\", \"occupation\": \"lawyer\", \"zip_code\": \"20009\"}, {\"user_id\": \"365\", \"rating count\": 33, \"rating mean\": 4.393939393939394, \"age\": 20, \"sex\": \"F\", \"occupation\": \"student\", \"zip_code\": \"50670\"}, {\"user_id\": \"366\", \"rating count\": 58, \"rating mean\": 4.155172413793103, \"age\": 17, \"sex\": \"M\", \"occupation\": \"student\", \"zip_code\": \"37411\"}, {\"user_id\": \"367\", \"rating count\": 45, \"rating mean\": 3.2888888888888888, \"age\": 18, \"sex\": \"M\", \"occupation\": \"student\", \"zip_code\": \"92113\"}, {\"user_id\": \"368\", \"rating count\": 22, \"rating mean\": 4.0, \"age\": 24, \"sex\": \"M\", \"occupation\": \"student\", \"zip_code\": \"91335\"}, {\"user_id\": \"369\", \"rating count\": 75, \"rating mean\": 3.6933333333333334, \"age\": 52, \"sex\": \"M\", \"occupation\": \"writer\", \"zip_code\": \"08534\"}, {\"user_id\": \"37\", \"rating count\": 121, \"rating mean\": 3.71900826446281, \"age\": 28, \"sex\": \"F\", \"occupation\": \"other\", \"zip_code\": \"54467\"}, {\"user_id\": \"370\", \"rating count\": 51, \"rating mean\": 4.098039215686274, \"age\": 36, \"sex\": \"M\", \"occupation\": \"engineer\", \"zip_code\": \"99206\"}, {\"user_id\": \"371\", \"rating count\": 66, \"rating mean\": 4.303030303030303, \"age\": 25, \"sex\": \"F\", \"occupation\": \"student\", \"zip_code\": \"66046\"}, {\"user_id\": \"372\", \"rating count\": 233, \"rating mean\": 3.7339055793991416, \"age\": 24, \"sex\": \"F\", \"occupation\": \"other\", \"zip_code\": \"55116\"}, {\"user_id\": \"373\", \"rating count\": 274, \"rating mean\": 3.31021897810219, \"age\": 36, \"sex\": \"M\", \"occupation\": \"executive\", \"zip_code\": \"78746\"}, {\"user_id\": \"374\", \"rating count\": 28, \"rating mean\": 3.6785714285714284, \"age\": 17, \"sex\": \"M\", \"occupation\": \"entertainment\", \"zip_code\": \"37777\"}, {\"user_id\": \"375\", \"rating count\": 30, \"rating mean\": 3.7333333333333334, \"age\": 28, \"sex\": \"F\", \"occupation\": \"other\", \"zip_code\": \"10010\"}, {\"user_id\": \"376\", \"rating count\": 33, \"rating mean\": 3.909090909090909, \"age\": 22, \"sex\": \"M\", \"occupation\": \"student\", \"zip_code\": \"18015\"}, {\"user_id\": \"377\", \"rating count\": 375, \"rating mean\": 3.424, \"age\": 35, \"sex\": \"M\", \"occupation\": \"student\", \"zip_code\": \"02859\"}, {\"user_id\": \"378\", \"rating count\": 196, \"rating mean\": 3.989795918367347, \"age\": 44, \"sex\": \"M\", \"occupation\": \"programmer\", \"zip_code\": \"98117\"}, {\"user_id\": \"379\", \"rating count\": 162, \"rating mean\": 3.197530864197531, \"age\": 32, \"sex\": \"M\", \"occupation\": \"engineer\", \"zip_code\": \"55117\"}, {\"user_id\": \"38\", \"rating count\": 22, \"rating mean\": 3.772727272727273, \"age\": 41, \"sex\": \"M\", \"occupation\": \"entertainment\", \"zip_code\": \"01040\"}, {\"user_id\": \"380\", \"rating count\": 127, \"rating mean\": 3.811023622047244, \"age\": 33, \"sex\": \"M\", \"occupation\": \"artist\", \"zip_code\": \"94608\"}, {\"user_id\": \"381\", \"rating count\": 53, \"rating mean\": 3.4716981132075473, \"age\": 45, \"sex\": \"M\", \"occupation\": \"engineer\", \"zip_code\": \"01824\"}, {\"user_id\": \"382\", \"rating count\": 71, \"rating mean\": 4.380281690140845, \"age\": 42, \"sex\": \"M\", \"occupation\": \"administrator\", \"zip_code\": \"75204\"}, {\"user_id\": \"383\", \"rating count\": 22, \"rating mean\": 4.136363636363637, \"age\": 52, \"sex\": \"M\", \"occupation\": \"programmer\", \"zip_code\": \"45218\"}, {\"user_id\": \"384\", \"rating count\": 281, \"rating mean\": 3.295373665480427, \"age\": 36, \"sex\": \"M\", \"occupation\": \"writer\", \"zip_code\": \"10003\"}, {\"user_id\": \"385\", \"rating count\": 23, \"rating mean\": 3.652173913043478, \"age\": 36, \"sex\": \"M\", \"occupation\": \"salesman\", \"zip_code\": \"43221\"}, {\"user_id\": \"386\", \"rating count\": 304, \"rating mean\": 3.361842105263158, \"age\": 33, \"sex\": \"M\", \"occupation\": \"entertainment\", \"zip_code\": \"37412\"}, {\"user_id\": \"387\", \"rating count\": 52, \"rating mean\": 4.173076923076923, \"age\": 31, \"sex\": \"M\", \"occupation\": \"other\", \"zip_code\": \"36106\"}, {\"user_id\": \"388\", \"rating count\": 271, \"rating mean\": 3.7047970479704797, \"age\": 44, \"sex\": \"F\", \"occupation\": \"writer\", \"zip_code\": \"83702\"}, {\"user_id\": \"389\", \"rating count\": 31, \"rating mean\": 3.838709677419355, \"age\": 42, \"sex\": \"F\", \"occupation\": \"writer\", \"zip_code\": \"85016\"}, {\"user_id\": \"39\", \"rating count\": 35, \"rating mean\": 2.8857142857142857, \"age\": 38, \"sex\": \"M\", \"occupation\": \"scientist\", \"zip_code\": \"27514\"}, {\"user_id\": \"390\", \"rating count\": 121, \"rating mean\": 3.768595041322314, \"age\": 23, \"sex\": \"M\", \"occupation\": \"student\", \"zip_code\": \"84604\"}, {\"user_id\": \"391\", \"rating count\": 111, \"rating mean\": 4.045045045045045, \"age\": 52, \"sex\": \"M\", \"occupation\": \"writer\", \"zip_code\": \"59801\"}, {\"user_id\": \"392\", \"rating count\": 448, \"rating mean\": 3.3370535714285716, \"age\": 19, \"sex\": \"M\", \"occupation\": \"student\", \"zip_code\": \"83686\"}, {\"user_id\": \"393\", \"rating count\": 149, \"rating mean\": 3.859060402684564, \"age\": 25, \"sex\": \"M\", \"occupation\": \"administrator\", \"zip_code\": \"96819\"}, {\"user_id\": \"394\", \"rating count\": 57, \"rating mean\": 3.8947368421052633, \"age\": 43, \"sex\": \"M\", \"occupation\": \"other\", \"zip_code\": \"44092\"}, {\"user_id\": \"395\", \"rating count\": 54, \"rating mean\": 3.4074074074074074, \"age\": 57, \"sex\": \"M\", \"occupation\": \"engineer\", \"zip_code\": \"94551\"}, {\"user_id\": \"396\", \"rating count\": 102, \"rating mean\": 3.7058823529411766, \"age\": 17, \"sex\": \"M\", \"occupation\": \"student\", \"zip_code\": \"27514\"}, {\"user_id\": \"397\", \"rating count\": 172, \"rating mean\": 3.7093023255813953, \"age\": 40, \"sex\": \"M\", \"occupation\": \"other\", \"zip_code\": \"60008\"}, {\"user_id\": \"398\", \"rating count\": 319, \"rating mean\": 2.93730407523511, \"age\": 25, \"sex\": \"M\", \"occupation\": \"other\", \"zip_code\": \"92374\"}, {\"user_id\": \"399\", \"rating count\": 22, \"rating mean\": 3.590909090909091, \"age\": 33, \"sex\": \"F\", \"occupation\": \"administrator\", \"zip_code\": \"78213\"}, {\"user_id\": \"4\", \"rating count\": 175, \"rating mean\": 2.874285714285714, \"age\": 33, \"sex\": \"F\", \"occupation\": \"other\", \"zip_code\": \"15213\"}, {\"user_id\": \"40\", \"rating count\": 52, \"rating mean\": 3.769230769230769, \"age\": 33, \"sex\": \"M\", \"occupation\": \"engineer\", \"zip_code\": \"80525\"}, {\"user_id\": \"400\", \"rating count\": 153, \"rating mean\": 3.1176470588235294, \"age\": 46, \"sex\": \"F\", \"occupation\": \"healthcare\", \"zip_code\": \"84107\"}, {\"user_id\": \"401\", \"rating count\": 68, \"rating mean\": 3.8970588235294117, \"age\": 30, \"sex\": \"M\", \"occupation\": \"engineer\", \"zip_code\": \"95129\"}, {\"user_id\": \"402\", \"rating count\": 50, \"rating mean\": 3.68, \"age\": 37, \"sex\": \"M\", \"occupation\": \"other\", \"zip_code\": \"06811\"}, {\"user_id\": \"403\", \"rating count\": 44, \"rating mean\": 3.25, \"age\": 29, \"sex\": \"F\", \"occupation\": \"programmer\", \"zip_code\": \"55108\"}, {\"user_id\": \"404\", \"rating count\": 737, \"rating mean\": 1.8344640434192674, \"age\": 22, \"sex\": \"F\", \"occupation\": \"healthcare\", \"zip_code\": \"10019\"}, {\"user_id\": \"405\", \"rating count\": 342, \"rating mean\": 3.5321637426900585, \"age\": 52, \"sex\": \"M\", \"occupation\": \"educator\", \"zip_code\": \"93109\"}, {\"user_id\": \"406\", \"rating count\": 226, \"rating mean\": 3.4690265486725664, \"age\": 29, \"sex\": \"M\", \"occupation\": \"engineer\", \"zip_code\": \"03261\"}, {\"user_id\": \"407\", \"rating count\": 27, \"rating mean\": 3.740740740740741, \"age\": 23, \"sex\": \"M\", \"occupation\": \"student\", \"zip_code\": \"61755\"}, {\"user_id\": \"408\", \"rating count\": 203, \"rating mean\": 3.5911330049261085, \"age\": 48, \"sex\": \"M\", \"occupation\": \"administrator\", \"zip_code\": \"98225\"}, {\"user_id\": \"409\", \"rating count\": 28, \"rating mean\": 3.0357142857142856, \"age\": 30, \"sex\": \"F\", \"occupation\": \"artist\", \"zip_code\": \"94025\"}, {\"user_id\": \"41\", \"rating count\": 183, \"rating mean\": 3.726775956284153, \"age\": 30, \"sex\": \"M\", \"occupation\": \"administrator\", \"zip_code\": \"17870\"}, {\"user_id\": \"410\", \"rating count\": 58, \"rating mean\": 3.7758620689655173, \"age\": 34, \"sex\": \"M\", \"occupation\": \"educator\", \"zip_code\": \"44691\"}, {\"user_id\": \"411\", \"rating count\": 51, \"rating mean\": 3.9411764705882355, \"age\": 25, \"sex\": \"M\", \"occupation\": \"educator\", \"zip_code\": \"15222\"}, {\"user_id\": \"412\", \"rating count\": 50, \"rating mean\": 3.66, \"age\": 55, \"sex\": \"M\", \"occupation\": \"educator\", \"zip_code\": \"78212\"}, {\"user_id\": \"413\", \"rating count\": 25, \"rating mean\": 3.88, \"age\": 24, \"sex\": \"M\", \"occupation\": \"programmer\", \"zip_code\": \"38115\"}, {\"user_id\": \"414\", \"rating count\": 24, \"rating mean\": 4.166666666666667, \"age\": 39, \"sex\": \"M\", \"occupation\": \"educator\", \"zip_code\": \"85711\"}, {\"user_id\": \"415\", \"rating count\": 493, \"rating mean\": 3.845841784989858, \"age\": 20, \"sex\": \"F\", \"occupation\": \"student\", \"zip_code\": \"92626\"}, {\"user_id\": \"416\", \"rating count\": 365, \"rating mean\": 3.2465753424657535, \"age\": 27, \"sex\": \"F\", \"occupation\": \"other\", \"zip_code\": \"48103\"}, {\"user_id\": \"417\", \"rating count\": 20, \"rating mean\": 2.9, \"age\": 55, \"sex\": \"F\", \"occupation\": \"none\", \"zip_code\": \"21206\"}, {\"user_id\": \"418\", \"rating count\": 32, \"rating mean\": 4.21875, \"age\": 37, \"sex\": \"M\", \"occupation\": \"lawyer\", \"zip_code\": \"43215\"}, {\"user_id\": \"419\", \"rating count\": 36, \"rating mean\": 4.166666666666667, \"age\": 53, \"sex\": \"M\", \"occupation\": \"educator\", \"zip_code\": \"02140\"}, {\"user_id\": \"42\", \"rating count\": 221, \"rating mean\": 3.7104072398190047, \"age\": 29, \"sex\": \"F\", \"occupation\": \"librarian\", \"zip_code\": \"20854\"}, {\"user_id\": \"420\", \"rating count\": 62, \"rating mean\": 3.8548387096774195, \"age\": 38, \"sex\": \"F\", \"occupation\": \"programmer\", \"zip_code\": \"55105\"}, {\"user_id\": \"421\", \"rating count\": 97, \"rating mean\": 3.463917525773196, \"age\": 26, \"sex\": \"M\", \"occupation\": \"entertainment\", \"zip_code\": \"94533\"}, {\"user_id\": \"422\", \"rating count\": 64, \"rating mean\": 3.578125, \"age\": 64, \"sex\": \"M\", \"occupation\": \"other\", \"zip_code\": \"91606\"}, {\"user_id\": \"423\", \"rating count\": 44, \"rating mean\": 3.3636363636363638, \"age\": 36, \"sex\": \"F\", \"occupation\": \"marketing\", \"zip_code\": \"55422\"}, {\"user_id\": \"424\", \"rating count\": 204, \"rating mean\": 2.9558823529411766, \"age\": 19, \"sex\": \"M\", \"occupation\": \"student\", \"zip_code\": \"58644\"}, {\"user_id\": \"425\", \"rating count\": 101, \"rating mean\": 3.8316831683168315, \"age\": 55, \"sex\": \"M\", \"occupation\": \"educator\", \"zip_code\": \"01602\"}, {\"user_id\": \"426\", \"rating count\": 31, \"rating mean\": 4.548387096774194, \"age\": 51, \"sex\": \"M\", \"occupation\": \"doctor\", \"zip_code\": \"85258\"}, {\"user_id\": \"427\", \"rating count\": 55, \"rating mean\": 3.9272727272727272, \"age\": 28, \"sex\": \"M\", \"occupation\": \"student\", \"zip_code\": \"55414\"}, {\"user_id\": \"428\", \"rating count\": 414, \"rating mean\": 3.393719806763285, \"age\": 27, \"sex\": \"M\", \"occupation\": \"student\", \"zip_code\": \"29205\"}, {\"user_id\": \"429\", \"rating count\": 65, \"rating mean\": 3.5538461538461537, \"age\": 38, \"sex\": \"M\", \"occupation\": \"scientist\", \"zip_code\": \"98199\"}, {\"user_id\": \"43\", \"rating count\": 151, \"rating mean\": 3.6490066225165565, \"age\": 26, \"sex\": \"M\", \"occupation\": \"technician\", \"zip_code\": \"46260\"}, {\"user_id\": \"430\", \"rating count\": 21, \"rating mean\": 3.380952380952381, \"age\": 24, \"sex\": \"M\", \"occupation\": \"marketing\", \"zip_code\": \"92629\"}, {\"user_id\": \"431\", \"rating count\": 62, \"rating mean\": 3.7096774193548385, \"age\": 22, \"sex\": \"M\", \"occupation\": \"entertainment\", \"zip_code\": \"50311\"}, {\"user_id\": \"432\", \"rating count\": 41, \"rating mean\": 3.5121951219512195, \"age\": 27, \"sex\": \"M\", \"occupation\": \"artist\", \"zip_code\": \"11211\"}, {\"user_id\": \"433\", \"rating count\": 44, \"rating mean\": 3.7045454545454546, \"age\": 16, \"sex\": \"F\", \"occupation\": \"student\", \"zip_code\": \"49705\"}, {\"user_id\": \"434\", \"rating count\": 379, \"rating mean\": 3.316622691292876, \"age\": 24, \"sex\": \"M\", \"occupation\": \"engineer\", \"zip_code\": \"60007\"}, {\"user_id\": \"435\", \"rating count\": 145, \"rating mean\": 3.7517241379310344, \"age\": 30, \"sex\": \"F\", \"occupation\": \"administrator\", \"zip_code\": \"17345\"}, {\"user_id\": \"436\", \"rating count\": 263, \"rating mean\": 3.581749049429658, \"age\": 27, \"sex\": \"F\", \"occupation\": \"other\", \"zip_code\": \"20009\"}, {\"user_id\": \"437\", \"rating count\": 33, \"rating mean\": 4.0606060606060606, \"age\": 51, \"sex\": \"F\", \"occupation\": \"administrator\", \"zip_code\": \"43204\"}, {\"user_id\": \"438\", \"rating count\": 31, \"rating mean\": 3.7096774193548385, \"age\": 23, \"sex\": \"F\", \"occupation\": \"administrator\", \"zip_code\": \"20817\"}, {\"user_id\": \"439\", \"rating count\": 51, \"rating mean\": 4.176470588235294, \"age\": 30, \"sex\": \"M\", \"occupation\": \"other\", \"zip_code\": \"48076\"}, {\"user_id\": \"44\", \"rating count\": 48, \"rating mean\": 3.6041666666666665, \"age\": 29, \"sex\": \"M\", \"occupation\": \"programmer\", \"zip_code\": \"50233\"}, {\"user_id\": \"440\", \"rating count\": 20, \"rating mean\": 3.5, \"age\": 50, \"sex\": \"M\", \"occupation\": \"technician\", \"zip_code\": \"55013\"}, {\"user_id\": \"441\", \"rating count\": 143, \"rating mean\": 3.125874125874126, \"age\": 22, \"sex\": \"M\", \"occupation\": \"student\", \"zip_code\": \"85282\"}, {\"user_id\": \"442\", \"rating count\": 24, \"rating mean\": 3.375, \"age\": 35, \"sex\": \"M\", \"occupation\": \"salesman\", \"zip_code\": \"33308\"}, {\"user_id\": \"443\", \"rating count\": 24, \"rating mean\": 3.7916666666666665, \"age\": 51, \"sex\": \"F\", \"occupation\": \"lawyer\", \"zip_code\": \"53202\"}, {\"user_id\": \"444\", \"rating count\": 135, \"rating mean\": 1.9851851851851852, \"age\": 21, \"sex\": \"M\", \"occupation\": \"writer\", \"zip_code\": \"92653\"}, {\"user_id\": \"445\", \"rating count\": 36, \"rating mean\": 2.75, \"age\": 57, \"sex\": \"M\", \"occupation\": \"educator\", \"zip_code\": \"60201\"}, {\"user_id\": \"446\", \"rating count\": 139, \"rating mean\": 3.597122302158273, \"age\": 30, \"sex\": \"M\", \"occupation\": \"administrator\", \"zip_code\": \"55113\"}, {\"user_id\": \"447\", \"rating count\": 38, \"rating mean\": 3.3421052631578947, \"age\": 23, \"sex\": \"M\", \"occupation\": \"entertainment\", \"zip_code\": \"10021\"}, {\"user_id\": \"448\", \"rating count\": 75, \"rating mean\": 3.7466666666666666, \"age\": 23, \"sex\": \"M\", \"occupation\": \"librarian\", \"zip_code\": \"55021\"}, {\"user_id\": \"449\", \"rating count\": 540, \"rating mean\": 3.8648148148148147, \"age\": 35, \"sex\": \"F\", \"occupation\": \"educator\", \"zip_code\": \"11758\"}, {\"user_id\": \"45\", \"rating count\": 27, \"rating mean\": 4.111111111111111, \"age\": 27, \"sex\": \"F\", \"occupation\": \"marketing\", \"zip_code\": \"46538\"}, {\"user_id\": \"450\", \"rating count\": 98, \"rating mean\": 2.7346938775510203, \"age\": 16, \"sex\": \"M\", \"occupation\": \"student\", \"zip_code\": \"48446\"}, {\"user_id\": \"451\", \"rating count\": 206, \"rating mean\": 3.412621359223301, \"age\": 35, \"sex\": \"M\", \"occupation\": \"administrator\", \"zip_code\": \"28018\"}, {\"user_id\": \"452\", \"rating count\": 156, \"rating mean\": 3.2884615384615383, \"age\": 18, \"sex\": \"M\", \"occupation\": \"student\", \"zip_code\": \"06333\"}, {\"user_id\": \"453\", \"rating count\": 236, \"rating mean\": 2.9788135593220337, \"age\": 57, \"sex\": \"M\", \"occupation\": \"other\", \"zip_code\": \"97330\"}, {\"user_id\": \"454\", \"rating count\": 189, \"rating mean\": 3.502645502645503, \"age\": 48, \"sex\": \"M\", \"occupation\": \"administrator\", \"zip_code\": \"83709\"}, {\"user_id\": \"455\", \"rating count\": 217, \"rating mean\": 3.456221198156682, \"age\": 24, \"sex\": \"M\", \"occupation\": \"technician\", \"zip_code\": \"31820\"}, {\"user_id\": \"456\", \"rating count\": 277, \"rating mean\": 4.025270758122744, \"age\": 33, \"sex\": \"F\", \"occupation\": \"salesman\", \"zip_code\": \"30011\"}, {\"user_id\": \"457\", \"rating count\": 183, \"rating mean\": 3.6885245901639343, \"age\": 47, \"sex\": \"M\", \"occupation\": \"technician\", \"zip_code\": \"Y1A6B\"}, {\"user_id\": \"458\", \"rating count\": 118, \"rating mean\": 3.3813559322033897, \"age\": 22, \"sex\": \"M\", \"occupation\": \"student\", \"zip_code\": \"29201\"}, {\"user_id\": \"459\", \"rating count\": 68, \"rating mean\": 3.411764705882353, \"age\": 44, \"sex\": \"F\", \"occupation\": \"other\", \"zip_code\": \"60630\"}, {\"user_id\": \"46\", \"rating count\": 25, \"rating mean\": 3.64, \"age\": 53, \"sex\": \"M\", \"occupation\": \"marketing\", \"zip_code\": \"07102\"}, {\"user_id\": \"460\", \"rating count\": 23, \"rating mean\": 3.0, \"age\": 15, \"sex\": \"M\", \"occupation\": \"student\", \"zip_code\": \"98102\"}, {\"user_id\": \"461\", \"rating count\": 33, \"rating mean\": 4.0, \"age\": 19, \"sex\": \"F\", \"occupation\": \"student\", \"zip_code\": \"02918\"}, {\"user_id\": \"462\", \"rating count\": 133, \"rating mean\": 2.8646616541353382, \"age\": 48, \"sex\": \"F\", \"occupation\": \"healthcare\", \"zip_code\": \"75218\"}, {\"user_id\": \"463\", \"rating count\": 53, \"rating mean\": 4.037735849056604, \"age\": 60, \"sex\": \"M\", \"occupation\": \"writer\", \"zip_code\": \"94583\"}, {\"user_id\": \"464\", \"rating count\": 80, \"rating mean\": 3.4375, \"age\": 32, \"sex\": \"M\", \"occupation\": \"other\", \"zip_code\": \"05001\"}, {\"user_id\": \"465\", \"rating count\": 101, \"rating mean\": 3.4653465346534653, \"age\": 22, \"sex\": \"M\", \"occupation\": \"student\", \"zip_code\": \"90804\"}, {\"user_id\": \"466\", \"rating count\": 44, \"rating mean\": 3.6818181818181817, \"age\": 29, \"sex\": \"M\", \"occupation\": \"engineer\", \"zip_code\": \"91201\"}, {\"user_id\": \"467\", \"rating count\": 143, \"rating mean\": 3.993006993006993, \"age\": 28, \"sex\": \"M\", \"occupation\": \"engineer\", \"zip_code\": \"02341\"}, {\"user_id\": \"468\", \"rating count\": 43, \"rating mean\": 4.534883720930233, \"age\": 60, \"sex\": \"M\", \"occupation\": \"educator\", \"zip_code\": \"78628\"}, {\"user_id\": \"469\", \"rating count\": 57, \"rating mean\": 3.5789473684210527, \"age\": 24, \"sex\": \"M\", \"occupation\": \"programmer\", \"zip_code\": \"10021\"}, {\"user_id\": \"47\", \"rating count\": 66, \"rating mean\": 3.787878787878788, \"age\": 45, \"sex\": \"M\", \"occupation\": \"administrator\", \"zip_code\": \"12550\"}, {\"user_id\": \"470\", \"rating count\": 31, \"rating mean\": 3.3870967741935485, \"age\": 10, \"sex\": \"M\", \"occupation\": \"student\", \"zip_code\": \"77459\"}, {\"user_id\": \"471\", \"rating count\": 263, \"rating mean\": 4.228136882129277, \"age\": 24, \"sex\": \"M\", \"occupation\": \"student\", \"zip_code\": \"87544\"}, {\"user_id\": \"472\", \"rating count\": 35, \"rating mean\": 3.914285714285714, \"age\": 29, \"sex\": \"M\", \"occupation\": \"student\", \"zip_code\": \"94708\"}, {\"user_id\": \"473\", \"rating count\": 327, \"rating mean\": 4.08256880733945, \"age\": 51, \"sex\": \"M\", \"occupation\": \"executive\", \"zip_code\": \"93711\"}, {\"user_id\": \"474\", \"rating count\": 20, \"rating mean\": 3.6, \"age\": 30, \"sex\": \"M\", \"occupation\": \"programmer\", \"zip_code\": \"75230\"}, {\"user_id\": \"475\", \"rating count\": 83, \"rating mean\": 3.3734939759036147, \"age\": 28, \"sex\": \"M\", \"occupation\": \"student\", \"zip_code\": \"60440\"}, {\"user_id\": \"476\", \"rating count\": 35, \"rating mean\": 4.457142857142857, \"age\": 23, \"sex\": \"F\", \"occupation\": \"student\", \"zip_code\": \"02125\"}, {\"user_id\": \"477\", \"rating count\": 113, \"rating mean\": 3.415929203539823, \"age\": 29, \"sex\": \"M\", \"occupation\": \"other\", \"zip_code\": \"10019\"}, {\"user_id\": \"478\", \"rating count\": 202, \"rating mean\": 3.4207920792079207, \"age\": 30, \"sex\": \"M\", \"occupation\": \"educator\", \"zip_code\": \"55409\"}, {\"user_id\": \"479\", \"rating count\": 60, \"rating mean\": 3.7333333333333334, \"age\": 57, \"sex\": \"M\", \"occupation\": \"retired\", \"zip_code\": \"98257\"}, {\"user_id\": \"48\", \"rating count\": 215, \"rating mean\": 2.683720930232558, \"age\": 23, \"sex\": \"F\", \"occupation\": \"student\", \"zip_code\": \"76111\"}, {\"user_id\": \"480\", \"rating count\": 56, \"rating mean\": 3.982142857142857, \"age\": 73, \"sex\": \"M\", \"occupation\": \"retired\", \"zip_code\": \"37771\"}, {\"user_id\": \"481\", \"rating count\": 26, \"rating mean\": 3.423076923076923, \"age\": 18, \"sex\": \"F\", \"occupation\": \"student\", \"zip_code\": \"40256\"}, {\"user_id\": \"482\", \"rating count\": 59, \"rating mean\": 3.0508474576271185, \"age\": 29, \"sex\": \"M\", \"occupation\": \"scientist\", \"zip_code\": \"43212\"}, {\"user_id\": \"483\", \"rating count\": 139, \"rating mean\": 3.9928057553956835, \"age\": 27, \"sex\": \"M\", \"occupation\": \"student\", \"zip_code\": \"21208\"}, {\"user_id\": \"484\", \"rating count\": 26, \"rating mean\": 3.0384615384615383, \"age\": 44, \"sex\": \"F\", \"occupation\": \"educator\", \"zip_code\": \"95821\"}, {\"user_id\": \"485\", \"rating count\": 189, \"rating mean\": 3.2222222222222223, \"age\": 39, \"sex\": \"M\", \"occupation\": \"educator\", \"zip_code\": \"93101\"}, {\"user_id\": \"486\", \"rating count\": 231, \"rating mean\": 3.645021645021645, \"age\": 22, \"sex\": \"M\", \"occupation\": \"engineer\", \"zip_code\": \"92121\"}, {\"user_id\": \"487\", \"rating count\": 154, \"rating mean\": 3.357142857142857, \"age\": 48, \"sex\": \"M\", \"occupation\": \"technician\", \"zip_code\": \"21012\"}, {\"user_id\": \"488\", \"rating count\": 109, \"rating mean\": 3.7247706422018347, \"age\": 55, \"sex\": \"M\", \"occupation\": \"other\", \"zip_code\": \"45218\"}, {\"user_id\": \"489\", \"rating count\": 57, \"rating mean\": 2.789473684210526, \"age\": 29, \"sex\": \"F\", \"occupation\": \"artist\", \"zip_code\": \"V5A2B\"}, {\"user_id\": \"49\", \"rating count\": 24, \"rating mean\": 3.5416666666666665, \"age\": 21, \"sex\": \"M\", \"occupation\": \"writer\", \"zip_code\": \"52245\"}, {\"user_id\": \"490\", \"rating count\": 33, \"rating mean\": 3.8484848484848486, \"age\": 43, \"sex\": \"F\", \"occupation\": \"writer\", \"zip_code\": \"53711\"}, {\"user_id\": \"491\", \"rating count\": 55, \"rating mean\": 3.5272727272727273, \"age\": 57, \"sex\": \"M\", \"occupation\": \"educator\", \"zip_code\": \"94618\"}, {\"user_id\": \"492\", \"rating count\": 135, \"rating mean\": 3.7555555555555555, \"age\": 22, \"sex\": \"M\", \"occupation\": \"engineer\", \"zip_code\": \"60090\"}, {\"user_id\": \"493\", \"rating count\": 47, \"rating mean\": 3.872340425531915, \"age\": 38, \"sex\": \"F\", \"occupation\": \"administrator\", \"zip_code\": \"49428\"}, {\"user_id\": \"494\", \"rating count\": 213, \"rating mean\": 3.9530516431924885, \"age\": 29, \"sex\": \"M\", \"occupation\": \"engineer\", \"zip_code\": \"03052\"}, {\"user_id\": \"495\", \"rating count\": 129, \"rating mean\": 3.0310077519379846, \"age\": 21, \"sex\": \"F\", \"occupation\": \"student\", \"zip_code\": \"55414\"}, {\"user_id\": \"496\", \"rating count\": 279, \"rating mean\": 3.1792114695340503, \"age\": 20, \"sex\": \"M\", \"occupation\": \"student\", \"zip_code\": \"50112\"}, {\"user_id\": \"497\", \"rating count\": 149, \"rating mean\": 3.2885906040268456, \"age\": 26, \"sex\": \"M\", \"occupation\": \"writer\", \"zip_code\": \"55408\"}, {\"user_id\": \"498\", \"rating count\": 102, \"rating mean\": 3.8627450980392157, \"age\": 42, \"sex\": \"M\", \"occupation\": \"programmer\", \"zip_code\": \"75006\"}, {\"user_id\": \"499\", \"rating count\": 225, \"rating mean\": 3.3422222222222224, \"age\": 28, \"sex\": \"M\", \"occupation\": \"administrator\", \"zip_code\": \"94305\"}, {\"user_id\": \"5\", \"rating count\": 211, \"rating mean\": 3.6350710900473935, \"age\": 42, \"sex\": \"M\", \"occupation\": \"executive\", \"zip_code\": \"98101\"}, {\"user_id\": \"50\", \"rating count\": 23, \"rating mean\": 3.5652173913043477, \"age\": 28, \"sex\": \"M\", \"occupation\": \"educator\", \"zip_code\": \"16509\"}, {\"user_id\": \"500\", \"rating count\": 73, \"rating mean\": 3.767123287671233, \"age\": 22, \"sex\": \"M\", \"occupation\": \"student\", \"zip_code\": \"10025\"}, {\"user_id\": \"501\", \"rating count\": 37, \"rating mean\": 3.108108108108108, \"age\": 22, \"sex\": \"M\", \"occupation\": \"student\", \"zip_code\": \"23092\"}, {\"user_id\": \"502\", \"rating count\": 160, \"rating mean\": 4.01875, \"age\": 50, \"sex\": \"F\", \"occupation\": \"writer\", \"zip_code\": \"27514\"}, {\"user_id\": \"503\", \"rating count\": 251, \"rating mean\": 3.6215139442231075, \"age\": 40, \"sex\": \"F\", \"occupation\": \"writer\", \"zip_code\": \"92115\"}, {\"user_id\": \"504\", \"rating count\": 112, \"rating mean\": 3.3660714285714284, \"age\": 27, \"sex\": \"F\", \"occupation\": \"other\", \"zip_code\": \"20657\"}, {\"user_id\": \"505\", \"rating count\": 242, \"rating mean\": 3.6735537190082646, \"age\": 46, \"sex\": \"M\", \"occupation\": \"programmer\", \"zip_code\": \"03869\"}, {\"user_id\": \"506\", \"rating count\": 58, \"rating mean\": 4.724137931034483, \"age\": 18, \"sex\": \"F\", \"occupation\": \"writer\", \"zip_code\": \"28450\"}, {\"user_id\": \"507\", \"rating count\": 87, \"rating mean\": 3.8275862068965516, \"age\": 27, \"sex\": \"M\", \"occupation\": \"marketing\", \"zip_code\": \"19382\"}, {\"user_id\": \"508\", \"rating count\": 33, \"rating mean\": 2.515151515151515, \"age\": 23, \"sex\": \"M\", \"occupation\": \"administrator\", \"zip_code\": \"10011\"}, {\"user_id\": \"509\", \"rating count\": 30, \"rating mean\": 2.7666666666666666, \"age\": 34, \"sex\": \"M\", \"occupation\": \"other\", \"zip_code\": \"98038\"}, {\"user_id\": \"51\", \"rating count\": 56, \"rating mean\": 4.267857142857143, \"age\": 18, \"sex\": \"F\", \"occupation\": \"student\", \"zip_code\": \"55105\"}, {\"user_id\": \"510\", \"rating count\": 24, \"rating mean\": 3.75, \"age\": 22, \"sex\": \"M\", \"occupation\": \"student\", \"zip_code\": \"21250\"}, {\"user_id\": \"511\", \"rating count\": 21, \"rating mean\": 4.333333333333333, \"age\": 29, \"sex\": \"M\", \"occupation\": \"other\", \"zip_code\": \"20090\"}, {\"user_id\": \"512\", \"rating count\": 22, \"rating mean\": 4.363636363636363, \"age\": 43, \"sex\": \"M\", \"occupation\": \"administrator\", \"zip_code\": \"26241\"}, {\"user_id\": \"513\", \"rating count\": 194, \"rating mean\": 3.8402061855670104, \"age\": 27, \"sex\": \"M\", \"occupation\": \"programmer\", \"zip_code\": \"20707\"}, {\"user_id\": \"514\", \"rating count\": 40, \"rating mean\": 3.0, \"age\": 53, \"sex\": \"M\", \"occupation\": \"marketing\", \"zip_code\": \"49508\"}, {\"user_id\": \"515\", \"rating count\": 21, \"rating mean\": 4.095238095238095, \"age\": 53, \"sex\": \"F\", \"occupation\": \"librarian\", \"zip_code\": \"10021\"}, {\"user_id\": \"516\", \"rating count\": 37, \"rating mean\": 3.2972972972972974, \"age\": 24, \"sex\": \"M\", \"occupation\": \"student\", \"zip_code\": \"55454\"}, {\"user_id\": \"517\", \"rating count\": 73, \"rating mean\": 3.643835616438356, \"age\": 49, \"sex\": \"F\", \"occupation\": \"writer\", \"zip_code\": \"99709\"}, {\"user_id\": \"518\", \"rating count\": 49, \"rating mean\": 4.122448979591836, \"age\": 22, \"sex\": \"M\", \"occupation\": \"other\", \"zip_code\": \"55320\"}, {\"user_id\": \"519\", \"rating count\": 23, \"rating mean\": 3.4347826086956523, \"age\": 62, \"sex\": \"M\", \"occupation\": \"healthcare\", \"zip_code\": \"12603\"}, {\"user_id\": \"52\", \"rating count\": 28, \"rating mean\": 3.8214285714285716, \"age\": 26, \"sex\": \"M\", \"occupation\": \"programmer\", \"zip_code\": \"55414\"}, {\"user_id\": \"520\", \"rating count\": 150, \"rating mean\": 3.14, \"age\": 19, \"sex\": \"M\", \"occupation\": \"student\", \"zip_code\": \"02146\"}, {\"user_id\": \"521\", \"rating count\": 30, \"rating mean\": 4.333333333333333, \"age\": 36, \"sex\": \"M\", \"occupation\": \"engineer\", \"zip_code\": \"55443\"}, {\"user_id\": \"522\", \"rating count\": 100, \"rating mean\": 4.36, \"age\": 50, \"sex\": \"F\", \"occupation\": \"administrator\", \"zip_code\": \"04102\"}, {\"user_id\": \"523\", \"rating count\": 306, \"rating mean\": 3.4934640522875817, \"age\": 56, \"sex\": \"M\", \"occupation\": \"educator\", \"zip_code\": \"02159\"}, {\"user_id\": \"524\", \"rating count\": 54, \"rating mean\": 3.2962962962962963, \"age\": 27, \"sex\": \"F\", \"occupation\": \"administrator\", \"zip_code\": \"19711\"}, {\"user_id\": \"525\", \"rating count\": 68, \"rating mean\": 3.235294117647059, \"age\": 30, \"sex\": \"M\", \"occupation\": \"marketing\", \"zip_code\": \"97124\"}, {\"user_id\": \"526\", \"rating count\": 137, \"rating mean\": 3.832116788321168, \"age\": 33, \"sex\": \"M\", \"occupation\": \"librarian\", \"zip_code\": \"12180\"}, {\"user_id\": \"527\", \"rating count\": 53, \"rating mean\": 3.7169811320754715, \"age\": 18, \"sex\": \"M\", \"occupation\": \"student\", \"zip_code\": \"55104\"}, {\"user_id\": \"528\", \"rating count\": 43, \"rating mean\": 3.604651162790698, \"age\": 47, \"sex\": \"F\", \"occupation\": \"administrator\", \"zip_code\": \"44224\"}, {\"user_id\": \"529\", \"rating count\": 45, \"rating mean\": 3.888888888888889, \"age\": 29, \"sex\": \"M\", \"occupation\": \"engineer\", \"zip_code\": \"94040\"}, {\"user_id\": \"53\", \"rating count\": 65, \"rating mean\": 3.6923076923076925, \"age\": 22, \"sex\": \"M\", \"occupation\": \"executive\", \"zip_code\": \"66315\"}, {\"user_id\": \"530\", \"rating count\": 30, \"rating mean\": 3.2333333333333334, \"age\": 30, \"sex\": \"F\", \"occupation\": \"salesman\", \"zip_code\": \"97408\"}, {\"user_id\": \"531\", \"rating count\": 274, \"rating mean\": 4.12043795620438, \"age\": 20, \"sex\": \"M\", \"occupation\": \"student\", \"zip_code\": \"92705\"}, {\"user_id\": \"532\", \"rating count\": 260, \"rating mean\": 3.3846153846153846, \"age\": 43, \"sex\": \"M\", \"occupation\": \"librarian\", \"zip_code\": \"02324\"}, {\"user_id\": \"533\", \"rating count\": 80, \"rating mean\": 4.075, \"age\": 20, \"sex\": \"M\", \"occupation\": \"student\", \"zip_code\": \"05464\"}, {\"user_id\": \"534\", \"rating count\": 218, \"rating mean\": 3.9357798165137616, \"age\": 45, \"sex\": \"F\", \"occupation\": \"educator\", \"zip_code\": \"80302\"}, {\"user_id\": \"535\", \"rating count\": 163, \"rating mean\": 3.871165644171779, \"age\": 38, \"sex\": \"M\", \"occupation\": \"engineer\", \"zip_code\": \"30078\"}, {\"user_id\": \"536\", \"rating count\": 490, \"rating mean\": 2.8653061224489798, \"age\": 36, \"sex\": \"M\", \"occupation\": \"engineer\", \"zip_code\": \"22902\"}, {\"user_id\": \"537\", \"rating count\": 81, \"rating mean\": 3.617283950617284, \"age\": 31, \"sex\": \"M\", \"occupation\": \"scientist\", \"zip_code\": \"21010\"}, {\"user_id\": \"538\", \"rating count\": 56, \"rating mean\": 3.982142857142857, \"age\": 53, \"sex\": \"F\", \"occupation\": \"administrator\", \"zip_code\": \"80303\"}, {\"user_id\": \"539\", \"rating count\": 63, \"rating mean\": 3.7142857142857144, \"age\": 28, \"sex\": \"M\", \"occupation\": \"engineer\", \"zip_code\": \"91201\"}, {\"user_id\": \"54\", \"rating count\": 21, \"rating mean\": 3.2857142857142856, \"age\": 37, \"sex\": \"M\", \"occupation\": \"programmer\", \"zip_code\": \"01331\"}, {\"user_id\": \"540\", \"rating count\": 133, \"rating mean\": 3.6240601503759398, \"age\": 19, \"sex\": \"F\", \"occupation\": \"student\", \"zip_code\": \"84302\"}, {\"user_id\": \"541\", \"rating count\": 135, \"rating mean\": 3.488888888888889, \"age\": 21, \"sex\": \"M\", \"occupation\": \"student\", \"zip_code\": \"60515\"}, {\"user_id\": \"542\", \"rating count\": 197, \"rating mean\": 3.532994923857868, \"age\": 33, \"sex\": \"M\", \"occupation\": \"scientist\", \"zip_code\": \"95123\"}, {\"user_id\": \"543\", \"rating count\": 31, \"rating mean\": 2.806451612903226, \"age\": 44, \"sex\": \"F\", \"occupation\": \"other\", \"zip_code\": \"29464\"}, {\"user_id\": \"544\", \"rating count\": 162, \"rating mean\": 3.506172839506173, \"age\": 27, \"sex\": \"M\", \"occupation\": \"technician\", \"zip_code\": \"08052\"}, {\"user_id\": \"545\", \"rating count\": 59, \"rating mean\": 3.8983050847457625, \"age\": 36, \"sex\": \"M\", \"occupation\": \"executive\", \"zip_code\": \"22911\"}, {\"user_id\": \"546\", \"rating count\": 23, \"rating mean\": 3.652173913043478, \"age\": 50, \"sex\": \"M\", \"occupation\": \"educator\", \"zip_code\": \"14534\"}, {\"user_id\": \"547\", \"rating count\": 155, \"rating mean\": 3.670967741935484, \"age\": 51, \"sex\": \"M\", \"occupation\": \"writer\", \"zip_code\": \"95468\"}, {\"user_id\": \"548\", \"rating count\": 25, \"rating mean\": 3.72, \"age\": 42, \"sex\": \"M\", \"occupation\": \"scientist\", \"zip_code\": \"45680\"}, {\"user_id\": \"549\", \"rating count\": 40, \"rating mean\": 3.675, \"age\": 16, \"sex\": \"F\", \"occupation\": \"student\", \"zip_code\": \"95453\"}, {\"user_id\": \"55\", \"rating count\": 187, \"rating mean\": 3.641711229946524, \"age\": 25, \"sex\": \"M\", \"occupation\": \"librarian\", \"zip_code\": \"46260\"}, {\"user_id\": \"550\", \"rating count\": 334, \"rating mean\": 3.802395209580838, \"age\": 25, \"sex\": \"M\", \"occupation\": \"programmer\", \"zip_code\": \"55414\"}, {\"user_id\": \"551\", \"rating count\": 84, \"rating mean\": 3.0952380952380953, \"age\": 45, \"sex\": \"M\", \"occupation\": \"other\", \"zip_code\": \"68147\"}, {\"user_id\": \"552\", \"rating count\": 100, \"rating mean\": 4.17, \"age\": 58, \"sex\": \"M\", \"occupation\": \"educator\", \"zip_code\": \"62901\"}, {\"user_id\": \"553\", \"rating count\": 114, \"rating mean\": 3.5701754385964914, \"age\": 32, \"sex\": \"M\", \"occupation\": \"scientist\", \"zip_code\": \"62901\"}, {\"user_id\": \"554\", \"rating count\": 52, \"rating mean\": 4.019230769230769, \"age\": 29, \"sex\": \"F\", \"occupation\": \"educator\", \"zip_code\": \"23227\"}, {\"user_id\": \"555\", \"rating count\": 44, \"rating mean\": 4.204545454545454, \"age\": 35, \"sex\": \"F\", \"occupation\": \"educator\", \"zip_code\": \"30606\"}, {\"user_id\": \"556\", \"rating count\": 53, \"rating mean\": 3.7547169811320753, \"age\": 30, \"sex\": \"F\", \"occupation\": \"writer\", \"zip_code\": \"11217\"}, {\"user_id\": \"557\", \"rating count\": 20, \"rating mean\": 4.2, \"age\": 56, \"sex\": \"F\", \"occupation\": \"writer\", \"zip_code\": \"63132\"}, {\"user_id\": \"558\", \"rating count\": 76, \"rating mean\": 3.5789473684210527, \"age\": 69, \"sex\": \"M\", \"occupation\": \"executive\", \"zip_code\": \"10022\"}, {\"user_id\": \"559\", \"rating count\": 101, \"rating mean\": 3.396039603960396, \"age\": 32, \"sex\": \"M\", \"occupation\": \"student\", \"zip_code\": \"10003\"}, {\"user_id\": \"56\", \"rating count\": 106, \"rating mean\": 3.5, \"age\": 16, \"sex\": \"M\", \"occupation\": \"none\", \"zip_code\": \"84010\"}, {\"user_id\": \"560\", \"rating count\": 357, \"rating mean\": 3.0252100840336134, \"age\": 23, \"sex\": \"M\", \"occupation\": \"engineer\", \"zip_code\": \"60005\"}, {\"user_id\": \"561\", \"rating count\": 72, \"rating mean\": 3.5416666666666665, \"age\": 54, \"sex\": \"F\", \"occupation\": \"administrator\", \"zip_code\": \"20879\"}, {\"user_id\": \"562\", \"rating count\": 30, \"rating mean\": 3.7666666666666666, \"age\": 39, \"sex\": \"F\", \"occupation\": \"librarian\", \"zip_code\": \"32707\"}, {\"user_id\": \"563\", \"rating count\": 34, \"rating mean\": 3.411764705882353, \"age\": 65, \"sex\": \"M\", \"occupation\": \"retired\", \"zip_code\": \"94591\"}, {\"user_id\": \"564\", \"rating count\": 35, \"rating mean\": 4.542857142857143, \"age\": 40, \"sex\": \"M\", \"occupation\": \"student\", \"zip_code\": \"55422\"}, {\"user_id\": \"565\", \"rating count\": 149, \"rating mean\": 3.442953020134228, \"age\": 20, \"sex\": \"M\", \"occupation\": \"student\", \"zip_code\": \"14627\"}, {\"user_id\": \"566\", \"rating count\": 155, \"rating mean\": 3.9548387096774196, \"age\": 24, \"sex\": \"M\", \"occupation\": \"entertainment\", \"zip_code\": \"10003\"}, {\"user_id\": \"567\", \"rating count\": 81, \"rating mean\": 3.3703703703703702, \"age\": 39, \"sex\": \"M\", \"occupation\": \"educator\", \"zip_code\": \"01915\"}, {\"user_id\": \"568\", \"rating count\": 70, \"rating mean\": 3.4857142857142858, \"age\": 34, \"sex\": \"M\", \"occupation\": \"educator\", \"zip_code\": \"91903\"}, {\"user_id\": \"569\", \"rating count\": 22, \"rating mean\": 2.6818181818181817, \"age\": 26, \"sex\": \"M\", \"occupation\": \"educator\", \"zip_code\": \"14627\"}, {\"user_id\": \"57\", \"rating count\": 154, \"rating mean\": 3.8376623376623376, \"age\": 27, \"sex\": \"M\", \"occupation\": \"programmer\", \"zip_code\": \"52246\"}, {\"user_id\": \"570\", \"rating count\": 20, \"rating mean\": 3.45, \"age\": 34, \"sex\": \"M\", \"occupation\": \"artist\", \"zip_code\": \"01945\"}, {\"user_id\": \"571\", \"rating count\": 20, \"rating mean\": 3.25, \"age\": 51, \"sex\": \"M\", \"occupation\": \"educator\", \"zip_code\": \"20003\"}, {\"user_id\": \"572\", \"rating count\": 51, \"rating mean\": 3.7450980392156863, \"age\": 68, \"sex\": \"M\", \"occupation\": \"retired\", \"zip_code\": \"48911\"}, {\"user_id\": \"573\", \"rating count\": 46, \"rating mean\": 3.5217391304347827, \"age\": 56, \"sex\": \"M\", \"occupation\": \"educator\", \"zip_code\": \"53188\"}, {\"user_id\": \"574\", \"rating count\": 26, \"rating mean\": 3.1538461538461537, \"age\": 33, \"sex\": \"M\", \"occupation\": \"marketing\", \"zip_code\": \"46032\"}, {\"user_id\": \"575\", \"rating count\": 36, \"rating mean\": 3.5277777777777777, \"age\": 48, \"sex\": \"M\", \"occupation\": \"executive\", \"zip_code\": \"98281\"}, {\"user_id\": \"576\", \"rating count\": 188, \"rating mean\": 3.8031914893617023, \"age\": 36, \"sex\": \"F\", \"occupation\": \"student\", \"zip_code\": \"77845\"}, {\"user_id\": \"577\", \"rating count\": 24, \"rating mean\": 2.6666666666666665, \"age\": 31, \"sex\": \"M\", \"occupation\": \"administrator\", \"zip_code\": \"M7A1A\"}, {\"user_id\": \"578\", \"rating count\": 74, \"rating mean\": 3.472972972972973, \"age\": 32, \"sex\": \"M\", \"occupation\": \"educator\", \"zip_code\": \"48103\"}, {\"user_id\": \"579\", \"rating count\": 47, \"rating mean\": 3.5531914893617023, \"age\": 16, \"sex\": \"M\", \"occupation\": \"student\", \"zip_code\": \"17961\"}, {\"user_id\": \"58\", \"rating count\": 382, \"rating mean\": 3.9345549738219896, \"age\": 49, \"sex\": \"M\", \"occupation\": \"educator\", \"zip_code\": \"08403\"}, {\"user_id\": \"580\", \"rating count\": 28, \"rating mean\": 4.035714285714286, \"age\": 37, \"sex\": \"M\", \"occupation\": \"other\", \"zip_code\": \"94131\"}, {\"user_id\": \"581\", \"rating count\": 62, \"rating mean\": 3.274193548387097, \"age\": 17, \"sex\": \"M\", \"occupation\": \"student\", \"zip_code\": \"93003\"}, {\"user_id\": \"582\", \"rating count\": 27, \"rating mean\": 4.444444444444445, \"age\": 44, \"sex\": \"M\", \"occupation\": \"engineer\", \"zip_code\": \"29631\"}, {\"user_id\": \"583\", \"rating count\": 24, \"rating mean\": 3.5416666666666665, \"age\": 25, \"sex\": \"M\", \"occupation\": \"student\", \"zip_code\": \"27511\"}, {\"user_id\": \"584\", \"rating count\": 80, \"rating mean\": 3.7375, \"age\": 69, \"sex\": \"M\", \"occupation\": \"librarian\", \"zip_code\": \"98501\"}, {\"user_id\": \"585\", \"rating count\": 166, \"rating mean\": 3.325301204819277, \"age\": 20, \"sex\": \"M\", \"occupation\": \"student\", \"zip_code\": \"79508\"}, {\"user_id\": \"586\", \"rating count\": 98, \"rating mean\": 2.9693877551020407, \"age\": 26, \"sex\": \"M\", \"occupation\": \"other\", \"zip_code\": \"14216\"}, {\"user_id\": \"587\", \"rating count\": 225, \"rating mean\": 3.7422222222222223, \"age\": 18, \"sex\": \"F\", \"occupation\": \"student\", \"zip_code\": \"93063\"}, {\"user_id\": \"588\", \"rating count\": 43, \"rating mean\": 3.441860465116279, \"age\": 21, \"sex\": \"M\", \"occupation\": \"lawyer\", \"zip_code\": \"90034\"}, {\"user_id\": \"589\", \"rating count\": 48, \"rating mean\": 3.5, \"age\": 50, \"sex\": \"M\", \"occupation\": \"educator\", \"zip_code\": \"82435\"}, {\"user_id\": \"59\", \"rating count\": 208, \"rating mean\": 4.086538461538462, \"age\": 50, \"sex\": \"M\", \"occupation\": \"healthcare\", \"zip_code\": \"06472\"}, {\"user_id\": \"590\", \"rating count\": 84, \"rating mean\": 3.6547619047619047, \"age\": 57, \"sex\": \"F\", \"occupation\": \"librarian\", \"zip_code\": \"92093\"}, {\"user_id\": \"591\", \"rating count\": 360, \"rating mean\": 3.813888888888889, \"age\": 18, \"sex\": \"M\", \"occupation\": \"student\", \"zip_code\": \"97520\"}, {\"user_id\": \"592\", \"rating count\": 156, \"rating mean\": 3.608974358974359, \"age\": 31, \"sex\": \"F\", \"occupation\": \"educator\", \"zip_code\": \"68767\"}, {\"user_id\": \"593\", \"rating count\": 25, \"rating mean\": 3.48, \"age\": 46, \"sex\": \"M\", \"occupation\": \"educator\", \"zip_code\": \"M4J2K\"}, {\"user_id\": \"594\", \"rating count\": 96, \"rating mean\": 3.1979166666666665, \"age\": 25, \"sex\": \"M\", \"occupation\": \"programmer\", \"zip_code\": \"31909\"}, {\"user_id\": \"595\", \"rating count\": 20, \"rating mean\": 3.6, \"age\": 20, \"sex\": \"M\", \"occupation\": \"artist\", \"zip_code\": \"77073\"}, {\"user_id\": \"596\", \"rating count\": 41, \"rating mean\": 3.6341463414634148, \"age\": 23, \"sex\": \"M\", \"occupation\": \"other\", \"zip_code\": \"84116\"}, {\"user_id\": \"597\", \"rating count\": 25, \"rating mean\": 3.68, \"age\": 40, \"sex\": \"F\", \"occupation\": \"marketing\", \"zip_code\": \"43085\"}, {\"user_id\": \"598\", \"rating count\": 47, \"rating mean\": 3.893617021276596, \"age\": 22, \"sex\": \"F\", \"occupation\": \"student\", \"zip_code\": \"R3T5K\"}, {\"user_id\": \"599\", \"rating count\": 89, \"rating mean\": 3.5842696629213484, \"age\": 34, \"sex\": \"M\", \"occupation\": \"programmer\", \"zip_code\": \"02320\"}, {\"user_id\": \"6\", \"rating count\": 403, \"rating mean\": 3.965260545905707, \"age\": 57, \"sex\": \"M\", \"occupation\": \"administrator\", \"zip_code\": \"91344\"}, {\"user_id\": \"60\", \"rating count\": 21, \"rating mean\": 2.9523809523809526, \"age\": 36, \"sex\": \"M\", \"occupation\": \"engineer\", \"zip_code\": \"30040\"}, {\"user_id\": \"600\", \"rating count\": 148, \"rating mean\": 3.081081081081081, \"age\": 19, \"sex\": \"F\", \"occupation\": \"artist\", \"zip_code\": \"99687\"}, {\"user_id\": \"601\", \"rating count\": 29, \"rating mean\": 3.793103448275862, \"age\": 47, \"sex\": \"F\", \"occupation\": \"other\", \"zip_code\": \"34656\"}, {\"user_id\": \"602\", \"rating count\": 47, \"rating mean\": 3.7872340425531914, \"age\": 21, \"sex\": \"M\", \"occupation\": \"programmer\", \"zip_code\": \"47905\"}, {\"user_id\": \"603\", \"rating count\": 27, \"rating mean\": 3.2962962962962963, \"age\": 39, \"sex\": \"M\", \"occupation\": \"educator\", \"zip_code\": \"11787\"}, {\"user_id\": \"604\", \"rating count\": 90, \"rating mean\": 3.7555555555555555, \"age\": 33, \"sex\": \"M\", \"occupation\": \"engineer\", \"zip_code\": \"33716\"}, {\"user_id\": \"605\", \"rating count\": 236, \"rating mean\": 3.9661016949152543, \"age\": 28, \"sex\": \"M\", \"occupation\": \"programmer\", \"zip_code\": \"63044\"}, {\"user_id\": \"606\", \"rating count\": 37, \"rating mean\": 3.8378378378378377, \"age\": 49, \"sex\": \"F\", \"occupation\": \"healthcare\", \"zip_code\": \"02154\"}, {\"user_id\": \"607\", \"rating count\": 163, \"rating mean\": 3.6748466257668713, \"age\": 22, \"sex\": \"M\", \"occupation\": \"other\", \"zip_code\": \"10003\"}, {\"user_id\": \"608\", \"rating count\": 28, \"rating mean\": 2.392857142857143, \"age\": 13, \"sex\": \"F\", \"occupation\": \"student\", \"zip_code\": \"55106\"}, {\"user_id\": \"609\", \"rating count\": 75, \"rating mean\": 3.7333333333333334, \"age\": 22, \"sex\": \"M\", \"occupation\": \"student\", \"zip_code\": \"21227\"}, {\"user_id\": \"61\", \"rating count\": 232, \"rating mean\": 3.3017241379310347, \"age\": 27, \"sex\": \"F\", \"occupation\": \"administrator\", \"zip_code\": \"97214\"}, {\"user_id\": \"610\", \"rating count\": 42, \"rating mean\": 3.8333333333333335, \"age\": 46, \"sex\": \"M\", \"occupation\": \"librarian\", \"zip_code\": \"77008\"}, {\"user_id\": \"611\", \"rating count\": 27, \"rating mean\": 3.3703703703703702, \"age\": 36, \"sex\": \"M\", \"occupation\": \"educator\", \"zip_code\": \"79070\"}, {\"user_id\": \"612\", \"rating count\": 28, \"rating mean\": 4.321428571428571, \"age\": 37, \"sex\": \"F\", \"occupation\": \"marketing\", \"zip_code\": \"29678\"}, {\"user_id\": \"613\", \"rating count\": 39, \"rating mean\": 3.128205128205128, \"age\": 54, \"sex\": \"M\", \"occupation\": \"educator\", \"zip_code\": \"80227\"}, {\"user_id\": \"614\", \"rating count\": 103, \"rating mean\": 3.8640776699029127, \"age\": 38, \"sex\": \"M\", \"occupation\": \"educator\", \"zip_code\": \"27705\"}, {\"user_id\": \"615\", \"rating count\": 43, \"rating mean\": 3.627906976744186, \"age\": 55, \"sex\": \"M\", \"occupation\": \"scientist\", \"zip_code\": \"50613\"}, {\"user_id\": \"616\", \"rating count\": 108, \"rating mean\": 2.6203703703703702, \"age\": 27, \"sex\": \"F\", \"occupation\": \"writer\", \"zip_code\": \"11201\"}, {\"user_id\": \"617\", \"rating count\": 216, \"rating mean\": 3.287037037037037, \"age\": 15, \"sex\": \"F\", \"occupation\": \"student\", \"zip_code\": \"44212\"}, {\"user_id\": \"618\", \"rating count\": 89, \"rating mean\": 3.50561797752809, \"age\": 17, \"sex\": \"M\", \"occupation\": \"student\", \"zip_code\": \"44134\"}, {\"user_id\": \"619\", \"rating count\": 110, \"rating mean\": 3.827272727272727, \"age\": 18, \"sex\": \"F\", \"occupation\": \"writer\", \"zip_code\": \"81648\"}, {\"user_id\": \"62\", \"rating count\": 93, \"rating mean\": 3.118279569892473, \"age\": 31, \"sex\": \"M\", \"occupation\": \"marketing\", \"zip_code\": \"75240\"}, {\"user_id\": \"620\", \"rating count\": 171, \"rating mean\": 3.5497076023391814, \"age\": 17, \"sex\": \"M\", \"occupation\": \"student\", \"zip_code\": \"60402\"}, {\"user_id\": \"621\", \"rating count\": 228, \"rating mean\": 3.3903508771929824, \"age\": 25, \"sex\": \"M\", \"occupation\": \"programmer\", \"zip_code\": \"14850\"}, {\"user_id\": \"622\", \"rating count\": 45, \"rating mean\": 3.7333333333333334, \"age\": 50, \"sex\": \"F\", \"occupation\": \"educator\", \"zip_code\": \"60187\"}, {\"user_id\": \"623\", \"rating count\": 141, \"rating mean\": 3.5319148936170213, \"age\": 19, \"sex\": \"M\", \"occupation\": \"student\", \"zip_code\": \"30067\"}, {\"user_id\": \"624\", \"rating count\": 106, \"rating mean\": 3.4339622641509435, \"age\": 27, \"sex\": \"M\", \"occupation\": \"programmer\", \"zip_code\": \"20723\"}, {\"user_id\": \"625\", \"rating count\": 32, \"rating mean\": 2.34375, \"age\": 23, \"sex\": \"M\", \"occupation\": \"scientist\", \"zip_code\": \"19807\"}, {\"user_id\": \"626\", \"rating count\": 181, \"rating mean\": 3.292817679558011, \"age\": 24, \"sex\": \"M\", \"occupation\": \"engineer\", \"zip_code\": \"08034\"}, {\"user_id\": \"627\", \"rating count\": 27, \"rating mean\": 4.703703703703703, \"age\": 13, \"sex\": \"M\", \"occupation\": \"none\", \"zip_code\": \"94306\"}, {\"user_id\": \"628\", \"rating count\": 121, \"rating mean\": 4.082644628099174, \"age\": 46, \"sex\": \"F\", \"occupation\": \"other\", \"zip_code\": \"44224\"}, {\"user_id\": \"629\", \"rating count\": 108, \"rating mean\": 3.324074074074074, \"age\": 26, \"sex\": \"F\", \"occupation\": \"healthcare\", \"zip_code\": \"55408\"}, {\"user_id\": \"63\", \"rating count\": 200, \"rating mean\": 3.585, \"age\": 32, \"sex\": \"M\", \"occupation\": \"educator\", \"zip_code\": \"43202\"}, {\"user_id\": \"630\", \"rating count\": 20, \"rating mean\": 3.1, \"age\": 18, \"sex\": \"F\", \"occupation\": \"student\", \"zip_code\": \"38866\"}, {\"user_id\": \"631\", \"rating count\": 118, \"rating mean\": 3.6610169491525424, \"age\": 18, \"sex\": \"M\", \"occupation\": \"student\", \"zip_code\": \"55454\"}, {\"user_id\": \"632\", \"rating count\": 58, \"rating mean\": 3.310344827586207, \"age\": 35, \"sex\": \"M\", \"occupation\": \"programmer\", \"zip_code\": \"55414\"}, {\"user_id\": \"633\", \"rating count\": 135, \"rating mean\": 3.3703703703703702, \"age\": 39, \"sex\": \"M\", \"occupation\": \"engineer\", \"zip_code\": \"T8H1N\"}, {\"user_id\": \"634\", \"rating count\": 34, \"rating mean\": 3.264705882352941, \"age\": 22, \"sex\": \"M\", \"occupation\": \"other\", \"zip_code\": \"23237\"}, {\"user_id\": \"635\", \"rating count\": 20, \"rating mean\": 4.45, \"age\": 47, \"sex\": \"M\", \"occupation\": \"educator\", \"zip_code\": \"48043\"}, {\"user_id\": \"636\", \"rating count\": 104, \"rating mean\": 2.4903846153846154, \"age\": 30, \"sex\": \"M\", \"occupation\": \"other\", \"zip_code\": \"74101\"}, {\"user_id\": \"637\", \"rating count\": 67, \"rating mean\": 3.537313432835821, \"age\": 45, \"sex\": \"M\", \"occupation\": \"engineer\", \"zip_code\": \"01940\"}, {\"user_id\": \"638\", \"rating count\": 148, \"rating mean\": 2.9594594594594597, \"age\": 42, \"sex\": \"F\", \"occupation\": \"librarian\", \"zip_code\": \"12065\"}, {\"user_id\": \"639\", \"rating count\": 109, \"rating mean\": 4.229357798165138, \"age\": 20, \"sex\": \"M\", \"occupation\": \"student\", \"zip_code\": \"61801\"}, {\"user_id\": \"64\", \"rating count\": 80, \"rating mean\": 3.9375, \"age\": 51, \"sex\": \"F\", \"occupation\": \"educator\", \"zip_code\": \"48118\"}, {\"user_id\": \"640\", \"rating count\": 40, \"rating mean\": 4.125, \"age\": 24, \"sex\": \"M\", \"occupation\": \"student\", \"zip_code\": \"60626\"}, {\"user_id\": \"641\", \"rating count\": 318, \"rating mean\": 3.6226415094339623, \"age\": 18, \"sex\": \"F\", \"occupation\": \"student\", \"zip_code\": \"95521\"}, {\"user_id\": \"642\", \"rating count\": 206, \"rating mean\": 3.737864077669903, \"age\": 39, \"sex\": \"M\", \"occupation\": \"scientist\", \"zip_code\": \"55122\"}, {\"user_id\": \"643\", \"rating count\": 42, \"rating mean\": 4.0, \"age\": 51, \"sex\": \"M\", \"occupation\": \"retired\", \"zip_code\": \"63645\"}, {\"user_id\": \"644\", \"rating count\": 122, \"rating mean\": 3.959016393442623, \"age\": 27, \"sex\": \"M\", \"occupation\": \"programmer\", \"zip_code\": \"53211\"}, {\"user_id\": \"645\", \"rating count\": 38, \"rating mean\": 2.9473684210526314, \"age\": 17, \"sex\": \"F\", \"occupation\": \"student\", \"zip_code\": \"51250\"}, {\"user_id\": \"646\", \"rating count\": 58, \"rating mean\": 3.8275862068965516, \"age\": 40, \"sex\": \"M\", \"occupation\": \"educator\", \"zip_code\": \"45810\"}, {\"user_id\": \"647\", \"rating count\": 297, \"rating mean\": 3.259259259259259, \"age\": 43, \"sex\": \"M\", \"occupation\": \"engineer\", \"zip_code\": \"91351\"}, {\"user_id\": \"648\", \"rating count\": 24, \"rating mean\": 3.7916666666666665, \"age\": 20, \"sex\": \"M\", \"occupation\": \"student\", \"zip_code\": \"39762\"}, {\"user_id\": \"649\", \"rating count\": 311, \"rating mean\": 3.1543408360128615, \"age\": 42, \"sex\": \"M\", \"occupation\": \"engineer\", \"zip_code\": \"83814\"}, {\"user_id\": \"65\", \"rating count\": 38, \"rating mean\": 3.473684210526316, \"age\": 23, \"sex\": \"M\", \"occupation\": \"student\", \"zip_code\": \"80521\"}, {\"user_id\": \"650\", \"rating count\": 21, \"rating mean\": 3.2857142857142856, \"age\": 65, \"sex\": \"M\", \"occupation\": \"retired\", \"zip_code\": \"02903\"}, {\"user_id\": \"651\", \"rating count\": 22, \"rating mean\": 3.1363636363636362, \"age\": 35, \"sex\": \"M\", \"occupation\": \"other\", \"zip_code\": \"22911\"}, {\"user_id\": \"652\", \"rating count\": 283, \"rating mean\": 2.6925795053003534, \"age\": 31, \"sex\": \"M\", \"occupation\": \"executive\", \"zip_code\": \"55105\"}, {\"user_id\": \"653\", \"rating count\": 147, \"rating mean\": 3.687074829931973, \"age\": 27, \"sex\": \"F\", \"occupation\": \"student\", \"zip_code\": \"78739\"}, {\"user_id\": \"654\", \"rating count\": 685, \"rating mean\": 2.908029197080292, \"age\": 50, \"sex\": \"F\", \"occupation\": \"healthcare\", \"zip_code\": \"60657\"}, {\"user_id\": \"655\", \"rating count\": 24, \"rating mean\": 2.5416666666666665, \"age\": 48, \"sex\": \"M\", \"occupation\": \"educator\", \"zip_code\": \"10314\"}, {\"user_id\": \"656\", \"rating count\": 29, \"rating mean\": 3.2413793103448274, \"age\": 26, \"sex\": \"F\", \"occupation\": \"none\", \"zip_code\": \"78704\"}, {\"user_id\": \"657\", \"rating count\": 71, \"rating mean\": 3.732394366197183, \"age\": 33, \"sex\": \"M\", \"occupation\": \"programmer\", \"zip_code\": \"92626\"}, {\"user_id\": \"658\", \"rating count\": 191, \"rating mean\": 3.7905759162303663, \"age\": 31, \"sex\": \"M\", \"occupation\": \"educator\", \"zip_code\": \"54248\"}, {\"user_id\": \"659\", \"rating count\": 224, \"rating mean\": 2.5848214285714284, \"age\": 26, \"sex\": \"M\", \"occupation\": \"student\", \"zip_code\": \"77380\"}, {\"user_id\": \"66\", \"rating count\": 30, \"rating mean\": 3.7666666666666666, \"age\": 17, \"sex\": \"M\", \"occupation\": \"student\", \"zip_code\": \"60402\"}, {\"user_id\": \"660\", \"rating count\": 121, \"rating mean\": 3.9173553719008263, \"age\": 28, \"sex\": \"M\", \"occupation\": \"programmer\", \"zip_code\": \"98121\"}, {\"user_id\": \"661\", \"rating count\": 23, \"rating mean\": 3.869565217391304, \"age\": 55, \"sex\": \"M\", \"occupation\": \"librarian\", \"zip_code\": \"19102\"}, {\"user_id\": \"662\", \"rating count\": 158, \"rating mean\": 3.5316455696202533, \"age\": 26, \"sex\": \"M\", \"occupation\": \"other\", \"zip_code\": \"19341\"}, {\"user_id\": \"663\", \"rating count\": 166, \"rating mean\": 3.746987951807229, \"age\": 30, \"sex\": \"M\", \"occupation\": \"engineer\", \"zip_code\": \"94115\"}, {\"user_id\": \"664\", \"rating count\": 142, \"rating mean\": 3.4788732394366195, \"age\": 25, \"sex\": \"M\", \"occupation\": \"administrator\", \"zip_code\": \"55412\"}, {\"user_id\": \"665\", \"rating count\": 245, \"rating mean\": 3.6653061224489796, \"age\": 44, \"sex\": \"M\", \"occupation\": \"administrator\", \"zip_code\": \"61820\"}, {\"user_id\": \"666\", \"rating count\": 47, \"rating mean\": 3.9574468085106385, \"age\": 35, \"sex\": \"M\", \"occupation\": \"librarian\", \"zip_code\": \"01970\"}, {\"user_id\": \"667\", \"rating count\": 46, \"rating mean\": 3.5217391304347827, \"age\": 29, \"sex\": \"F\", \"occupation\": \"writer\", \"zip_code\": \"10016\"}, {\"user_id\": \"668\", \"rating count\": 100, \"rating mean\": 3.38, \"age\": 37, \"sex\": \"M\", \"occupation\": \"other\", \"zip_code\": \"20009\"}, {\"user_id\": \"669\", \"rating count\": 46, \"rating mean\": 3.847826086956522, \"age\": 30, \"sex\": \"M\", \"occupation\": \"technician\", \"zip_code\": \"21114\"}, {\"user_id\": \"67\", \"rating count\": 34, \"rating mean\": 3.0294117647058822, \"age\": 19, \"sex\": \"M\", \"occupation\": \"student\", \"zip_code\": \"22904\"}, {\"user_id\": \"670\", \"rating count\": 124, \"rating mean\": 3.5806451612903225, \"age\": 21, \"sex\": \"M\", \"occupation\": \"programmer\", \"zip_code\": \"91919\"}, {\"user_id\": \"671\", \"rating count\": 29, \"rating mean\": 3.2413793103448274, \"age\": 54, \"sex\": \"F\", \"occupation\": \"administrator\", \"zip_code\": \"90095\"}, {\"user_id\": \"672\", \"rating count\": 35, \"rating mean\": 3.8857142857142857, \"age\": 51, \"sex\": \"M\", \"occupation\": \"educator\", \"zip_code\": \"22906\"}, {\"user_id\": \"673\", \"rating count\": 41, \"rating mean\": 3.658536585365854, \"age\": 13, \"sex\": \"F\", \"occupation\": \"student\", \"zip_code\": \"55337\"}, {\"user_id\": \"674\", \"rating count\": 34, \"rating mean\": 3.7058823529411766, \"age\": 34, \"sex\": \"M\", \"occupation\": \"other\", \"zip_code\": \"28814\"}, {\"user_id\": \"675\", \"rating count\": 77, \"rating mean\": 3.5844155844155843, \"age\": 30, \"sex\": \"M\", \"occupation\": \"programmer\", \"zip_code\": \"32712\"}, {\"user_id\": \"676\", \"rating count\": 49, \"rating mean\": 3.5918367346938775, \"age\": 20, \"sex\": \"M\", \"occupation\": \"other\", \"zip_code\": \"99835\"}, {\"user_id\": \"677\", \"rating count\": 28, \"rating mean\": 3.4285714285714284, \"age\": 50, \"sex\": \"M\", \"occupation\": \"educator\", \"zip_code\": \"61462\"}, {\"user_id\": \"678\", \"rating count\": 62, \"rating mean\": 3.661290322580645, \"age\": 20, \"sex\": \"F\", \"occupation\": \"student\", \"zip_code\": \"54302\"}, {\"user_id\": \"679\", \"rating count\": 38, \"rating mean\": 4.0, \"age\": 33, \"sex\": \"M\", \"occupation\": \"lawyer\", \"zip_code\": \"90405\"}, {\"user_id\": \"68\", \"rating count\": 65, \"rating mean\": 3.8461538461538463, \"age\": 24, \"sex\": \"M\", \"occupation\": \"engineer\", \"zip_code\": \"55337\"}, {\"user_id\": \"680\", \"rating count\": 22, \"rating mean\": 3.227272727272727, \"age\": 44, \"sex\": \"F\", \"occupation\": \"marketing\", \"zip_code\": \"97208\"}, {\"user_id\": \"681\", \"rating count\": 399, \"rating mean\": 3.137844611528822, \"age\": 23, \"sex\": \"M\", \"occupation\": \"programmer\", \"zip_code\": \"55128\"}, {\"user_id\": \"682\", \"rating count\": 75, \"rating mean\": 3.2266666666666666, \"age\": 42, \"sex\": \"M\", \"occupation\": \"librarian\", \"zip_code\": \"23509\"}, {\"user_id\": \"683\", \"rating count\": 86, \"rating mean\": 3.488372093023256, \"age\": 28, \"sex\": \"M\", \"occupation\": \"student\", \"zip_code\": \"55414\"}, {\"user_id\": \"684\", \"rating count\": 20, \"rating mean\": 2.05, \"age\": 32, \"sex\": \"F\", \"occupation\": \"librarian\", \"zip_code\": \"55409\"}, {\"user_id\": \"685\", \"rating count\": 71, \"rating mean\": 4.563380281690141, \"age\": 32, \"sex\": \"M\", \"occupation\": \"educator\", \"zip_code\": \"26506\"}, {\"user_id\": \"686\", \"rating count\": 21, \"rating mean\": 3.4761904761904763, \"age\": 31, \"sex\": \"F\", \"occupation\": \"healthcare\", \"zip_code\": \"27713\"}, {\"user_id\": \"687\", \"rating count\": 24, \"rating mean\": 4.833333333333333, \"age\": 37, \"sex\": \"F\", \"occupation\": \"administrator\", \"zip_code\": \"60476\"}, {\"user_id\": \"688\", \"rating count\": 36, \"rating mean\": 3.8333333333333335, \"age\": 25, \"sex\": \"M\", \"occupation\": \"other\", \"zip_code\": \"45439\"}, {\"user_id\": \"689\", \"rating count\": 115, \"rating mean\": 3.1478260869565218, \"age\": 35, \"sex\": \"M\", \"occupation\": \"salesman\", \"zip_code\": \"63304\"}, {\"user_id\": \"69\", \"rating count\": 131, \"rating mean\": 3.4656488549618323, \"age\": 27, \"sex\": \"M\", \"occupation\": \"engineer\", \"zip_code\": \"60067\"}, {\"user_id\": \"690\", \"rating count\": 32, \"rating mean\": 4.21875, \"age\": 34, \"sex\": \"M\", \"occupation\": \"educator\", \"zip_code\": \"60089\"}, {\"user_id\": \"691\", \"rating count\": 40, \"rating mean\": 3.275, \"age\": 34, \"sex\": \"M\", \"occupation\": \"engineer\", \"zip_code\": \"18053\"}, {\"user_id\": \"692\", \"rating count\": 154, \"rating mean\": 3.1363636363636362, \"age\": 43, \"sex\": \"F\", \"occupation\": \"healthcare\", \"zip_code\": \"85210\"}, {\"user_id\": \"693\", \"rating count\": 157, \"rating mean\": 4.1528662420382165, \"age\": 60, \"sex\": \"M\", \"occupation\": \"programmer\", \"zip_code\": \"06365\"}, {\"user_id\": \"694\", \"rating count\": 38, \"rating mean\": 3.289473684210526, \"age\": 26, \"sex\": \"M\", \"occupation\": \"writer\", \"zip_code\": \"38115\"}, {\"user_id\": \"695\", \"rating count\": 29, \"rating mean\": 3.9310344827586206, \"age\": 55, \"sex\": \"M\", \"occupation\": \"other\", \"zip_code\": \"94920\"}, {\"user_id\": \"696\", \"rating count\": 105, \"rating mean\": 3.7142857142857144, \"age\": 25, \"sex\": \"M\", \"occupation\": \"other\", \"zip_code\": \"77042\"}, {\"user_id\": \"697\", \"rating count\": 127, \"rating mean\": 2.84251968503937, \"age\": 28, \"sex\": \"F\", \"occupation\": \"programmer\", \"zip_code\": \"06906\"}, {\"user_id\": \"698\", \"rating count\": 149, \"rating mean\": 3.1476510067114094, \"age\": 44, \"sex\": \"M\", \"occupation\": \"other\", \"zip_code\": \"96754\"}, {\"user_id\": \"699\", \"rating count\": 21, \"rating mean\": 3.6666666666666665, \"age\": 17, \"sex\": \"M\", \"occupation\": \"student\", \"zip_code\": \"76309\"}, {\"user_id\": \"7\", \"rating count\": 59, \"rating mean\": 3.7966101694915255, \"age\": 36, \"sex\": \"M\", \"occupation\": \"administrator\", \"zip_code\": \"05201\"}, {\"user_id\": \"70\", \"rating count\": 38, \"rating mean\": 3.789473684210526, \"age\": 39, \"sex\": \"M\", \"occupation\": \"scientist\", \"zip_code\": \"98034\"}, {\"user_id\": \"700\", \"rating count\": 33, \"rating mean\": 4.212121212121212, \"age\": 51, \"sex\": \"F\", \"occupation\": \"librarian\", \"zip_code\": \"56321\"}, {\"user_id\": \"701\", \"rating count\": 31, \"rating mean\": 2.4516129032258065, \"age\": 37, \"sex\": \"M\", \"occupation\": \"other\", \"zip_code\": \"89104\"}, {\"user_id\": \"702\", \"rating count\": 47, \"rating mean\": 3.5319148936170213, \"age\": 26, \"sex\": \"M\", \"occupation\": \"educator\", \"zip_code\": \"49512\"}, {\"user_id\": \"703\", \"rating count\": 90, \"rating mean\": 3.7777777777777777, \"age\": 51, \"sex\": \"F\", \"occupation\": \"librarian\", \"zip_code\": \"91105\"}, {\"user_id\": \"704\", \"rating count\": 114, \"rating mean\": 3.710526315789474, \"age\": 21, \"sex\": \"F\", \"occupation\": \"student\", \"zip_code\": \"54494\"}, {\"user_id\": \"705\", \"rating count\": 29, \"rating mean\": 3.310344827586207, \"age\": 23, \"sex\": \"M\", \"occupation\": \"student\", \"zip_code\": \"55454\"}, {\"user_id\": \"706\", \"rating count\": 236, \"rating mean\": 3.4957627118644066, \"age\": 56, \"sex\": \"F\", \"occupation\": \"librarian\", \"zip_code\": \"19146\"}, {\"user_id\": \"707\", \"rating count\": 105, \"rating mean\": 3.2, \"age\": 26, \"sex\": \"F\", \"occupation\": \"homemaker\", \"zip_code\": \"96349\"}, {\"user_id\": \"708\", \"rating count\": 138, \"rating mean\": 3.572463768115942, \"age\": 21, \"sex\": \"M\", \"occupation\": \"other\", \"zip_code\": \"N4T1A\"}, {\"user_id\": \"709\", \"rating count\": 86, \"rating mean\": 3.697674418604651, \"age\": 19, \"sex\": \"M\", \"occupation\": \"student\", \"zip_code\": \"92020\"}, {\"user_id\": \"71\", \"rating count\": 137, \"rating mean\": 3.8175182481751824, \"age\": 48, \"sex\": \"F\", \"occupation\": \"administrator\", \"zip_code\": \"73034\"}, {\"user_id\": \"710\", \"rating count\": 221, \"rating mean\": 3.8597285067873304, \"age\": 22, \"sex\": \"F\", \"occupation\": \"student\", \"zip_code\": \"15203\"}, {\"user_id\": \"711\", \"rating count\": 162, \"rating mean\": 3.765432098765432, \"age\": 22, \"sex\": \"F\", \"occupation\": \"student\", \"zip_code\": \"54901\"}, {\"user_id\": \"712\", \"rating count\": 30, \"rating mean\": 2.966666666666667, \"age\": 42, \"sex\": \"F\", \"occupation\": \"other\", \"zip_code\": \"07204\"}, {\"user_id\": \"713\", \"rating count\": 44, \"rating mean\": 3.522727272727273, \"age\": 26, \"sex\": \"M\", \"occupation\": \"engineer\", \"zip_code\": \"55343\"}, {\"user_id\": \"714\", \"rating count\": 167, \"rating mean\": 3.3832335329341316, \"age\": 21, \"sex\": \"M\", \"occupation\": \"technician\", \"zip_code\": \"91206\"}, {\"user_id\": \"715\", \"rating count\": 269, \"rating mean\": 3.8884758364312266, \"age\": 36, \"sex\": \"F\", \"occupation\": \"administrator\", \"zip_code\": \"44265\"}, {\"user_id\": \"716\", \"rating count\": 93, \"rating mean\": 3.7096774193548385, \"age\": 24, \"sex\": \"M\", \"occupation\": \"technician\", \"zip_code\": \"84105\"}, {\"user_id\": \"717\", \"rating count\": 39, \"rating mean\": 3.6923076923076925, \"age\": 42, \"sex\": \"M\", \"occupation\": \"technician\", \"zip_code\": \"64118\"}, {\"user_id\": \"718\", \"rating count\": 67, \"rating mean\": 3.1044776119402986, \"age\": 37, \"sex\": \"F\", \"occupation\": \"other\", \"zip_code\": \"V0R2H\"}, {\"user_id\": \"719\", \"rating count\": 30, \"rating mean\": 3.966666666666667, \"age\": 49, \"sex\": \"F\", \"occupation\": \"administrator\", \"zip_code\": \"16506\"}, {\"user_id\": \"72\", \"rating count\": 66, \"rating mean\": 3.727272727272727, \"age\": 24, \"sex\": \"M\", \"occupation\": \"student\", \"zip_code\": \"41850\"}, {\"user_id\": \"720\", \"rating count\": 168, \"rating mean\": 3.5357142857142856, \"age\": 24, \"sex\": \"F\", \"occupation\": \"entertainment\", \"zip_code\": \"11238\"}, {\"user_id\": \"721\", \"rating count\": 42, \"rating mean\": 3.619047619047619, \"age\": 50, \"sex\": \"F\", \"occupation\": \"homemaker\", \"zip_code\": \"17331\"}, {\"user_id\": \"722\", \"rating count\": 22, \"rating mean\": 3.272727272727273, \"age\": 26, \"sex\": \"M\", \"occupation\": \"executive\", \"zip_code\": \"94403\"}, {\"user_id\": \"723\", \"rating count\": 85, \"rating mean\": 2.164705882352941, \"age\": 31, \"sex\": \"M\", \"occupation\": \"executive\", \"zip_code\": \"40243\"}, {\"user_id\": \"724\", \"rating count\": 25, \"rating mean\": 3.8, \"age\": 21, \"sex\": \"M\", \"occupation\": \"student\", \"zip_code\": \"91711\"}, {\"user_id\": \"725\", \"rating count\": 24, \"rating mean\": 3.0, \"age\": 25, \"sex\": \"F\", \"occupation\": \"administrator\", \"zip_code\": \"80538\"}, {\"user_id\": \"726\", \"rating count\": 322, \"rating mean\": 3.0372670807453415, \"age\": 25, \"sex\": \"M\", \"occupation\": \"student\", \"zip_code\": \"78741\"}, {\"user_id\": \"727\", \"rating count\": 26, \"rating mean\": 3.576923076923077, \"age\": 58, \"sex\": \"M\", \"occupation\": \"executive\", \"zip_code\": \"94306\"}, {\"user_id\": \"728\", \"rating count\": 21, \"rating mean\": 2.857142857142857, \"age\": 19, \"sex\": \"M\", \"occupation\": \"student\", \"zip_code\": \"56567\"}, {\"user_id\": \"729\", \"rating count\": 38, \"rating mean\": 3.236842105263158, \"age\": 31, \"sex\": \"F\", \"occupation\": \"scientist\", \"zip_code\": \"32114\"}, {\"user_id\": \"73\", \"rating count\": 39, \"rating mean\": 3.641025641025641, \"age\": 39, \"sex\": \"M\", \"occupation\": \"scientist\", \"zip_code\": \"T8H1N\"}, {\"user_id\": \"730\", \"rating count\": 83, \"rating mean\": 3.3855421686746987, \"age\": 41, \"sex\": \"F\", \"occupation\": \"educator\", \"zip_code\": \"70403\"}, {\"user_id\": \"731\", \"rating count\": 20, \"rating mean\": 3.7, \"age\": 28, \"sex\": \"F\", \"occupation\": \"other\", \"zip_code\": \"98405\"}, {\"user_id\": \"732\", \"rating count\": 107, \"rating mean\": 3.02803738317757, \"age\": 44, \"sex\": \"F\", \"occupation\": \"other\", \"zip_code\": \"60630\"}, {\"user_id\": \"733\", \"rating count\": 64, \"rating mean\": 3.609375, \"age\": 25, \"sex\": \"F\", \"occupation\": \"other\", \"zip_code\": \"63108\"}, {\"user_id\": \"734\", \"rating count\": 53, \"rating mean\": 3.3207547169811322, \"age\": 29, \"sex\": \"F\", \"occupation\": \"healthcare\", \"zip_code\": \"85719\"}, {\"user_id\": \"735\", \"rating count\": 24, \"rating mean\": 3.0, \"age\": 48, \"sex\": \"F\", \"occupation\": \"writer\", \"zip_code\": \"94618\"}, {\"user_id\": \"736\", \"rating count\": 33, \"rating mean\": 3.9696969696969697, \"age\": 30, \"sex\": \"M\", \"occupation\": \"programmer\", \"zip_code\": \"98072\"}, {\"user_id\": \"737\", \"rating count\": 148, \"rating mean\": 3.675675675675676, \"age\": 35, \"sex\": \"M\", \"occupation\": \"technician\", \"zip_code\": \"95403\"}, {\"user_id\": \"738\", \"rating count\": 35, \"rating mean\": 3.6, \"age\": 35, \"sex\": \"M\", \"occupation\": \"technician\", \"zip_code\": \"73162\"}, {\"user_id\": \"739\", \"rating count\": 20, \"rating mean\": 3.4, \"age\": 25, \"sex\": \"F\", \"occupation\": \"educator\", \"zip_code\": \"22206\"}, {\"user_id\": \"74\", \"rating count\": 79, \"rating mean\": 3.278481012658228, \"age\": 24, \"sex\": \"M\", \"occupation\": \"entertainment\", \"zip_code\": \"08816\"}, {\"user_id\": \"740\", \"rating count\": 104, \"rating mean\": 3.4615384615384617, \"age\": 25, \"sex\": \"M\", \"occupation\": \"writer\", \"zip_code\": \"63108\"}, {\"user_id\": \"741\", \"rating count\": 26, \"rating mean\": 3.4615384615384617, \"age\": 35, \"sex\": \"M\", \"occupation\": \"student\", \"zip_code\": \"29210\"}, {\"user_id\": \"742\", \"rating count\": 35, \"rating mean\": 3.6857142857142855, \"age\": 31, \"sex\": \"M\", \"occupation\": \"programmer\", \"zip_code\": \"92660\"}, {\"user_id\": \"743\", \"rating count\": 27, \"rating mean\": 3.8518518518518516, \"age\": 35, \"sex\": \"M\", \"occupation\": \"marketing\", \"zip_code\": \"47024\"}, {\"user_id\": \"744\", \"rating count\": 60, \"rating mean\": 3.1, \"age\": 42, \"sex\": \"M\", \"occupation\": \"writer\", \"zip_code\": \"55113\"}, {\"user_id\": \"745\", \"rating count\": 67, \"rating mean\": 3.6417910447761193, \"age\": 25, \"sex\": \"M\", \"occupation\": \"engineer\", \"zip_code\": \"19047\"}, {\"user_id\": \"746\", \"rating count\": 293, \"rating mean\": 4.054607508532423, \"age\": 19, \"sex\": \"M\", \"occupation\": \"other\", \"zip_code\": \"93612\"}, {\"user_id\": \"747\", \"rating count\": 108, \"rating mean\": 3.7222222222222223, \"age\": 28, \"sex\": \"M\", \"occupation\": \"administrator\", \"zip_code\": \"94720\"}, {\"user_id\": \"748\", \"rating count\": 305, \"rating mean\": 3.622950819672131, \"age\": 33, \"sex\": \"M\", \"occupation\": \"other\", \"zip_code\": \"80919\"}, {\"user_id\": \"749\", \"rating count\": 33, \"rating mean\": 3.090909090909091, \"age\": 28, \"sex\": \"M\", \"occupation\": \"administrator\", \"zip_code\": \"32303\"}, {\"user_id\": \"75\", \"rating count\": 82, \"rating mean\": 3.5609756097560976, \"age\": 20, \"sex\": \"M\", \"occupation\": \"student\", \"zip_code\": \"02215\"}, {\"user_id\": \"750\", \"rating count\": 168, \"rating mean\": 3.5416666666666665, \"age\": 24, \"sex\": \"F\", \"occupation\": \"other\", \"zip_code\": \"90034\"}, {\"user_id\": \"751\", \"rating count\": 73, \"rating mean\": 3.2054794520547945, \"age\": 60, \"sex\": \"M\", \"occupation\": \"retired\", \"zip_code\": \"21201\"}, {\"user_id\": \"752\", \"rating count\": 57, \"rating mean\": 3.5964912280701755, \"age\": 56, \"sex\": \"M\", \"occupation\": \"salesman\", \"zip_code\": \"91206\"}, {\"user_id\": \"753\", \"rating count\": 34, \"rating mean\": 3.3823529411764706, \"age\": 59, \"sex\": \"F\", \"occupation\": \"librarian\", \"zip_code\": \"62901\"}, {\"user_id\": \"754\", \"rating count\": 38, \"rating mean\": 3.1052631578947367, \"age\": 44, \"sex\": \"F\", \"occupation\": \"educator\", \"zip_code\": \"97007\"}, {\"user_id\": \"755\", \"rating count\": 109, \"rating mean\": 3.1926605504587156, \"age\": 30, \"sex\": \"F\", \"occupation\": \"none\", \"zip_code\": \"90247\"}, {\"user_id\": \"756\", \"rating count\": 166, \"rating mean\": 3.3674698795180724, \"age\": 26, \"sex\": \"M\", \"occupation\": \"student\", \"zip_code\": \"55104\"}, {\"user_id\": \"757\", \"rating count\": 357, \"rating mean\": 3.876750700280112, \"age\": 27, \"sex\": \"M\", \"occupation\": \"student\", \"zip_code\": \"53706\"}, {\"user_id\": \"758\", \"rating count\": 32, \"rating mean\": 4.0625, \"age\": 20, \"sex\": \"F\", \"occupation\": \"student\", \"zip_code\": \"68503\"}, {\"user_id\": \"759\", \"rating count\": 41, \"rating mean\": 3.2439024390243905, \"age\": 35, \"sex\": \"F\", \"occupation\": \"other\", \"zip_code\": \"14211\"}, {\"user_id\": \"76\", \"rating count\": 72, \"rating mean\": 3.611111111111111, \"age\": 30, \"sex\": \"M\", \"occupation\": \"technician\", \"zip_code\": \"29379\"}, {\"user_id\": \"760\", \"rating count\": 66, \"rating mean\": 2.8484848484848486, \"age\": 17, \"sex\": \"M\", \"occupation\": \"student\", \"zip_code\": \"97302\"}, {\"user_id\": \"761\", \"rating count\": 21, \"rating mean\": 3.0476190476190474, \"age\": 32, \"sex\": \"M\", \"occupation\": \"administrator\", \"zip_code\": \"95050\"}, {\"user_id\": \"762\", \"rating count\": 129, \"rating mean\": 3.7829457364341086, \"age\": 27, \"sex\": \"M\", \"occupation\": \"scientist\", \"zip_code\": \"02113\"}, {\"user_id\": \"763\", \"rating count\": 109, \"rating mean\": 3.688073394495413, \"age\": 27, \"sex\": \"F\", \"occupation\": \"educator\", \"zip_code\": \"62903\"}, {\"user_id\": \"764\", \"rating count\": 23, \"rating mean\": 4.086956521739131, \"age\": 31, \"sex\": \"M\", \"occupation\": \"student\", \"zip_code\": \"33066\"}, {\"user_id\": \"765\", \"rating count\": 175, \"rating mean\": 3.354285714285714, \"age\": 42, \"sex\": \"M\", \"occupation\": \"other\", \"zip_code\": \"10960\"}, {\"user_id\": \"766\", \"rating count\": 37, \"rating mean\": 4.4324324324324325, \"age\": 70, \"sex\": \"M\", \"occupation\": \"engineer\", \"zip_code\": \"00000\"}, {\"user_id\": \"767\", \"rating count\": 64, \"rating mean\": 3.265625, \"age\": 29, \"sex\": \"M\", \"occupation\": \"administrator\", \"zip_code\": \"12866\"}, {\"user_id\": \"768\", \"rating count\": 29, \"rating mean\": 3.0689655172413794, \"age\": 39, \"sex\": \"M\", \"occupation\": \"executive\", \"zip_code\": \"06927\"}, {\"user_id\": \"769\", \"rating count\": 64, \"rating mean\": 4.296875, \"age\": 28, \"sex\": \"M\", \"occupation\": \"student\", \"zip_code\": \"14216\"}, {\"user_id\": \"77\", \"rating count\": 21, \"rating mean\": 3.380952380952381, \"age\": 26, \"sex\": \"M\", \"occupation\": \"administrator\", \"zip_code\": \"61801\"}, {\"user_id\": \"770\", \"rating count\": 70, \"rating mean\": 3.7142857142857144, \"age\": 26, \"sex\": \"M\", \"occupation\": \"student\", \"zip_code\": \"15232\"}, {\"user_id\": \"771\", \"rating count\": 33, \"rating mean\": 4.0, \"age\": 50, \"sex\": \"M\", \"occupation\": \"writer\", \"zip_code\": \"27105\"}, {\"user_id\": \"772\", \"rating count\": 161, \"rating mean\": 3.279503105590062, \"age\": 20, \"sex\": \"M\", \"occupation\": \"student\", \"zip_code\": \"55414\"}, {\"user_id\": \"773\", \"rating count\": 224, \"rating mean\": 2.0580357142857144, \"age\": 30, \"sex\": \"M\", \"occupation\": \"student\", \"zip_code\": \"80027\"}, {\"user_id\": \"774\", \"rating count\": 28, \"rating mean\": 3.7857142857142856, \"age\": 46, \"sex\": \"M\", \"occupation\": \"executive\", \"zip_code\": \"90036\"}, {\"user_id\": \"775\", \"rating count\": 105, \"rating mean\": 3.466666666666667, \"age\": 30, \"sex\": \"M\", \"occupation\": \"librarian\", \"zip_code\": \"51157\"}, {\"user_id\": \"776\", \"rating count\": 36, \"rating mean\": 4.055555555555555, \"age\": 63, \"sex\": \"M\", \"occupation\": \"programmer\", \"zip_code\": \"01810\"}, {\"user_id\": \"777\", \"rating count\": 65, \"rating mean\": 2.953846153846154, \"age\": 34, \"sex\": \"M\", \"occupation\": \"student\", \"zip_code\": \"01960\"}, {\"user_id\": \"778\", \"rating count\": 37, \"rating mean\": 3.918918918918919, \"age\": 31, \"sex\": \"M\", \"occupation\": \"student\", \"zip_code\": \"K7L5J\"}, {\"user_id\": \"779\", \"rating count\": 55, \"rating mean\": 3.8727272727272726, \"age\": 49, \"sex\": \"M\", \"occupation\": \"programmer\", \"zip_code\": \"94560\"}, {\"user_id\": \"78\", \"rating count\": 55, \"rating mean\": 4.0, \"age\": 39, \"sex\": \"F\", \"occupation\": \"administrator\", \"zip_code\": \"03755\"}, {\"user_id\": \"780\", \"rating count\": 42, \"rating mean\": 3.7857142857142856, \"age\": 20, \"sex\": \"M\", \"occupation\": \"student\", \"zip_code\": \"48825\"}, {\"user_id\": \"781\", \"rating count\": 232, \"rating mean\": 2.788793103448276, \"age\": 21, \"sex\": \"F\", \"occupation\": \"artist\", \"zip_code\": \"33205\"}, {\"user_id\": \"782\", \"rating count\": 30, \"rating mean\": 3.8666666666666667, \"age\": 30, \"sex\": \"M\", \"occupation\": \"marketing\", \"zip_code\": \"77081\"}, {\"user_id\": \"783\", \"rating count\": 39, \"rating mean\": 3.8461538461538463, \"age\": 47, \"sex\": \"M\", \"occupation\": \"administrator\", \"zip_code\": \"91040\"}, {\"user_id\": \"784\", \"rating count\": 27, \"rating mean\": 3.7037037037037037, \"age\": 32, \"sex\": \"M\", \"occupation\": \"engineer\", \"zip_code\": \"23322\"}, {\"user_id\": \"785\", \"rating count\": 117, \"rating mean\": 3.871794871794872, \"age\": 36, \"sex\": \"F\", \"occupation\": \"engineer\", \"zip_code\": \"01754\"}, {\"user_id\": \"786\", \"rating count\": 57, \"rating mean\": 3.1403508771929824, \"age\": 18, \"sex\": \"F\", \"occupation\": \"student\", \"zip_code\": \"98620\"}, {\"user_id\": \"787\", \"rating count\": 249, \"rating mean\": 3.3413654618473894, \"age\": 51, \"sex\": \"M\", \"occupation\": \"administrator\", \"zip_code\": \"05779\"}, {\"user_id\": \"788\", \"rating count\": 33, \"rating mean\": 3.6666666666666665, \"age\": 29, \"sex\": \"M\", \"occupation\": \"other\", \"zip_code\": \"55420\"}, {\"user_id\": \"789\", \"rating count\": 231, \"rating mean\": 3.017316017316017, \"age\": 27, \"sex\": \"M\", \"occupation\": \"technician\", \"zip_code\": \"80913\"}, {\"user_id\": \"79\", \"rating count\": 29, \"rating mean\": 3.7586206896551726, \"age\": 34, \"sex\": \"F\", \"occupation\": \"administrator\", \"zip_code\": \"52241\"}, {\"user_id\": \"790\", \"rating count\": 25, \"rating mean\": 3.8, \"age\": 31, \"sex\": \"M\", \"occupation\": \"educator\", \"zip_code\": \"20064\"}, {\"user_id\": \"791\", \"rating count\": 47, \"rating mean\": 3.127659574468085, \"age\": 40, \"sex\": \"M\", \"occupation\": \"programmer\", \"zip_code\": \"12205\"}, {\"user_id\": \"792\", \"rating count\": 55, \"rating mean\": 3.5090909090909093, \"age\": 22, \"sex\": \"M\", \"occupation\": \"student\", \"zip_code\": \"85281\"}, {\"user_id\": \"793\", \"rating count\": 39, \"rating mean\": 4.3076923076923075, \"age\": 32, \"sex\": \"M\", \"occupation\": \"educator\", \"zip_code\": \"57197\"}, {\"user_id\": \"794\", \"rating count\": 159, \"rating mean\": 3.1320754716981134, \"age\": 30, \"sex\": \"M\", \"occupation\": \"programmer\", \"zip_code\": \"08610\"}, {\"user_id\": \"795\", \"rating count\": 358, \"rating mean\": 3.600558659217877, \"age\": 32, \"sex\": \"F\", \"occupation\": \"writer\", \"zip_code\": \"33755\"}, {\"user_id\": \"796\", \"rating count\": 26, \"rating mean\": 2.6538461538461537, \"age\": 44, \"sex\": \"F\", \"occupation\": \"other\", \"zip_code\": \"62522\"}, {\"user_id\": \"797\", \"rating count\": 239, \"rating mean\": 3.3263598326359833, \"age\": 40, \"sex\": \"F\", \"occupation\": \"writer\", \"zip_code\": \"64131\"}, {\"user_id\": \"798\", \"rating count\": 24, \"rating mean\": 4.0, \"age\": 49, \"sex\": \"F\", \"occupation\": \"administrator\", \"zip_code\": \"19716\"}, {\"user_id\": \"799\", \"rating count\": 28, \"rating mean\": 3.75, \"age\": 25, \"sex\": \"M\", \"occupation\": \"programmer\", \"zip_code\": \"55337\"}, {\"user_id\": \"8\", \"rating count\": 22, \"rating mean\": 4.2727272727272725, \"age\": 29, \"sex\": \"M\", \"occupation\": \"student\", \"zip_code\": \"01002\"}, {\"user_id\": \"80\", \"rating count\": 58, \"rating mean\": 3.293103448275862, \"age\": 21, \"sex\": \"M\", \"occupation\": \"student\", \"zip_code\": \"21218\"}, {\"user_id\": \"800\", \"rating count\": 26, \"rating mean\": 4.038461538461538, \"age\": 22, \"sex\": \"M\", \"occupation\": \"writer\", \"zip_code\": \"92154\"}, {\"user_id\": \"801\", \"rating count\": 75, \"rating mean\": 3.493333333333333, \"age\": 35, \"sex\": \"M\", \"occupation\": \"administrator\", \"zip_code\": \"34105\"}, {\"user_id\": \"802\", \"rating count\": 33, \"rating mean\": 3.090909090909091, \"age\": 70, \"sex\": \"M\", \"occupation\": \"administrator\", \"zip_code\": \"78212\"}, {\"user_id\": \"803\", \"rating count\": 332, \"rating mean\": 3.6656626506024095, \"age\": 39, \"sex\": \"M\", \"occupation\": \"educator\", \"zip_code\": \"61820\"}, {\"user_id\": \"804\", \"rating count\": 273, \"rating mean\": 3.347985347985348, \"age\": 27, \"sex\": \"F\", \"occupation\": \"other\", \"zip_code\": \"20009\"}, {\"user_id\": \"805\", \"rating count\": 140, \"rating mean\": 3.642857142857143, \"age\": 27, \"sex\": \"M\", \"occupation\": \"marketing\", \"zip_code\": \"11217\"}, {\"user_id\": \"806\", \"rating count\": 204, \"rating mean\": 3.892156862745098, \"age\": 41, \"sex\": \"F\", \"occupation\": \"healthcare\", \"zip_code\": \"93555\"}, {\"user_id\": \"807\", \"rating count\": 23, \"rating mean\": 4.130434782608695, \"age\": 45, \"sex\": \"M\", \"occupation\": \"salesman\", \"zip_code\": \"90016\"}, {\"user_id\": \"808\", \"rating count\": 20, \"rating mean\": 3.45, \"age\": 50, \"sex\": \"F\", \"occupation\": \"marketing\", \"zip_code\": \"30803\"}, {\"user_id\": \"809\", \"rating count\": 26, \"rating mean\": 4.423076923076923, \"age\": 55, \"sex\": \"F\", \"occupation\": \"other\", \"zip_code\": \"80526\"}, {\"user_id\": \"81\", \"rating count\": 168, \"rating mean\": 3.0714285714285716, \"age\": 50, \"sex\": \"M\", \"occupation\": \"programmer\", \"zip_code\": \"22902\"}, {\"user_id\": \"810\", \"rating count\": 21, \"rating mean\": 4.142857142857143, \"age\": 40, \"sex\": \"F\", \"occupation\": \"educator\", \"zip_code\": \"73013\"}, {\"user_id\": \"811\", \"rating count\": 20, \"rating mean\": 3.5, \"age\": 22, \"sex\": \"M\", \"occupation\": \"technician\", \"zip_code\": \"76234\"}, {\"user_id\": \"812\", \"rating count\": 29, \"rating mean\": 2.793103448275862, \"age\": 14, \"sex\": \"F\", \"occupation\": \"student\", \"zip_code\": \"02136\"}, {\"user_id\": \"813\", \"rating count\": 35, \"rating mean\": 2.9714285714285715, \"age\": 30, \"sex\": \"M\", \"occupation\": \"other\", \"zip_code\": \"12345\"}, {\"user_id\": \"814\", \"rating count\": 183, \"rating mean\": 3.7431693989071038, \"age\": 32, \"sex\": \"M\", \"occupation\": \"other\", \"zip_code\": \"28806\"}, {\"user_id\": \"815\", \"rating count\": 25, \"rating mean\": 3.84, \"age\": 34, \"sex\": \"M\", \"occupation\": \"other\", \"zip_code\": \"20755\"}, {\"user_id\": \"816\", \"rating count\": 36, \"rating mean\": 3.361111111111111, \"age\": 19, \"sex\": \"M\", \"occupation\": \"student\", \"zip_code\": \"60152\"}, {\"user_id\": \"817\", \"rating count\": 21, \"rating mean\": 3.4761904761904763, \"age\": 28, \"sex\": \"M\", \"occupation\": \"librarian\", \"zip_code\": \"27514\"}, {\"user_id\": \"818\", \"rating count\": 28, \"rating mean\": 4.071428571428571, \"age\": 59, \"sex\": \"M\", \"occupation\": \"administrator\", \"zip_code\": \"40205\"}, {\"user_id\": \"819\", \"rating count\": 21, \"rating mean\": 3.0, \"age\": 22, \"sex\": \"M\", \"occupation\": \"student\", \"zip_code\": \"37725\"}, {\"user_id\": \"82\", \"rating count\": 155, \"rating mean\": 3.4193548387096775, \"age\": 40, \"sex\": \"M\", \"occupation\": \"other\", \"zip_code\": \"44133\"}, {\"user_id\": \"820\", \"rating count\": 62, \"rating mean\": 4.338709677419355, \"age\": 37, \"sex\": \"M\", \"occupation\": \"engineer\", \"zip_code\": \"77845\"}, {\"user_id\": \"821\", \"rating count\": 25, \"rating mean\": 3.12, \"age\": 29, \"sex\": \"F\", \"occupation\": \"librarian\", \"zip_code\": \"53144\"}, {\"user_id\": \"822\", \"rating count\": 185, \"rating mean\": 4.005405405405406, \"age\": 27, \"sex\": \"M\", \"occupation\": \"artist\", \"zip_code\": \"50322\"}, {\"user_id\": \"823\", \"rating count\": 20, \"rating mean\": 2.6, \"age\": 31, \"sex\": \"M\", \"occupation\": \"other\", \"zip_code\": \"15017\"}, {\"user_id\": \"824\", \"rating count\": 145, \"rating mean\": 3.613793103448276, \"age\": 44, \"sex\": \"M\", \"occupation\": \"engineer\", \"zip_code\": \"05452\"}, {\"user_id\": \"825\", \"rating count\": 115, \"rating mean\": 3.8260869565217392, \"age\": 28, \"sex\": \"M\", \"occupation\": \"artist\", \"zip_code\": \"77048\"}, {\"user_id\": \"826\", \"rating count\": 28, \"rating mean\": 3.25, \"age\": 23, \"sex\": \"F\", \"occupation\": \"engineer\", \"zip_code\": \"80228\"}, {\"user_id\": \"827\", \"rating count\": 104, \"rating mean\": 3.1153846153846154, \"age\": 28, \"sex\": \"M\", \"occupation\": \"librarian\", \"zip_code\": \"85282\"}, {\"user_id\": \"828\", \"rating count\": 64, \"rating mean\": 3.546875, \"age\": 48, \"sex\": \"M\", \"occupation\": \"writer\", \"zip_code\": \"80209\"}, {\"user_id\": \"829\", \"rating count\": 106, \"rating mean\": 3.7452830188679247, \"age\": 46, \"sex\": \"M\", \"occupation\": \"programmer\", \"zip_code\": \"53066\"}, {\"user_id\": \"83\", \"rating count\": 68, \"rating mean\": 3.8529411764705883, \"age\": 32, \"sex\": \"M\", \"occupation\": \"executive\", \"zip_code\": \"55369\"}, {\"user_id\": \"830\", \"rating count\": 73, \"rating mean\": 3.5205479452054793, \"age\": 21, \"sex\": \"M\", \"occupation\": \"other\", \"zip_code\": \"33765\"}, {\"user_id\": \"831\", \"rating count\": 25, \"rating mean\": 2.96, \"age\": 24, \"sex\": \"M\", \"occupation\": \"technician\", \"zip_code\": \"77042\"}, {\"user_id\": \"832\", \"rating count\": 267, \"rating mean\": 3.056179775280899, \"age\": 34, \"sex\": \"M\", \"occupation\": \"writer\", \"zip_code\": \"90019\"}, {\"user_id\": \"833\", \"rating count\": 54, \"rating mean\": 3.925925925925926, \"age\": 26, \"sex\": \"M\", \"occupation\": \"other\", \"zip_code\": \"64153\"}, {\"user_id\": \"834\", \"rating count\": 102, \"rating mean\": 4.147058823529412, \"age\": 44, \"sex\": \"F\", \"occupation\": \"executive\", \"zip_code\": \"11577\"}, {\"user_id\": \"835\", \"rating count\": 50, \"rating mean\": 3.86, \"age\": 44, \"sex\": \"M\", \"occupation\": \"artist\", \"zip_code\": \"10018\"}, {\"user_id\": \"836\", \"rating count\": 46, \"rating mean\": 3.0434782608695654, \"age\": 36, \"sex\": \"F\", \"occupation\": \"artist\", \"zip_code\": \"55409\"}, {\"user_id\": \"837\", \"rating count\": 93, \"rating mean\": 4.118279569892473, \"age\": 23, \"sex\": \"M\", \"occupation\": \"student\", \"zip_code\": \"01375\"}, {\"user_id\": \"838\", \"rating count\": 57, \"rating mean\": 3.192982456140351, \"age\": 38, \"sex\": \"F\", \"occupation\": \"entertainment\", \"zip_code\": \"90814\"}, {\"user_id\": \"839\", \"rating count\": 197, \"rating mean\": 4.137055837563452, \"age\": 39, \"sex\": \"M\", \"occupation\": \"artist\", \"zip_code\": \"55406\"}, {\"user_id\": \"84\", \"rating count\": 288, \"rating mean\": 3.5381944444444446, \"age\": 51, \"sex\": \"M\", \"occupation\": \"educator\", \"zip_code\": \"20003\"}, {\"user_id\": \"840\", \"rating count\": 31, \"rating mean\": 3.903225806451613, \"age\": 45, \"sex\": \"M\", \"occupation\": \"doctor\", \"zip_code\": \"47401\"}, {\"user_id\": \"841\", \"rating count\": 27, \"rating mean\": 3.740740740740741, \"age\": 40, \"sex\": \"M\", \"occupation\": \"writer\", \"zip_code\": \"93055\"}, {\"user_id\": \"842\", \"rating count\": 204, \"rating mean\": 2.735294117647059, \"age\": 35, \"sex\": \"M\", \"occupation\": \"librarian\", \"zip_code\": \"44212\"}, {\"user_id\": \"843\", \"rating count\": 81, \"rating mean\": 3.506172839506173, \"age\": 22, \"sex\": \"M\", \"occupation\": \"engineer\", \"zip_code\": \"95662\"}, {\"user_id\": \"844\", \"rating count\": 31, \"rating mean\": 3.129032258064516, \"age\": 64, \"sex\": \"M\", \"occupation\": \"doctor\", \"zip_code\": \"97405\"}, {\"user_id\": \"845\", \"rating count\": 405, \"rating mean\": 3.740740740740741, \"age\": 27, \"sex\": \"M\", \"occupation\": \"lawyer\", \"zip_code\": \"47130\"}, {\"user_id\": \"846\", \"rating count\": 146, \"rating mean\": 3.0342465753424657, \"age\": 29, \"sex\": \"M\", \"occupation\": \"student\", \"zip_code\": \"55417\"}, {\"user_id\": \"847\", \"rating count\": 150, \"rating mean\": 4.286666666666667, \"age\": 46, \"sex\": \"M\", \"occupation\": \"engineer\", \"zip_code\": \"02146\"}, {\"user_id\": \"848\", \"rating count\": 23, \"rating mean\": 4.869565217391305, \"age\": 15, \"sex\": \"F\", \"occupation\": \"student\", \"zip_code\": \"25652\"}, {\"user_id\": \"849\", \"rating count\": 51, \"rating mean\": 4.529411764705882, \"age\": 34, \"sex\": \"M\", \"occupation\": \"technician\", \"zip_code\": \"78390\"}, {\"user_id\": \"85\", \"rating count\": 23, \"rating mean\": 3.5217391304347827, \"age\": 26, \"sex\": \"M\", \"occupation\": \"administrator\", \"zip_code\": \"46005\"}, {\"user_id\": \"850\", \"rating count\": 209, \"rating mean\": 3.45933014354067, \"age\": 18, \"sex\": \"M\", \"occupation\": \"other\", \"zip_code\": \"29646\"}, {\"user_id\": \"851\", \"rating count\": 49, \"rating mean\": 3.4693877551020407, \"age\": 46, \"sex\": \"M\", \"occupation\": \"administrator\", \"zip_code\": \"94086\"}, {\"user_id\": \"852\", \"rating count\": 41, \"rating mean\": 2.975609756097561, \"age\": 49, \"sex\": \"M\", \"occupation\": \"writer\", \"zip_code\": \"40515\"}, {\"user_id\": \"853\", \"rating count\": 217, \"rating mean\": 3.2119815668202767, \"age\": 29, \"sex\": \"F\", \"occupation\": \"student\", \"zip_code\": \"55408\"}, {\"user_id\": \"854\", \"rating count\": 23, \"rating mean\": 3.347826086956522, \"age\": 53, \"sex\": \"M\", \"occupation\": \"librarian\", \"zip_code\": \"04988\"}, {\"user_id\": \"855\", \"rating count\": 26, \"rating mean\": 3.423076923076923, \"age\": 43, \"sex\": \"F\", \"occupation\": \"marketing\", \"zip_code\": \"97215\"}, {\"user_id\": \"856\", \"rating count\": 22, \"rating mean\": 3.272727272727273, \"age\": 35, \"sex\": \"F\", \"occupation\": \"administrator\", \"zip_code\": \"V1G4L\"}, {\"user_id\": \"857\", \"rating count\": 21, \"rating mean\": 3.4285714285714284, \"age\": 63, \"sex\": \"M\", \"occupation\": \"educator\", \"zip_code\": \"09645\"}, {\"user_id\": \"858\", \"rating count\": 39, \"rating mean\": 3.8461538461538463, \"age\": 18, \"sex\": \"F\", \"occupation\": \"other\", \"zip_code\": \"06492\"}, {\"user_id\": \"859\", \"rating count\": 71, \"rating mean\": 3.23943661971831, \"age\": 70, \"sex\": \"F\", \"occupation\": \"retired\", \"zip_code\": \"48322\"}, {\"user_id\": \"86\", \"rating count\": 211, \"rating mean\": 3.7914691943127963, \"age\": 47, \"sex\": \"M\", \"occupation\": \"administrator\", \"zip_code\": \"89503\"}, {\"user_id\": \"860\", \"rating count\": 43, \"rating mean\": 4.0, \"age\": 38, \"sex\": \"F\", \"occupation\": \"student\", \"zip_code\": \"14085\"}, {\"user_id\": \"861\", \"rating count\": 165, \"rating mean\": 4.363636363636363, \"age\": 25, \"sex\": \"M\", \"occupation\": \"executive\", \"zip_code\": \"13820\"}, {\"user_id\": \"862\", \"rating count\": 107, \"rating mean\": 3.121495327102804, \"age\": 17, \"sex\": \"M\", \"occupation\": \"student\", \"zip_code\": \"60089\"}, {\"user_id\": \"863\", \"rating count\": 294, \"rating mean\": 3.82312925170068, \"age\": 27, \"sex\": \"M\", \"occupation\": \"programmer\", \"zip_code\": \"63021\"}, {\"user_id\": \"864\", \"rating count\": 66, \"rating mean\": 2.287878787878788, \"age\": 25, \"sex\": \"M\", \"occupation\": \"artist\", \"zip_code\": \"11231\"}, {\"user_id\": \"865\", \"rating count\": 20, \"rating mean\": 2.7, \"age\": 45, \"sex\": \"M\", \"occupation\": \"other\", \"zip_code\": \"60302\"}, {\"user_id\": \"866\", \"rating count\": 95, \"rating mean\": 4.2631578947368425, \"age\": 24, \"sex\": \"M\", \"occupation\": \"scientist\", \"zip_code\": \"92507\"}, {\"user_id\": \"867\", \"rating count\": 208, \"rating mean\": 2.951923076923077, \"age\": 21, \"sex\": \"M\", \"occupation\": \"programmer\", \"zip_code\": \"55303\"}, {\"user_id\": \"868\", \"rating count\": 47, \"rating mean\": 2.872340425531915, \"age\": 30, \"sex\": \"M\", \"occupation\": \"student\", \"zip_code\": \"10025\"}, {\"user_id\": \"869\", \"rating count\": 269, \"rating mean\": 3.453531598513011, \"age\": 22, \"sex\": \"M\", \"occupation\": \"student\", \"zip_code\": \"65203\"}, {\"user_id\": \"87\", \"rating count\": 21, \"rating mean\": 3.9523809523809526, \"age\": 49, \"sex\": \"F\", \"occupation\": \"librarian\", \"zip_code\": \"11701\"}, {\"user_id\": \"870\", \"rating count\": 115, \"rating mean\": 3.4956521739130433, \"age\": 31, \"sex\": \"M\", \"occupation\": \"executive\", \"zip_code\": \"44648\"}, {\"user_id\": \"871\", \"rating count\": 71, \"rating mean\": 3.380281690140845, \"age\": 19, \"sex\": \"F\", \"occupation\": \"student\", \"zip_code\": \"74078\"}, {\"user_id\": \"872\", \"rating count\": 20, \"rating mean\": 2.9, \"age\": 48, \"sex\": \"F\", \"occupation\": \"administrator\", \"zip_code\": \"33763\"}, {\"user_id\": \"873\", \"rating count\": 34, \"rating mean\": 3.823529411764706, \"age\": 36, \"sex\": \"M\", \"occupation\": \"scientist\", \"zip_code\": \"37076\"}, {\"user_id\": \"874\", \"rating count\": 89, \"rating mean\": 4.191011235955056, \"age\": 24, \"sex\": \"F\", \"occupation\": \"student\", \"zip_code\": \"35802\"}, {\"user_id\": \"875\", \"rating count\": 21, \"rating mean\": 4.190476190476191, \"age\": 41, \"sex\": \"M\", \"occupation\": \"other\", \"zip_code\": \"20902\"}, {\"user_id\": \"876\", \"rating count\": 81, \"rating mean\": 3.8271604938271606, \"age\": 30, \"sex\": \"M\", \"occupation\": \"other\", \"zip_code\": \"77504\"}, {\"user_id\": \"877\", \"rating count\": 134, \"rating mean\": 3.2686567164179103, \"age\": 50, \"sex\": \"F\", \"occupation\": \"educator\", \"zip_code\": \"98027\"}, {\"user_id\": \"878\", \"rating count\": 29, \"rating mean\": 3.689655172413793, \"age\": 33, \"sex\": \"F\", \"occupation\": \"administrator\", \"zip_code\": \"55337\"}, {\"user_id\": \"879\", \"rating count\": 368, \"rating mean\": 3.426630434782609, \"age\": 13, \"sex\": \"M\", \"occupation\": \"student\", \"zip_code\": \"83702\"}, {\"user_id\": \"88\", \"rating count\": 76, \"rating mean\": 4.0394736842105265, \"age\": 43, \"sex\": \"F\", \"occupation\": \"administrator\", \"zip_code\": \"68106\"}, {\"user_id\": \"880\", \"rating count\": 259, \"rating mean\": 3.3204633204633205, \"age\": 39, \"sex\": \"M\", \"occupation\": \"marketing\", \"zip_code\": \"43017\"}, {\"user_id\": \"881\", \"rating count\": 137, \"rating mean\": 4.0510948905109485, \"age\": 35, \"sex\": \"M\", \"occupation\": \"engineer\", \"zip_code\": \"40503\"}, {\"user_id\": \"882\", \"rating count\": 268, \"rating mean\": 3.925373134328358, \"age\": 49, \"sex\": \"M\", \"occupation\": \"librarian\", \"zip_code\": \"50266\"}, {\"user_id\": \"883\", \"rating count\": 43, \"rating mean\": 3.7209302325581395, \"age\": 44, \"sex\": \"M\", \"occupation\": \"engineer\", \"zip_code\": \"55337\"}, {\"user_id\": \"884\", \"rating count\": 102, \"rating mean\": 3.3137254901960786, \"age\": 30, \"sex\": \"F\", \"occupation\": \"other\", \"zip_code\": \"95316\"}, {\"user_id\": \"885\", \"rating count\": 240, \"rating mean\": 3.3625, \"age\": 20, \"sex\": \"M\", \"occupation\": \"student\", \"zip_code\": \"61820\"}, {\"user_id\": \"886\", \"rating count\": 171, \"rating mean\": 3.9239766081871346, \"age\": 14, \"sex\": \"F\", \"occupation\": \"student\", \"zip_code\": \"27249\"}, {\"user_id\": \"887\", \"rating count\": 20, \"rating mean\": 4.3, \"age\": 41, \"sex\": \"M\", \"occupation\": \"scientist\", \"zip_code\": \"17036\"}, {\"user_id\": \"888\", \"rating count\": 326, \"rating mean\": 3.4355828220858897, \"age\": 24, \"sex\": \"M\", \"occupation\": \"technician\", \"zip_code\": \"78704\"}, {\"user_id\": \"889\", \"rating count\": 119, \"rating mean\": 3.857142857142857, \"age\": 32, \"sex\": \"M\", \"occupation\": \"student\", \"zip_code\": \"97301\"}, {\"user_id\": \"89\", \"rating count\": 300, \"rating mean\": 4.223333333333334, \"age\": 60, \"sex\": \"M\", \"occupation\": \"educator\", \"zip_code\": \"78155\"}, {\"user_id\": \"890\", \"rating count\": 47, \"rating mean\": 4.127659574468085, \"age\": 51, \"sex\": \"F\", \"occupation\": \"administrator\", \"zip_code\": \"03062\"}, {\"user_id\": \"891\", \"rating count\": 226, \"rating mean\": 4.0, \"age\": 36, \"sex\": \"M\", \"occupation\": \"other\", \"zip_code\": \"45243\"}, {\"user_id\": \"892\", \"rating count\": 59, \"rating mean\": 3.4237288135593222, \"age\": 25, \"sex\": \"M\", \"occupation\": \"student\", \"zip_code\": \"95823\"}, {\"user_id\": \"893\", \"rating count\": 245, \"rating mean\": 3.636734693877551, \"age\": 47, \"sex\": \"M\", \"occupation\": \"educator\", \"zip_code\": \"74075\"}, {\"user_id\": \"894\", \"rating count\": 20, \"rating mean\": 3.75, \"age\": 31, \"sex\": \"F\", \"occupation\": \"librarian\", \"zip_code\": \"32301\"}, {\"user_id\": \"895\", \"rating count\": 362, \"rating mean\": 2.9806629834254146, \"age\": 28, \"sex\": \"M\", \"occupation\": \"writer\", \"zip_code\": \"91505\"}, {\"user_id\": \"896\", \"rating count\": 185, \"rating mean\": 3.962162162162162, \"age\": 30, \"sex\": \"M\", \"occupation\": \"other\", \"zip_code\": \"33484\"}, {\"user_id\": \"897\", \"rating count\": 30, \"rating mean\": 3.5, \"age\": 23, \"sex\": \"M\", \"occupation\": \"homemaker\", \"zip_code\": \"61755\"}, {\"user_id\": \"898\", \"rating count\": 135, \"rating mean\": 3.525925925925926, \"age\": 32, \"sex\": \"M\", \"occupation\": \"other\", \"zip_code\": \"55116\"}, {\"user_id\": \"899\", \"rating count\": 45, \"rating mean\": 2.5555555555555554, \"age\": 60, \"sex\": \"M\", \"occupation\": \"retired\", \"zip_code\": \"18505\"}, {\"user_id\": \"9\", \"rating count\": 184, \"rating mean\": 4.206521739130435, \"age\": 53, \"sex\": \"M\", \"occupation\": \"lawyer\", \"zip_code\": \"90703\"}, {\"user_id\": \"90\", \"rating count\": 98, \"rating mean\": 3.8877551020408165, \"age\": 55, \"sex\": \"M\", \"occupation\": \"marketing\", \"zip_code\": \"01913\"}, {\"user_id\": \"900\", \"rating count\": 124, \"rating mean\": 3.8548387096774195, \"age\": 38, \"sex\": \"M\", \"occupation\": \"executive\", \"zip_code\": \"L1V3W\"}, {\"user_id\": \"901\", \"rating count\": 49, \"rating mean\": 3.4489795918367347, \"age\": 45, \"sex\": \"F\", \"occupation\": \"artist\", \"zip_code\": \"97203\"}, {\"user_id\": \"902\", \"rating count\": 136, \"rating mean\": 3.8529411764705883, \"age\": 28, \"sex\": \"M\", \"occupation\": \"educator\", \"zip_code\": \"20850\"}, {\"user_id\": \"903\", \"rating count\": 47, \"rating mean\": 3.74468085106383, \"age\": 17, \"sex\": \"F\", \"occupation\": \"student\", \"zip_code\": \"61073\"}, {\"user_id\": \"904\", \"rating count\": 40, \"rating mean\": 3.275, \"age\": 27, \"sex\": \"M\", \"occupation\": \"other\", \"zip_code\": \"30350\"}, {\"user_id\": \"905\", \"rating count\": 41, \"rating mean\": 3.8048780487804876, \"age\": 45, \"sex\": \"M\", \"occupation\": \"librarian\", \"zip_code\": \"70124\"}, {\"user_id\": \"906\", \"rating count\": 147, \"rating mean\": 4.571428571428571, \"age\": 25, \"sex\": \"F\", \"occupation\": \"other\", \"zip_code\": \"80526\"}, {\"user_id\": \"907\", \"rating count\": 74, \"rating mean\": 3.554054054054054, \"age\": 44, \"sex\": \"F\", \"occupation\": \"librarian\", \"zip_code\": \"68504\"}, {\"user_id\": \"908\", \"rating count\": 26, \"rating mean\": 4.346153846153846, \"age\": 50, \"sex\": \"F\", \"occupation\": \"educator\", \"zip_code\": \"53171\"}, {\"user_id\": \"909\", \"rating count\": 60, \"rating mean\": 3.1666666666666665, \"age\": 28, \"sex\": \"M\", \"occupation\": \"healthcare\", \"zip_code\": \"29301\"}, {\"user_id\": \"91\", \"rating count\": 388, \"rating mean\": 3.2448453608247423, \"age\": 32, \"sex\": \"M\", \"occupation\": \"entertainment\", \"zip_code\": \"80525\"}, {\"user_id\": \"910\", \"rating count\": 98, \"rating mean\": 3.806122448979592, \"age\": 37, \"sex\": \"F\", \"occupation\": \"writer\", \"zip_code\": \"53210\"}, {\"user_id\": \"911\", \"rating count\": 53, \"rating mean\": 3.811320754716981, \"age\": 51, \"sex\": \"M\", \"occupation\": \"other\", \"zip_code\": \"06512\"}, {\"user_id\": \"912\", \"rating count\": 132, \"rating mean\": 3.522727272727273, \"age\": 27, \"sex\": \"M\", \"occupation\": \"student\", \"zip_code\": \"76201\"}, {\"user_id\": \"913\", \"rating count\": 23, \"rating mean\": 3.0869565217391304, \"age\": 44, \"sex\": \"F\", \"occupation\": \"other\", \"zip_code\": \"08105\"}, {\"user_id\": \"914\", \"rating count\": 26, \"rating mean\": 3.1153846153846154, \"age\": 50, \"sex\": \"M\", \"occupation\": \"entertainment\", \"zip_code\": \"60614\"}, {\"user_id\": \"915\", \"rating count\": 317, \"rating mean\": 3.365930599369085, \"age\": 27, \"sex\": \"M\", \"occupation\": \"engineer\", \"zip_code\": \"N2L5N\"}, {\"user_id\": \"916\", \"rating count\": 35, \"rating mean\": 3.5428571428571427, \"age\": 22, \"sex\": \"F\", \"occupation\": \"student\", \"zip_code\": \"20006\"}, {\"user_id\": \"917\", \"rating count\": 103, \"rating mean\": 3.349514563106796, \"age\": 40, \"sex\": \"M\", \"occupation\": \"scientist\", \"zip_code\": \"70116\"}, {\"user_id\": \"918\", \"rating count\": 217, \"rating mean\": 3.4700460829493087, \"age\": 25, \"sex\": \"M\", \"occupation\": \"other\", \"zip_code\": \"14216\"}, {\"user_id\": \"919\", \"rating count\": 26, \"rating mean\": 3.230769230769231, \"age\": 30, \"sex\": \"F\", \"occupation\": \"artist\", \"zip_code\": \"90008\"}, {\"user_id\": \"92\", \"rating count\": 20, \"rating mean\": 3.35, \"age\": 48, \"sex\": \"M\", \"occupation\": \"executive\", \"zip_code\": \"23112\"}, {\"user_id\": \"920\", \"rating count\": 110, \"rating mean\": 3.272727272727273, \"age\": 20, \"sex\": \"F\", \"occupation\": \"student\", \"zip_code\": \"98801\"}, {\"user_id\": \"921\", \"rating count\": 127, \"rating mean\": 3.37007874015748, \"age\": 29, \"sex\": \"F\", \"occupation\": \"administrator\", \"zip_code\": \"21114\"}, {\"user_id\": \"922\", \"rating count\": 74, \"rating mean\": 4.148648648648648, \"age\": 21, \"sex\": \"M\", \"occupation\": \"student\", \"zip_code\": \"E2E3R\"}, {\"user_id\": \"923\", \"rating count\": 82, \"rating mean\": 3.7560975609756095, \"age\": 29, \"sex\": \"M\", \"occupation\": \"other\", \"zip_code\": \"11753\"}, {\"user_id\": \"924\", \"rating count\": 32, \"rating mean\": 3.125, \"age\": 18, \"sex\": \"F\", \"occupation\": \"salesman\", \"zip_code\": \"49036\"}, {\"user_id\": \"925\", \"rating count\": 20, \"rating mean\": 3.3, \"age\": 49, \"sex\": \"M\", \"occupation\": \"entertainment\", \"zip_code\": \"01701\"}, {\"user_id\": \"926\", \"rating count\": 120, \"rating mean\": 3.691666666666667, \"age\": 23, \"sex\": \"M\", \"occupation\": \"programmer\", \"zip_code\": \"55428\"}, {\"user_id\": \"927\", \"rating count\": 32, \"rating mean\": 4.6875, \"age\": 21, \"sex\": \"M\", \"occupation\": \"student\", \"zip_code\": \"55408\"}, {\"user_id\": \"928\", \"rating count\": 49, \"rating mean\": 3.693877551020408, \"age\": 44, \"sex\": \"M\", \"occupation\": \"scientist\", \"zip_code\": \"53711\"}, {\"user_id\": \"929\", \"rating count\": 63, \"rating mean\": 2.9682539682539684, \"age\": 28, \"sex\": \"F\", \"occupation\": \"scientist\", \"zip_code\": \"07310\"}, {\"user_id\": \"93\", \"rating count\": 400, \"rating mean\": 3.6575, \"age\": 26, \"sex\": \"M\", \"occupation\": \"student\", \"zip_code\": \"71457\"}, {\"user_id\": \"930\", \"rating count\": 61, \"rating mean\": 3.721311475409836, \"age\": 60, \"sex\": \"M\", \"occupation\": \"educator\", \"zip_code\": \"33556\"}, {\"user_id\": \"931\", \"rating count\": 241, \"rating mean\": 3.966804979253112, \"age\": 58, \"sex\": \"M\", \"occupation\": \"educator\", \"zip_code\": \"06437\"}, {\"user_id\": \"932\", \"rating count\": 184, \"rating mean\": 2.6467391304347827, \"age\": 28, \"sex\": \"M\", \"occupation\": \"student\", \"zip_code\": \"48105\"}, {\"user_id\": \"933\", \"rating count\": 174, \"rating mean\": 3.7011494252873565, \"age\": 61, \"sex\": \"M\", \"occupation\": \"engineer\", \"zip_code\": \"22902\"}, {\"user_id\": \"934\", \"rating count\": 39, \"rating mean\": 3.923076923076923, \"age\": 42, \"sex\": \"M\", \"occupation\": \"doctor\", \"zip_code\": \"66221\"}, {\"user_id\": \"935\", \"rating count\": 142, \"rating mean\": 3.7464788732394365, \"age\": 24, \"sex\": \"M\", \"occupation\": \"other\", \"zip_code\": \"32789\"}, {\"user_id\": \"936\", \"rating count\": 40, \"rating mean\": 3.375, \"age\": 48, \"sex\": \"M\", \"occupation\": \"educator\", \"zip_code\": \"98072\"}, {\"user_id\": \"937\", \"rating count\": 108, \"rating mean\": 3.2685185185185186, \"age\": 38, \"sex\": \"F\", \"occupation\": \"technician\", \"zip_code\": \"55038\"}, {\"user_id\": \"938\", \"rating count\": 49, \"rating mean\": 4.26530612244898, \"age\": 26, \"sex\": \"F\", \"occupation\": \"student\", \"zip_code\": \"33319\"}, {\"user_id\": \"939\", \"rating count\": 107, \"rating mean\": 3.457943925233645, \"age\": 32, \"sex\": \"M\", \"occupation\": \"administrator\", \"zip_code\": \"02215\"}, {\"user_id\": \"94\", \"rating count\": 278, \"rating mean\": 3.41726618705036, \"age\": 31, \"sex\": \"M\", \"occupation\": \"administrator\", \"zip_code\": \"10707\"}, {\"user_id\": \"940\", \"rating count\": 22, \"rating mean\": 4.045454545454546, \"age\": 20, \"sex\": \"M\", \"occupation\": \"student\", \"zip_code\": \"97229\"}, {\"user_id\": \"941\", \"rating count\": 79, \"rating mean\": 4.265822784810126, \"age\": 48, \"sex\": \"F\", \"occupation\": \"librarian\", \"zip_code\": \"78209\"}, {\"user_id\": \"942\", \"rating count\": 168, \"rating mean\": 3.4107142857142856, \"age\": 22, \"sex\": \"M\", \"occupation\": \"student\", \"zip_code\": \"77841\"}, {\"user_id\": \"95\", \"rating count\": 56, \"rating mean\": 4.267857142857143, \"age\": 25, \"sex\": \"F\", \"occupation\": \"artist\", \"zip_code\": \"75206\"}, {\"user_id\": \"96\", \"rating count\": 63, \"rating mean\": 4.158730158730159, \"age\": 43, \"sex\": \"M\", \"occupation\": \"artist\", \"zip_code\": \"98006\"}, {\"user_id\": \"97\", \"rating count\": 27, \"rating mean\": 3.5925925925925926, \"age\": 49, \"sex\": \"F\", \"occupation\": \"executive\", \"zip_code\": \"90291\"}, {\"user_id\": \"98\", \"rating count\": 136, \"rating mean\": 3.551470588235294, \"age\": 20, \"sex\": \"M\", \"occupation\": \"student\", \"zip_code\": \"63129\"}, {\"user_id\": \"99\", \"rating count\": 59, \"rating mean\": 3.0677966101694913, \"age\": 36, \"sex\": \"M\", \"occupation\": \"executive\", \"zip_code\": \"90254\"}]}}, {\"mode\": \"vega-lite\"});\n",
       "</script>"
      ],
      "text/plain": [
       "alt.HConcatChart(...)"
      ]
     },
     "execution_count": 11,
     "metadata": {},
     "output_type": "execute_result"
    }
   ],
   "source": [
    "users_ratings = (\n",
    "    ratings\n",
    "    .groupby('user_id', as_index=False)\n",
    "    .agg({'rating': ['count', 'mean']})\n",
    "    .flatten_cols()\n",
    "    .merge(users, on='user_id')\n",
    ")\n",
    "\n",
    "# Create a chart for the count, and one for the mean.\n",
    "alt.hconcat(\n",
    "    filtered_hist('rating count', '# ratings / user', occupation_filter),\n",
    "    filtered_hist('rating mean', 'mean user rating', occupation_filter),\n",
    "    occupation_chart,\n",
    "    data=users_ratings)"
   ]
  },
  {
   "cell_type": "markdown",
   "metadata": {
    "colab_type": "text",
    "id": "pmC6wykPo4tK"
   },
   "source": [
    "### Movies\n",
    "\n",
    "It is also useful to look at information about the movies and their ratings."
   ]
  },
  {
   "cell_type": "code",
   "execution_count": null,
   "metadata": {
    "colab": {},
    "colab_type": "code",
    "id": "tCdPQRsso4tL"
   },
   "outputs": [],
   "source": [
    "movies_ratings = movies.merge(\n",
    "    ratings\n",
    "    .groupby('movie_id', as_index=False)\n",
    "    .agg({'rating': ['count', 'mean']})\n",
    "    .flatten_cols(),\n",
    "    on='movie_id')\n",
    "\n",
    "genre_filter = alt.selection_multi(fields=['genre'])\n",
    "genre_chart = alt.Chart().mark_bar().encode(\n",
    "    x=\"count()\",\n",
    "    y=alt.Y('genre'),\n",
    "    color=alt.condition(\n",
    "        genre_filter,\n",
    "        alt.Color(\"genre:N\"),\n",
    "        alt.value('lightgray'))\n",
    ").properties(height=300, selection=genre_filter)"
   ]
  },
  {
   "cell_type": "code",
   "execution_count": null,
   "metadata": {
    "colab": {},
    "colab_type": "code",
    "id": "NH9QQNr6o4tO"
   },
   "outputs": [],
   "source": [
    "(movies_ratings[['title', 'rating count', 'rating mean']]\n",
    " .sort_values('rating count', ascending=False)\n",
    " .head(10))"
   ]
  },
  {
   "cell_type": "code",
   "execution_count": null,
   "metadata": {
    "colab": {},
    "colab_type": "code",
    "id": "xNb5Lz1oo4tP"
   },
   "outputs": [],
   "source": [
    "(movies_ratings[['title', 'rating count', 'rating mean']]\n",
    " .mask('rating count', lambda x: x > 20)\n",
    " .sort_values('rating mean', ascending=False)\n",
    " .head(10))"
   ]
  },
  {
   "cell_type": "markdown",
   "metadata": {
    "colab_type": "text",
    "id": "kW_WRQyDo4tR"
   },
   "source": [
    "Finally, the last chart shows the distribution of the number of ratings and average rating."
   ]
  },
  {
   "cell_type": "code",
   "execution_count": null,
   "metadata": {
    "colab": {},
    "colab_type": "code",
    "id": "z8wxFfV8o4tR"
   },
   "outputs": [],
   "source": [
    "# Display the number of ratings and average rating per movie.\n",
    "alt.hconcat(\n",
    "    filtered_hist('rating count', '# ratings / movie', genre_filter),\n",
    "    filtered_hist('rating mean', 'mean movie rating', genre_filter),\n",
    "    genre_chart,\n",
    "    data=movies_ratings)"
   ]
  },
  {
   "cell_type": "markdown",
   "metadata": {
    "colab_type": "text",
    "id": "WEhp-q31o4tS"
   },
   "source": [
    "# Preliminaries\n",
    "\n",
    "Our goal is to factorize the ratings matrix $A$ into the product of a user embedding matrix $U$ and movie embedding matrix $V$, such that $A \\approx UV^\\top$ with\n",
    "$U = \\begin{bmatrix} u_{1} \\\\ \\hline \\vdots \\\\ \\hline u_{N} \\end{bmatrix}$ and\n",
    "$V = \\begin{bmatrix} v_{1} \\\\ \\hline \\vdots \\\\ \\hline v_{M} \\end{bmatrix}$.\n",
    "\n",
    "Here\n",
    "- $N$ is the number of users,\n",
    "- $M$ is the number of movies,\n",
    "- $A_{ij}$ is the rating of the $j$th movies by the $i$th user,\n",
    "- each row $U_i$ is a $d$-dimensional vector (embedding) representing user $i$,\n",
    "- each rwo $V_j$ is a $d$-dimensional vector (embedding) representing movie $j$,\n",
    "- the prediction of the model for the $(i, j)$ pair is the dot product $\\langle U_i, V_j \\rangle$.\n",
    "\n"
   ]
  },
  {
   "cell_type": "markdown",
   "metadata": {
    "colab_type": "text",
    "id": "yMYZw_Yco4tT"
   },
   "source": [
    "## Sparse Representation of the Rating Matrix\n",
    "\n",
    "The rating matrix could be very large and, in general, most of the entries are unobserved, since a given user will only rate a small subset of movies. For effcient representation, we will use a [tf.SparseTensor](https://www.tensorflow.org/api_docs/python/tf/SparseTensor). A `SparseTensor` uses three tensors to represent the matrix: `tf.SparseTensor(indices, values, dense_shape)` represents a tensor, where a value $A_{ij} = a$ is encoded by setting `indices[k] = [i, j]` and `values[k] = a`. The last tensor `dense_shape` is used to specify the shape of the full underlying matrix.\n",
    "\n",
    "#### Toy example\n",
    "Assume we have $2$ users and $4$ movies. Our toy ratings dataframe has three ratings,\n",
    "\n",
    "user\\_id | movie\\_id | rating\n",
    "--:|--:|--:\n",
    "0 | 0 | 5.0\n",
    "0 | 1 | 3.0\n",
    "1 | 3 | 1.0\n",
    "\n",
    "The corresponding rating matrix is\n",
    "\n",
    "$$\n",
    "A =\n",
    "\\begin{bmatrix}\n",
    "5.0 & 3.0 & 0 & 0 \\\\\n",
    "0   &   0 & 0 & 1.0\n",
    "\\end{bmatrix}\n",
    "$$\n",
    "\n",
    "And the SparseTensor representation is,\n",
    "```python\n",
    "SparseTensor(\n",
    "  indices=[[0, 0], [0, 1], [1,3]],\n",
    "  values=[5.0, 3.0, 1.0],\n",
    "  dense_shape=[2, 4])\n",
    "```\n",
    "\n"
   ]
  },
  {
   "cell_type": "markdown",
   "metadata": {
    "colab_type": "text",
    "id": "vBNijwXuo4tU"
   },
   "source": [
    "### Exercise 1: Build a tf.SparseTensor representation of the Rating Matrix.\n",
    "\n",
    "In this exercise, we'll write a function that maps from our `ratings` DataFrame to a `tf.SparseTensor`.\n",
    "\n",
    "Hint: you can select the values of a given column of a Dataframe `df` using `df['column_name'].values`."
   ]
  },
  {
   "cell_type": "code",
   "execution_count": null,
   "metadata": {
    "cellView": "both",
    "colab": {},
    "colab_type": "code",
    "id": "lwgUGTSmo4tW"
   },
   "outputs": [],
   "source": [
    "def build_rating_sparse_tensor(ratings_df):\n",
    "  \"\"\"\n",
    "  Args:\n",
    "    ratings_df: a pd.DataFrame with `user_id`, `movie_id` and `rating` columns.\n",
    "  Returns:\n",
    "    A tf.SparseTensor representing the ratings matrix.\n",
    "  \"\"\"\n",
    "  # ========================= Complete this section ============================\n",
    "  # indices =\n",
    "  # values =\n",
    "  # ============================================================================\n",
    "\n",
    "  return tf.SparseTensor(\n",
    "      indices=indices,\n",
    "      values=values,\n",
    "      dense_shape=[users.shape[0], movies.shape[0]])"
   ]
  },
  {
   "cell_type": "markdown",
   "metadata": {
    "colab_type": "text",
    "id": "8k9CSOH5o4tX"
   },
   "source": [
    "## Calculating the error\n",
    "\n",
    "The model approximates the ratings matrix $A$ by a low-rank product $UV^\\top$. We need a way to measure the approximation error. We'll start by using the Mean Squared Error of observed entries only (we will revisit this later). It is defined as\n",
    "\n",
    "$$\n",
    "\\begin{align*}\n",
    "\\text{MSE}(A, UV^\\top)\n",
    "&= \\frac{1}{|\\Omega|}\\sum_{(i, j) \\in\\Omega}{( A_{ij} - (UV^\\top)_{ij})^2} \\\\\n",
    "&= \\frac{1}{|\\Omega|}\\sum_{(i, j) \\in\\Omega}{( A_{ij} - \\langle U_i, V_j\\rangle)^2}\n",
    "\\end{align*}\n",
    "$$\n",
    "where $\\Omega$ is the set of observed ratings, and $|\\Omega|$ is the cardinality of $\\Omega$.\n",
    "\n"
   ]
  },
  {
   "cell_type": "markdown",
   "metadata": {
    "colab_type": "text",
    "id": "KI1Ft-I7o4tX"
   },
   "source": [
    "### Exercise 2: Mean Squared Error\n",
    "\n",
    "Write a TensorFlow function that takes a sparse rating matrix $A$ and the two embedding matrices $U, V$ and returns the mean squared error $\\text{MSE}(A, UV^\\top)$.\n",
    "\n",
    "Hints:\n",
    "  * in this section, we only consider observed entries when calculating the loss.\n",
    "  * a `SparseTensor` `sp_x` is a tuple of three Tensors: `sp_x.indices`, `sp_x.values` and `sp_x.dense_shape`.\n",
    "  * you may find [`tf.gather_nd`](https://www.tensorflow.org/api_docs/python/tf/gather_nd) and  [`tf.losses.mean_squared_error`](https://www.tensorflow.org/api_docs/python/tf/losses/mean_squared_error) helpful."
   ]
  },
  {
   "cell_type": "code",
   "execution_count": null,
   "metadata": {
    "cellView": "both",
    "colab": {},
    "colab_type": "code",
    "id": "p43zJDN7o4ta"
   },
   "outputs": [],
   "source": [
    "def sparse_mean_square_error(sparse_ratings, user_embeddings, movie_embeddings):\n",
    "  \"\"\"\n",
    "  Args:\n",
    "    sparse_ratings: A SparseTensor rating matrix, of dense_shape [N, M]\n",
    "    user_embeddings: A dense Tensor U of shape [N, k] where k is the embedding\n",
    "      dimension, such that U_i is the embedding of user i.\n",
    "    movie_embeddings: A dense Tensor V of shape [M, k] where k is the embedding\n",
    "      dimension, such that V_j is the embedding of movie j.\n",
    "  Returns:\n",
    "    A scalar Tensor representing the MSE between the true ratings and the\n",
    "      model's predictions.\n",
    "  \"\"\"\n",
    "  # ========================= Complete this section ============================\n",
    "  # loss =\n",
    "  # ============================================================================\n",
    "  return loss"
   ]
  },
  {
   "cell_type": "markdown",
   "metadata": {
    "colab_type": "text",
    "id": "IrteGTFgo4td"
   },
   "source": [
    "Note: One approach is to compute the full prediction matrix $UV^\\top$, then gather the entries corresponding to the observed pairs. The memory cost of this approach is $O(NM)$. For the MovieLens dataset, this is fine, as the dense $N \\times M$ matrix is small enough to fit in memory ($N = 943$, $M = 1682$).\n",
    "\n",
    "Another approach (given in the alternate solution below) is to only gather the embeddings of the observed pairs, then compute their dot products. The memory cost is $O(|\\Omega| d)$ where $d$ is the embedding dimension. In our case, $|\\Omega| = 10^5$, and the embedding dimension is on the order of $10$, so the memory cost of both methods is comparable. But when the number of users or movies is much larger, the first approach becomes infeasible."
   ]
  },
  {
   "cell_type": "code",
   "execution_count": null,
   "metadata": {
    "cellView": "both",
    "colab": {},
    "colab_type": "code",
    "id": "6Z0m3dL88Uxd"
   },
   "outputs": [],
   "source": [
    "#Alternate Solution\n",
    "def sparse_mean_square_error(sparse_ratings, user_embeddings, movie_embeddings):\n",
    "  \"\"\"\n",
    "  Args:\n",
    "    sparse_ratings: A SparseTensor rating matrix, of dense_shape [N, M]\n",
    "    user_embeddings: A dense Tensor U of shape [N, k] where k is the embedding\n",
    "      dimension, such that U_i is the embedding of user i.\n",
    "    movie_embeddings: A dense Tensor V of shape [M, k] where k is the embedding\n",
    "      dimension, such that V_j is the embedding of movie j.\n",
    "  Returns:\n",
    "    A scalar Tensor representing the MSE between the true ratings and the\n",
    "      model's predictions.\n",
    "  \"\"\"\n",
    "  predictions = tf.reduce_sum(\n",
    "      tf.gather(user_embeddings, sparse_ratings.indices[:, 0]) *\n",
    "      tf.gather(movie_embeddings, sparse_ratings.indices[:, 1]),\n",
    "      axis=1)\n",
    "  loss = tf.losses.mean_squared_error(sparse_ratings.values, predictions)\n",
    "  return loss"
   ]
  },
  {
   "cell_type": "markdown",
   "metadata": {
    "colab_type": "text",
    "id": "eSfW6SwIo4tk"
   },
   "source": [
    "# Training a Matrix Factorization model\n",
    "\n",
    "## CFModel (Collaborative Filtering Model) helper class\n",
    "This is a simple class to train a matrix factorization model using stochastic gradient descent.\n",
    "\n",
    "The class constructor takes\n",
    "- the user embeddings U (a `tf.Variable`).\n",
    "- the movie embeddings V, (a `tf.Variable`).\n",
    "- a loss to optimize (a `tf.Tensor`).\n",
    "- an optional list of metrics dictionaries, each mapping a string (the name of the metric) to a tensor. These are evaluated and plotted during training (e.g. training error and test error).\n",
    "\n",
    "After training, one can access the trained embeddings using the `model.embeddings` dictionary.\n",
    "\n",
    "Example usage:\n",
    "```\n",
    "U_var = ...\n",
    "V_var = ...\n",
    "loss = ...\n",
    "model = CFModel(U_var, V_var, loss)\n",
    "model.train(iterations=100, learning_rate=1.0)\n",
    "user_embeddings = model.embeddings['user_id']\n",
    "movie_embeddings = model.embeddings['movie_id']\n",
    "```\n"
   ]
  },
  {
   "cell_type": "code",
   "execution_count": null,
   "metadata": {
    "cellView": "both",
    "colab": {},
    "colab_type": "code",
    "id": "6NHoOwido4tk"
   },
   "outputs": [],
   "source": [
    "\n",
    "class CFModel(object):\n",
    "  \"\"\"Simple class that represents a collaborative filtering model\"\"\"\n",
    "  def __init__(self, embedding_vars, loss, metrics=None):\n",
    "    \"\"\"Initializes a CFModel.\n",
    "    Args:\n",
    "      embedding_vars: A dictionary of tf.Variables.\n",
    "      loss: A float Tensor. The loss to optimize.\n",
    "      metrics: optional list of dictionaries of Tensors. The metrics in each\n",
    "        dictionary will be plotted in a separate figure during training.\n",
    "    \"\"\"\n",
    "    self._embedding_vars = embedding_vars\n",
    "    self._loss = loss\n",
    "    self._metrics = metrics\n",
    "    self._embeddings = {k: None for k in embedding_vars}\n",
    "    self._session = None\n",
    "\n",
    "  @property\n",
    "  def embeddings(self):\n",
    "    \"\"\"The embeddings dictionary.\"\"\"\n",
    "    return self._embeddings\n",
    "\n",
    "  def train(self, num_iterations=100, learning_rate=1.0, plot_results=True,\n",
    "            optimizer=tf.train.GradientDescentOptimizer):\n",
    "    \"\"\"Trains the model.\n",
    "    Args:\n",
    "      iterations: number of iterations to run.\n",
    "      learning_rate: optimizer learning rate.\n",
    "      plot_results: whether to plot the results at the end of training.\n",
    "      optimizer: the optimizer to use. Default to GradientDescentOptimizer.\n",
    "    Returns:\n",
    "      The metrics dictionary evaluated at the last iteration.\n",
    "    \"\"\"\n",
    "    \n",
    "    with self._loss.graph.as_default():\n",
    "      opt = optimizer(learning_rate)\n",
    "      train_op = opt.minimize(self._loss)\n",
    "      local_init_op = tf.group(\n",
    "          tf.variables_initializer(opt.variables()),\n",
    "          tf.local_variables_initializer())\n",
    "      if self._session is None:\n",
    "        self._session = tf.Session()\n",
    "        with self._session.as_default():\n",
    "          self._session.run(tf.global_variables_initializer())\n",
    "          self._session.run(tf.tables_initializer())\n",
    "          #tf.train.start_queue_runners()\n",
    "\n",
    "    with self._session.as_default():\n",
    "      local_init_op.run()\n",
    "      iterations = []\n",
    "      metrics = self._metrics or ({},)\n",
    "      metrics_vals = [collections.defaultdict(list) for _ in self._metrics]\n",
    "\n",
    "      # Train and append results.\n",
    "      for i in range(num_iterations + 1):\n",
    "        _, results = self._session.run((train_op, metrics))\n",
    "        if (i % 10 == 0) or i == num_iterations:\n",
    "          print(\"\\r iteration %d: \" % i + \", \".join(\n",
    "                [\"%s=%f\" % (k, v) for r in results for k, v in r.items()]),\n",
    "                end='')\n",
    "          iterations.append(i)\n",
    "          for metric_val, result in zip(metrics_vals, results):\n",
    "            for k, v in result.items():\n",
    "              metric_val[k].append(v)\n",
    "\n",
    "      for k, v in self._embedding_vars.items():\n",
    "        self._embeddings[k] = v.eval()\n",
    "\n",
    "      if plot_results:\n",
    "        # Plot the metrics.\n",
    "        num_subplots = len(metrics)+1\n",
    "        fig = plt.figure()\n",
    "        fig.set_size_inches(num_subplots*10, 8)\n",
    "        for i, metric_vals in enumerate(metrics_vals):\n",
    "          ax = fig.add_subplot(1, num_subplots, i+1)\n",
    "          for k, v in metric_vals.items():\n",
    "            ax.plot(iterations, v, label=k)\n",
    "          ax.set_xlim([1, num_iterations])\n",
    "          ax.legend()\n",
    "      return results"
   ]
  },
  {
   "cell_type": "markdown",
   "metadata": {
    "colab_type": "text",
    "id": "bKis0EyHo4tn"
   },
   "source": [
    "### Exercise 3: Build a Matrix Factorization model and train it\n",
    "\n",
    "Using your `sparse_mean_square_error` function, write a function that builds a `CFModel` by creating the embedding variables and the train and test losses."
   ]
  },
  {
   "cell_type": "code",
   "execution_count": null,
   "metadata": {
    "cellView": "form",
    "colab": {},
    "colab_type": "code",
    "id": "M9RxIX_Oo4tp"
   },
   "outputs": [],
   "source": [
    "def build_model(ratings, embedding_dim=3, init_stddev=1.):\n",
    "  \"\"\"\n",
    "  Args:\n",
    "    ratings: a DataFrame of the ratings\n",
    "    embedding_dim: the dimension of the embedding vectors.\n",
    "    init_stddev: float, the standard deviation of the random initial embeddings.\n",
    "  Returns:\n",
    "    model: a CFModel.\n",
    "  \"\"\"\n",
    "  # Split the ratings DataFrame into train and test.\n",
    "  train_ratings, test_ratings = split_dataframe(ratings)\n",
    "  # SparseTensor representation of the train and test datasets.\n",
    "  # ========================= Complete this section ============================\n",
    "  # A_train =\n",
    "  # A_test =\n",
    "  # ============================================================================\n",
    "  # Initialize the embeddings using a normal distribution.\n",
    "  U = tf.Variable(tf.random_normal(\n",
    "      [A_train.dense_shape[0], embedding_dim], stddev=init_stddev))\n",
    "  V = tf.Variable(tf.random_normal(\n",
    "      [A_train.dense_shape[1], embedding_dim], stddev=init_stddev))\n",
    "  # ========================= Complete this section ============================\n",
    "  # train_loss =\n",
    "  # test_loss =\n",
    "  # ============================================================================\n",
    "  metrics = {\n",
    "      'train_error': train_loss,\n",
    "      'test_error': test_loss\n",
    "  }\n",
    "  embeddings = {\n",
    "      \"user_id\": U,\n",
    "      \"movie_id\": V\n",
    "  }\n",
    "  return CFModel(embeddings, train_loss, [metrics])"
   ]
  },
  {
   "cell_type": "markdown",
   "metadata": {
    "colab_type": "text",
    "id": "mHMTVERDo4ts"
   },
   "source": [
    "Great, now it's time to train the model!\n",
    "\n",
    "Go ahead and run the next cell, trying different parameters (embedding dimension, learning rate, iterations). The training and test errors are plotted at the end of training. You can inspect these values to validate the hyper-parameters.\n",
    "\n",
    "Note: by calling `model.train` again, the model will continue training starting from the current values of the embeddings."
   ]
  },
  {
   "cell_type": "code",
   "execution_count": null,
   "metadata": {
    "colab": {},
    "colab_type": "code",
    "id": "_BlRIQJYo4tt"
   },
   "outputs": [],
   "source": [
    "# Build the CF model and train it.\n",
    "model = build_model(ratings, embedding_dim=30, init_stddev=0.5)\n"
   ]
  },
  {
   "cell_type": "code",
   "execution_count": null,
   "metadata": {},
   "outputs": [],
   "source": [
    "model.train(num_iterations=1000, learning_rate=10.)"
   ]
  },
  {
   "cell_type": "markdown",
   "metadata": {
    "colab_type": "text",
    "id": "-RWinHdno4tu"
   },
   "source": [
    "The movie and user embeddings are also displayed in the right figure. When the embedding dimension is greater than 3, the embeddings are projected on the first 3 dimensions. The next section will have a more detailed look at the embeddings."
   ]
  },
  {
   "cell_type": "markdown",
   "metadata": {
    "colab_type": "text",
    "id": "IO1r1A5Xo4tu"
   },
   "source": [
    "# Inspecting the Embeddings\n",
    "\n",
    "In this section, we take a closer look at the learned embeddings, by\n",
    "- computing your recommendations\n",
    "- looking at the nearest neighbors of some movies,\n",
    "- looking at the norms of the movie embeddings,\n",
    "- visualizing the embedding in a projected embedding space."
   ]
  },
  {
   "cell_type": "markdown",
   "metadata": {
    "colab_type": "text",
    "id": "8Z3q8xZVo4tw"
   },
   "source": [
    "### Exercise 4: Write a function that computes the scores of the candidates\n",
    "We start by writing a function that, given a query embedding $u \\in \\mathbb R^d$ and item embeddings $V \\in \\mathbb R^{N \\times d}$, computes the item scores.\n",
    "\n",
    "As discussed in the lecture, there are different similarity measures we can use, and these can yield different results. We will compare the following:\n",
    "- dot product: the score of item j is $\\langle u, V_j \\rangle$.\n",
    "- cosine: the score of item j is $\\frac{\\langle u, V_j \\rangle}{\\|u\\|\\|V_j\\|}$.\n",
    "\n",
    "Hints:\n",
    "- you can use [`np.dot`](https://docs.scipy.org/doc/numpy/reference/generated/numpy.dot.html) to compute the product of two np.Arrays.\n",
    "- you can use [`np.linalg.norm`](https://docs.scipy.org/doc/numpy-1.14.0/reference/generated/numpy.linalg.norm.html) to compute the norm of a np.Array."
   ]
  },
  {
   "cell_type": "code",
   "execution_count": null,
   "metadata": {
    "cellView": "form",
    "colab": {},
    "colab_type": "code",
    "id": "PqDjkdlFo4t0"
   },
   "outputs": [],
   "source": [
    "DOT = 'dot'\n",
    "COSINE = 'cosine'\n",
    "def compute_scores(query_embedding, item_embeddings, measure=DOT):\n",
    "  \"\"\"Computes the scores of the candidates given a query.\n",
    "  Args:\n",
    "    query_embedding: a vector of shape [k], representing the query embedding.\n",
    "    item_embeddings: a matrix of shape [N, k], such that row i is the embedding\n",
    "      of item i.\n",
    "    measure: a string specifying the similarity measure to be used. Can be\n",
    "      either DOT or COSINE.\n",
    "  Returns:\n",
    "    scores: a vector of shape [N], such that scores[i] is the score of item i.\n",
    "  \"\"\"\n",
    "  # ========================= Complete this section ============================\n",
    "  # scores =\n",
    "  # ============================================================================\n",
    "  return scores"
   ]
  },
  {
   "cell_type": "markdown",
   "metadata": {
    "colab_type": "text",
    "id": "EDpSY1REo4t1"
   },
   "source": [
    "Equipped with this function, we can compute recommendations, where the query embedding can be either a user embedding or a movie embedding."
   ]
  },
  {
   "cell_type": "code",
   "execution_count": null,
   "metadata": {
    "cellView": "both",
    "colab": {},
    "colab_type": "code",
    "id": "6dSF9U1fo4t2"
   },
   "outputs": [],
   "source": [
    "\n",
    "def user_recommendations(model, measure=DOT, exclude_rated=False, k=6):\n",
    "  if USER_RATINGS:\n",
    "    scores = compute_scores(\n",
    "        model.embeddings[\"user_id\"][943], model.embeddings[\"movie_id\"], measure)\n",
    "    score_key = measure + ' score'\n",
    "    df = pd.DataFrame({\n",
    "        score_key: list(scores),\n",
    "        'movie_id': movies['movie_id'],\n",
    "        'titles': movies['title'],\n",
    "        'genres': movies['all_genres'],\n",
    "    })\n",
    "    if exclude_rated:\n",
    "      # remove movies that are already rated\n",
    "      rated_movies = ratings[ratings.user_id == \"943\"][\"movie_id\"].values\n",
    "      df = df[df.movie_id.apply(lambda movie_id: movie_id not in rated_movies)]\n",
    "    display.display(df.sort_values([score_key], ascending=False).head(k))  \n",
    "\n",
    "def movie_neighbors(model, title_substring, measure=DOT, k=6):\n",
    "  # Search for movie ids that match the given substring.\n",
    "  ids =  movies[movies['title'].str.contains(title_substring)].index.values\n",
    "  titles = movies.iloc[ids]['title'].values\n",
    "  if len(titles) == 0:\n",
    "    raise ValueError(\"Found no movies with title %s\" % title_substring)\n",
    "  print(\"Nearest neighbors of : %s.\" % titles[0])\n",
    "  if len(titles) > 1:\n",
    "    print(\"[Found more than one matching movie. Other candidates: {}]\".format(\n",
    "        \", \".join(titles[1:])))\n",
    "  movie_id = ids[0]\n",
    "  scores = compute_scores(\n",
    "      model.embeddings[\"movie_id\"][movie_id], model.embeddings[\"movie_id\"],\n",
    "      measure)\n",
    "  score_key = measure + ' score'\n",
    "  df = pd.DataFrame({\n",
    "      score_key: list(scores),\n",
    "      'titles': movies['title'],\n",
    "      'genres': movies['all_genres']\n",
    "  })\n",
    "  display.display(df.sort_values([score_key], ascending=False).head(k))"
   ]
  },
  {
   "cell_type": "markdown",
   "metadata": {
    "colab_type": "text",
    "id": "fFaiyCtgo4t6"
   },
   "source": [
    "### Movie Nearest neighbors\n",
    "\n",
    "Let's look at the neareast neighbors for some of the movies."
   ]
  },
  {
   "cell_type": "code",
   "execution_count": null,
   "metadata": {
    "colab": {},
    "colab_type": "code",
    "id": "ejJHfA-so4t8"
   },
   "outputs": [],
   "source": [
    "movie_neighbors(model, \"Aladdin\", DOT)\n",
    "movie_neighbors(model, \"Aladdin\", COSINE)"
   ]
  },
  {
   "cell_type": "markdown",
   "metadata": {
    "colab_type": "text",
    "id": "JD3X1ua8o4uA"
   },
   "source": [
    "It seems that the quality of learned embeddings may not be very good. Can you think of potential techniques that could be used to improve them? We can start by inspecting the embeddings."
   ]
  },
  {
   "cell_type": "markdown",
   "metadata": {
    "colab_type": "text",
    "id": "SOxdxqpKo4uB"
   },
   "source": [
    "## Movie Embedding Norm\n",
    "\n",
    "We can also observe that the recommendations with dot-product and cosine are different: with dot-product, the model tends to recommend popular movies. This can be explained by the fact that in matrix factorization models, the norm of the embedding is often correlated with popularity (popular movies have a larger norm), which makes it more likely to recommend more popular items. We can confirm this hypothesis by sorting the movies by their embedding norm, as done in the next cell."
   ]
  },
  {
   "cell_type": "code",
   "execution_count": null,
   "metadata": {
    "cellView": "form",
    "colab": {},
    "colab_type": "code",
    "id": "G_Kko-YxF6YE"
   },
   "outputs": [],
   "source": [
    "\n",
    "def movie_embedding_norm(models):\n",
    "  \"\"\"Visualizes the norm and number of ratings of the movie embeddings.\n",
    "  Args:\n",
    "    model: A MFModel object.\n",
    "  \"\"\"\n",
    "  if not isinstance(models, list):\n",
    "    models = [models]\n",
    "  df = pd.DataFrame({\n",
    "      'title': movies['title'],\n",
    "      'genre': movies['genre'],\n",
    "      'num_ratings': movies_ratings['rating count'],\n",
    "  })\n",
    "  charts = []\n",
    "  brush = alt.selection_interval()\n",
    "  for i, model in enumerate(models):\n",
    "    norm_key = 'norm'+str(i)\n",
    "    df[norm_key] = np.linalg.norm(model.embeddings[\"movie_id\"], axis=1)\n",
    "    nearest = alt.selection(\n",
    "        type='single', encodings=['x', 'y'], on='mouseover', nearest=True,\n",
    "        empty='none')\n",
    "    base = alt.Chart().mark_circle().encode(\n",
    "        x='num_ratings',\n",
    "        y=norm_key,\n",
    "        color=alt.condition(brush, alt.value('#4c78a8'), alt.value('lightgray'))\n",
    "    ).properties(\n",
    "        selection=nearest).add_selection(brush)\n",
    "    text = alt.Chart().mark_text(align='center', dx=5, dy=-5).encode(\n",
    "        x='num_ratings', y=norm_key,\n",
    "        text=alt.condition(nearest, 'title', alt.value('')))\n",
    "    charts.append(alt.layer(base, text))\n",
    "  return alt.hconcat(*charts, data=df)\n",
    "\n",
    "def visualize_movie_embeddings(data, x, y):\n",
    "  nearest = alt.selection(\n",
    "      type='single', encodings=['x', 'y'], on='mouseover', nearest=True,\n",
    "      empty='none')\n",
    "  base = alt.Chart().mark_circle().encode(\n",
    "      x=x,\n",
    "      y=y,\n",
    "      color=alt.condition(genre_filter, \"genre\", alt.value(\"whitesmoke\")),\n",
    "  ).properties(\n",
    "      width=600,\n",
    "      height=600,\n",
    "      selection=nearest)\n",
    "  text = alt.Chart().mark_text(align='left', dx=5, dy=-5).encode(\n",
    "      x=x,\n",
    "      y=y,\n",
    "      text=alt.condition(nearest, 'title', alt.value('')))\n",
    "  return alt.hconcat(alt.layer(base, text), genre_chart, data=data)\n",
    "\n",
    "def tsne_movie_embeddings(model):\n",
    "  \"\"\"Visualizes the movie embeddings, projected using t-SNE with Cosine measure.\n",
    "  Args:\n",
    "    model: A MFModel object.\n",
    "  \"\"\"\n",
    "  tsne = sklearn.manifold.TSNE(\n",
    "      n_components=2, perplexity=40, metric='cosine', early_exaggeration=10.0,\n",
    "      init='pca', verbose=True, n_iter=400)\n",
    "\n",
    "  print('Running t-SNE...')\n",
    "  V_proj = tsne.fit_transform(model.embeddings[\"movie_id\"])\n",
    "  movies.loc[:,'x'] = V_proj[:, 0]\n",
    "  movies.loc[:,'y'] = V_proj[:, 1]\n",
    "  return visualize_movie_embeddings(movies, 'x', 'y')"
   ]
  },
  {
   "cell_type": "code",
   "execution_count": null,
   "metadata": {
    "colab": {},
    "colab_type": "code",
    "id": "SXP_eW-Xo4uD"
   },
   "outputs": [],
   "source": [
    "movie_embedding_norm(model)"
   ]
  },
  {
   "cell_type": "markdown",
   "metadata": {
    "colab_type": "text",
    "id": "5o1vQGyIo4uE"
   },
   "source": [
    "Note: Depending on how the model is initialized, you may observe that some niche movies (ones with few ratings) have a high norm, leading to spurious recommendations. This can happen if the embedding of that movie happens to be initialized with a high norm. Then, because the movie has few ratings, it is infrequently updated, and can keep its high norm. This can be alleviated by using regularization.\n",
    "\n",
    "Try changing the value of the hyperparameter `init_stddev`. One quantity that can be helpful is that the expected norm of a $d$-dimensional vector with entries $\\sim \\mathcal N(0, \\sigma^2)$ is approximatley $\\sigma \\sqrt d$.\n",
    "\n",
    "How does this affect the embedding norm distribution, and the ranking of the top-norm movies?"
   ]
  },
  {
   "cell_type": "code",
   "execution_count": null,
   "metadata": {
    "colab": {},
    "colab_type": "code",
    "id": "2I0FcjkPAoO4"
   },
   "outputs": [],
   "source": [
    "#@title Solution\n",
    "model_lowinit = build_model(ratings, embedding_dim=30, init_stddev=0.05)\n",
    "model_lowinit.train(num_iterations=1000, learning_rate=10.)\n",
    "movie_neighbors(model_lowinit, \"Aladdin\", DOT)\n",
    "movie_neighbors(model_lowinit, \"Aladdin\", COSINE)\n",
    "movie_embedding_norm([model, model_lowinit])"
   ]
  },
  {
   "cell_type": "markdown",
   "metadata": {
    "colab_type": "text",
    "id": "fF6dMP1To4uH"
   },
   "source": [
    "## Embedding visualization\n",
    "Since it is hard to visualize embeddings in a higher-dimensional space (when the embedding dimension $k > 3$), one approach is to project the embeddings to a lower dimensional space. T-SNE (T-distributed Stochastic Neighbor Embedding) is an algorithm that projects the embeddings while attempting to preserve their pariwise distances. It can be useful for visualization, but one should use it with care. For more information on using t-SNE, see [How to Use t-SNE Effectively](https://distill.pub/2016/misread-tsne/)."
   ]
  },
  {
   "cell_type": "code",
   "execution_count": null,
   "metadata": {
    "colab": {},
    "colab_type": "code",
    "id": "W6bkyeDao4uH"
   },
   "outputs": [],
   "source": [
    "tsne_movie_embeddings(model_lowinit)"
   ]
  },
  {
   "cell_type": "markdown",
   "metadata": {
    "colab_type": "text",
    "id": "y9j2Bbf8o4uI"
   },
   "source": [
    "You can highlight the embeddings of a given genre by clicking on the genres panel (SHIFT+click to select multiple genres).\n",
    "\n",
    "We can observe that the embeddings do not seem to have any notable structure, and the embeddings of a given genre are located all over the embedding space. This confirms the poor quality of the learned embeddings. One of the main reasons is that we only trained the model on observed pairs, and without regularization."
   ]
  },
  {
   "cell_type": "markdown",
   "metadata": {
    "colab_type": "text",
    "id": "K7NJT9gbo4ub"
   },
   "source": [
    "# Softmax model\n",
    "\n",
    "In this section, we will train a simple softmax model that predicts whether a given user has rated a movie.\n",
    "\n",
    "The model will take as input a feature vector $x$ representing the list of movies the user has rated. We start from the ratings DataFrame, which we group by user_id."
   ]
  },
  {
   "cell_type": "code",
   "execution_count": null,
   "metadata": {
    "colab": {},
    "colab_type": "code",
    "id": "JJcaNiWdo4ub"
   },
   "outputs": [],
   "source": [
    "rated_movies = (ratings[[\"user_id\", \"movie_id\"]]\n",
    "                .groupby(\"user_id\", as_index=False)\n",
    "                .aggregate(lambda x: list(x)))\n",
    "rated_movies.head()"
   ]
  },
  {
   "cell_type": "markdown",
   "metadata": {
    "colab_type": "text",
    "id": "X14ABp0Jo4uc"
   },
   "source": [
    "We then create a function that generates an example batch, such that each example contains the following features:\n",
    "- movie_id: A tensor of strings of the movie ids that the user rated.\n",
    "- genre: A tensor of strings of the genres of those movies\n",
    "- year: A tensor of strings of the release year."
   ]
  },
  {
   "cell_type": "code",
   "execution_count": null,
   "metadata": {
    "cellView": "both",
    "colab": {},
    "colab_type": "code",
    "id": "N_IsDAEAo4ud"
   },
   "outputs": [],
   "source": [
    "\n",
    "years_dict = {\n",
    "    movie: year for movie, year in zip(movies[\"movie_id\"], movies[\"year\"])\n",
    "}\n",
    "genres_dict = {\n",
    "    movie: genres.split('-')\n",
    "    for movie, genres in zip(movies[\"movie_id\"], movies[\"all_genres\"])\n",
    "}\n",
    "\n",
    "def make_batch(ratings, batch_size):\n",
    "  \"\"\"Creates a batch of examples.\n",
    "  Args:\n",
    "    ratings: A DataFrame of ratings such that examples[\"movie_id\"] is a list of\n",
    "      movies rated by a user.\n",
    "    batch_size: The batch size.\n",
    "  \"\"\"\n",
    "  def pad(x, fill):\n",
    "    return pd.DataFrame.from_dict(x).fillna(fill).values\n",
    "\n",
    "  movie = []\n",
    "  year = []\n",
    "  genre = []\n",
    "  label = []\n",
    "  for movie_ids in ratings[\"movie_id\"].values:\n",
    "    movie.append(movie_ids)\n",
    "    genre.append([x for movie_id in movie_ids for x in genres_dict[movie_id]])\n",
    "    year.append([years_dict[movie_id] for movie_id in movie_ids])\n",
    "    label.append([int(movie_id) for movie_id in movie_ids])\n",
    "  features = {\n",
    "      \"movie_id\": pad(movie, \"\"),\n",
    "      \"year\": pad(year, \"\"),\n",
    "      \"genre\": pad(genre, \"\"),\n",
    "      \"label\": pad(label, -1)\n",
    "  }\n",
    "  batch = (\n",
    "      tf.data.Dataset.from_tensor_slices(features)\n",
    "      .shuffle(1000)\n",
    "      .repeat()\n",
    "      .batch(batch_size)\n",
    "      .make_one_shot_iterator()\n",
    "      .get_next())\n",
    "  return batch\n",
    "\n",
    "def select_random(x):\n",
    "  \"\"\"Selectes a random elements from each row of x.\"\"\"\n",
    "  def to_float(x):\n",
    "    return tf.cast(x, tf.float32)\n",
    "  def to_int(x):\n",
    "    return tf.cast(x, tf.int64)\n",
    "  batch_size = tf.shape(x)[0]\n",
    "  rn = tf.range(batch_size)\n",
    "  nnz = to_float(tf.count_nonzero(x >= 0, axis=1))\n",
    "  rnd = tf.random_uniform([batch_size])\n",
    "  ids = tf.stack([to_int(rn), to_int(nnz * rnd)], axis=1)\n",
    "  return to_int(tf.gather_nd(x, ids))\n"
   ]
  },
  {
   "cell_type": "markdown",
   "metadata": {
    "colab_type": "text",
    "id": "Yef5q1Qlo4ue"
   },
   "source": [
    "### Loss function\n",
    "Recall that the softmax model maps the input features $x$ to a user embedding $\\psi(x) \\in \\mathbb R^d$, where $d$ is the embedding dimension. This vector is then multiplied by a movie embedding matrix $V \\in \\mathbb R^{m \\times d}$ (where $m$ is the number of movies), and the final output of the model is the softmax of the product\n",
    "$$\n",
    "\\hat p(x) = \\text{softmax}(\\psi(x) V^\\top).\n",
    "$$\n",
    "Given a target label $y$, if we denote by $p = 1_y$ a one-hot encoding of this target label, then the loss is the cross-entropy between $\\hat p(x)$ and $p$."
   ]
  },
  {
   "cell_type": "markdown",
   "metadata": {
    "colab_type": "text",
    "id": "DDnGAN_0o4ue"
   },
   "source": [
    "### Exercise 5: Write a loss function for the softmax model.\n",
    "\n",
    "In this exercise, we will write a function that takes tensors representing the user embeddings $\\psi(x)$, movie embeddings $V$, target label $y$, and return the cross-entropy loss.\n",
    "\n",
    "Hint: You can use the function [`tf.nn.sparse_softmax_cross_entropy_with_logits`](https://www.tensorflow.org/api_docs/python/tf/nn/sparse_softmax_cross_entropy_with_logits), which takes `logits` as input, where `logits` refers to the product $\\psi(x) V^\\top$."
   ]
  },
  {
   "cell_type": "code",
   "execution_count": null,
   "metadata": {
    "colab": {},
    "colab_type": "code",
    "id": "4OKzworlo4ue"
   },
   "outputs": [],
   "source": [
    "def softmax_loss(user_embeddings, movie_embeddings, labels):\n",
    "  \"\"\"Returns the cross-entropy loss of the softmax model.\n",
    "  Args:\n",
    "    user_embeddings: A tensor of shape [batch_size, embedding_dim].\n",
    "    movie_embeddings: A tensor of shape [num_movies, embedding_dim].\n",
    "    labels: A sparse tensor of dense_shape [batch_size, 1], such that\n",
    "      labels[i] is the target label for example i.\n",
    "  Returns:\n",
    "    The mean cross-entropy loss.\n",
    "  \"\"\"\n",
    "  # ========================= Complete this section ============================\n",
    "  # logits =\n",
    "  # loss =\n",
    "  # ============================================================================\n",
    "  return loss"
   ]
  },
  {
   "cell_type": "markdown",
   "metadata": {
    "colab_type": "text",
    "id": "Y9SvjO4go4ug"
   },
   "source": [
    "### Exercise 6: Build a softmax model, train it, and inspect its embeddings.\n",
    "\n",
    "We are now ready to build a softmax CFModel. Complete the `build_softmax_model` function in the next cell. The architecture of the model is defined in the function `create_user_embeddings` and illustrated in the figure below. The input embeddings (movie_id, genre and year) are concatenated to form the input layer, then we have hidden layers with dimensions specified by the `hidden_dims` argument. Finally, the last hidden layer is multiplied by the movie embeddings to obtain the logits layer. For the target label, we will use a randomly-sampled movie_id from the list of movies the user rated.\n",
    "\n",
    "![Softmax model](https://github.com/google/eng-edu/blob/master/ml/recommendation-systems/images/softmax-model.png?raw=true)\n",
    "\n",
    "Complete the function below by creating the feature columns and embedding columns, then creating the loss tensors both for the train and test sets (using the `softmax_loss` function of the previous exercise).\n"
   ]
  },
  {
   "cell_type": "code",
   "execution_count": null,
   "metadata": {
    "cellView": "form",
    "colab": {},
    "colab_type": "code",
    "id": "zAAr73xno4uj"
   },
   "outputs": [],
   "source": [
    "def build_softmax_model(rated_movies, embedding_cols, hidden_dims):\n",
    "  \"\"\"Builds a Softmax model for MovieLens.\n",
    "  Args:\n",
    "    rated_movies: DataFrame of traing examples.\n",
    "    embedding_cols: A dictionary mapping feature names (string) to embedding\n",
    "      column objects. This will be used in tf.feature_column.input_layer() to\n",
    "      create the input layer.\n",
    "    hidden_dims: int list of the dimensions of the hidden layers.\n",
    "  Returns:\n",
    "    A CFModel object.\n",
    "  \"\"\"\n",
    "  def create_network(features):\n",
    "    \"\"\"Maps input features dictionary to user embeddings.\n",
    "    Args:\n",
    "      features: A dictionary of input string tensors.\n",
    "    Returns:\n",
    "      outputs: A tensor of shape [batch_size, embedding_dim].\n",
    "    \"\"\"\n",
    "    # Create a bag-of-words embedding for each sparse feature.\n",
    "    inputs = tf.feature_column.input_layer(features, embedding_cols)\n",
    "    # Hidden layers.\n",
    "    input_dim = inputs.shape[1].value\n",
    "    for i, output_dim in enumerate(hidden_dims):\n",
    "      w = tf.get_variable(\n",
    "          \"hidden%d_w_\" % i, shape=[input_dim, output_dim],\n",
    "          initializer=tf.truncated_normal_initializer(\n",
    "              stddev=1./np.sqrt(output_dim))) / 10.\n",
    "      outputs = tf.matmul(inputs, w)\n",
    "      input_dim = output_dim\n",
    "      inputs = outputs\n",
    "    return outputs\n",
    "\n",
    "  train_rated_movies, test_rated_movies = split_dataframe(rated_movies)\n",
    "  train_batch = make_batch(train_rated_movies, 200)\n",
    "  test_batch = make_batch(test_rated_movies, 100)\n",
    "\n",
    "  with tf.variable_scope(\"model\", reuse=False):\n",
    "    # Train\n",
    "    train_user_embeddings = create_network(train_batch)\n",
    "    train_labels = select_random(train_batch[\"label\"])\n",
    "  with tf.variable_scope(\"model\", reuse=True):\n",
    "    # Test\n",
    "    test_user_embeddings = create_network(test_batch)\n",
    "    test_labels = select_random(test_batch[\"label\"])\n",
    "    movie_embeddings = tf.get_variable(\n",
    "        \"input_layer/movie_id_embedding/embedding_weights\")\n",
    "\n",
    "  # ========================= Complete this section ============================\n",
    "  # train_loss =\n",
    "  # test_loss =\n",
    "  # test_precision_at_10 =\n",
    "  # ============================================================================\n",
    "\n",
    "  metrics = (\n",
    "      {\"train_loss\": train_loss, \"test_loss\": test_loss},\n",
    "      {\"test_precision_at_10\": test_precision_at_10}\n",
    "  )\n",
    "  embeddings = {\"movie_id\": movie_embeddings}\n",
    "  return CFModel(embeddings, train_loss, metrics)"
   ]
  },
  {
   "cell_type": "markdown",
   "metadata": {
    "colab_type": "text",
    "id": "VZB1J8l9o4ul"
   },
   "source": [
    "### Train the Softmax model\n",
    "\n",
    "We are now ready to train the softmax model. You can set the following hyperparameters:\n",
    "- learning rate\n",
    "- number of iterations. Note: you can run `softmax_model.train()` again to continue training the model from its current state.\n",
    "- input embedding dimensions (the `input_dims` argument)\n",
    "- number of hidden layers and size of each layer (the `hidden_dims` argument)\n",
    "\n",
    "Note: since our input features are string-valued (movie_id, genre, and year), we need to map them to integer ids. This is done using [`tf.feature_column.categorical_column_with_vocabulary_list`](https://www.tensorflow.org/api_docs/python/tf/feature_column/categorical_column_with_vocabulary_list), which takes a vocabulary list specifying all the values the feature can take. Then each id is mapped to an embedding vector using [`tf.feature_column.embedding_column`](https://www.tensorflow.org/api_docs/python/tf/feature_column/embedding_column).\n"
   ]
  },
  {
   "cell_type": "code",
   "execution_count": null,
   "metadata": {
    "colab": {},
    "colab_type": "code",
    "id": "jJsXAS_go4ul"
   },
   "outputs": [],
   "source": [
    "# Create feature embedding columns\n",
    "def make_embedding_col(key, embedding_dim):\n",
    "  categorical_col = tf.feature_column.categorical_column_with_vocabulary_list(\n",
    "      key=key, vocabulary_list=list(set(movies[key].values)), num_oov_buckets=0)\n",
    "  return tf.feature_column.embedding_column(\n",
    "      categorical_column=categorical_col, dimension=embedding_dim,\n",
    "      # default initializer: trancated normal with stddev=1/sqrt(dimension)\n",
    "      combiner='mean')\n",
    "\n",
    "with tf.Graph().as_default():\n",
    "  softmax_model = build_softmax_model(\n",
    "      rated_movies,\n",
    "      embedding_cols=[\n",
    "          make_embedding_col(\"movie_id\", 35),\n",
    "          make_embedding_col(\"genre\", 3),\n",
    "          make_embedding_col(\"year\", 2),\n",
    "      ],\n",
    "      hidden_dims=[35])\n",
    "\n",
    "softmax_model.train(\n",
    "    learning_rate=8., num_iterations=3000, optimizer=tf.train.AdagradOptimizer)"
   ]
  },
  {
   "cell_type": "markdown",
   "metadata": {
    "colab_type": "text",
    "id": "-sYjuHxJo4un"
   },
   "source": [
    "### Inspect the embeddings\n",
    "\n",
    "We can inspect the movie embeddings as we did for the previous models. Note that in this case, the movie embeddings are used at the same time as input embeddings (for the bag of words representation of the user history), and as softmax weights."
   ]
  },
  {
   "cell_type": "code",
   "execution_count": null,
   "metadata": {
    "colab": {},
    "colab_type": "code",
    "id": "mvJazlnMo4uo"
   },
   "outputs": [],
   "source": [
    "movie_neighbors(softmax_model, \"Aladdin\", DOT)\n",
    "movie_neighbors(softmax_model, \"Aladdin\", COSINE)"
   ]
  },
  {
   "cell_type": "code",
   "execution_count": null,
   "metadata": {
    "colab": {},
    "colab_type": "code",
    "id": "ReIP69-9o4ur"
   },
   "outputs": [],
   "source": [
    "movie_embedding_norm(softmax_model)"
   ]
  },
  {
   "cell_type": "code",
   "execution_count": null,
   "metadata": {
    "colab": {},
    "colab_type": "code",
    "id": "Trq0yYrXo4us"
   },
   "outputs": [],
   "source": [
    "tsne_movie_embeddings(softmax_model)"
   ]
  },
  {
   "cell_type": "markdown",
   "metadata": {
    "colab_type": "text",
    "id": "fZkZJ8yco4uu"
   },
   "source": [
    "## Congratulations!\n",
    "\n",
    "You have completed this lab.\n",
    "\n",
    "If you would like to further explore these models, we encourage you to try different hyperparameters and observe how this affects the quality of the model and the structure of the embedding space. Here are some suggestions:\n",
    "- Change the embedding dimension.\n",
    "- In the softmax model: change the number of hidden layers, and the input features. For example, you can try a model with no hidden layers, and only the movie ids as inputs.\n",
    "- Using other similarity measures: In this notebook, we used dot product $d(u, V_j) = \\langle u, V_j \\rangle$ and cosine $d(u, V_j) = \\frac{\\langle u, V_j \\rangle}{\\|u\\|\\|V_j\\|}$, and discussed how the norms of the embeddings affect the recommendations. You can also try other variants which apply a transformation to the norm, for example $d(u, V_j) = \\frac{\\langle u, V_j \\rangle}{\\|V_j\\|^\\alpha}$."
   ]
  },
  {
   "cell_type": "markdown",
   "metadata": {},
   "source": [
    "## Challenge\n",
    "\n",
    "With everything you learned during the Advanced Machine Learning on Google Cloud, can you try and push the model to the AI Platform for predictions?"
   ]
  },
  {
   "cell_type": "markdown",
   "metadata": {},
   "source": [
    "Copyright 2020 Google Inc. Licensed under the Apache License, Version 2.0 (the \"License\"); you may not use this file except in compliance with the License. You may obtain a copy of the License at http://www.apache.org/licenses/LICENSE-2.0 Unless required by applicable law or agreed to in writing, software distributed under the License is distributed on an \"AS IS\" BASIS, WITHOUT WARRANTIES OR CONDITIONS OF ANY KIND, either express or implied. See the License for the specific language governing permissions and limitations under the License"
   ]
  }
 ],
 "metadata": {
  "environment": {
   "name": "tf2-gpu.2-3.m74",
   "type": "gcloud",
   "uri": "gcr.io/deeplearning-platform-release/tf2-gpu.2-3:m74"
  },
  "kernelspec": {
   "display_name": "Python 3",
   "language": "python",
   "name": "python3"
  },
  "language_info": {
   "codemirror_mode": {
    "name": "ipython",
    "version": 3
   },
   "file_extension": ".py",
   "mimetype": "text/x-python",
   "name": "python",
   "nbconvert_exporter": "python",
   "pygments_lexer": "ipython3",
   "version": "3.7.10"
  }
 },
 "nbformat": 4,
 "nbformat_minor": 4
}
